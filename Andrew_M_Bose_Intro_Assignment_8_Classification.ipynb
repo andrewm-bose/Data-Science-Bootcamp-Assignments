{
  "nbformat": 4,
  "nbformat_minor": 0,
  "metadata": {
    "colab": {
      "name": "Andrew M Bose - LSDS Intro Assignment 8 - Classification.ipynb",
      "version": "0.3.2",
      "provenance": [],
      "collapsed_sections": [],
      "include_colab_link": true
    },
    "kernelspec": {
      "display_name": "Python 3",
      "language": "python",
      "name": "python3"
    }
  },
  "cells": [
    {
      "cell_type": "markdown",
      "metadata": {
        "id": "view-in-github",
        "colab_type": "text"
      },
      "source": [
        "<a href=\"https://colab.research.google.com/github/andrewm-bose/Data-Science-Bootcamp-Assignments/blob/master/Andrew_M_Bose_Intro_Assignment_8_Classification.ipynb\" target=\"_parent\"><img src=\"https://colab.research.google.com/assets/colab-badge.svg\" alt=\"Open In Colab\"/></a>"
      ]
    },
    {
      "metadata": {
        "id": "lOH73mi0Wc3q",
        "colab_type": "text"
      },
      "cell_type": "markdown",
      "source": [
        "# Lambda School, Intro to Data Science, Day 8 — Classification!"
      ]
    },
    {
      "metadata": {
        "id": "EQ6Yq0xkWc3r",
        "colab_type": "text"
      },
      "cell_type": "markdown",
      "source": [
        "## Assignment\n",
        "\n",
        "Run this cell to load the Titanic data:"
      ]
    },
    {
      "metadata": {
        "id": "MsZf-QBJWc3s",
        "colab_type": "code",
        "colab": {}
      },
      "cell_type": "code",
      "source": [
        "import pandas as pd\n",
        "import seaborn as sns\n",
        "import matplotlib.pyplot as plt\n",
        "from sklearn.model_selection import train_test_split\n",
        "from sklearn.datasets import make_classification\n",
        "from sklearn.neighbors import KNeighborsRegressor as knr\n",
        "from sklearn.metrics import mean_absolute_error\n",
        "from sklearn.linear_model import LinearRegression\n",
        "from sklearn.metrics import confusion_matrix\n",
        "from sklearn.tree import DecisionTreeClassifier\n"
      ],
      "execution_count": 0,
      "outputs": []
    },
    {
      "metadata": {
        "id": "YGlX5ATaL8Hl",
        "colab_type": "code",
        "colab": {}
      },
      "cell_type": "code",
      "source": [
        "train, test = train_test_split(sns.load_dataset('titanic').drop(columns=['alive']), random_state=0)\n",
        "target = 'survived'"
      ],
      "execution_count": 0,
      "outputs": []
    },
    {
      "metadata": {
        "id": "BWnyTrASWc3v",
        "colab_type": "text"
      },
      "cell_type": "markdown",
      "source": [
        "Then, train a [Logistic Regression](http://scikit-learn.org/stable/modules/generated/sklearn.linear_model.LogisticRegression.html#sklearn.linear_model.LogisticRegression.predict_proba), [Decision Tree](http://scikit-learn.org/stable/modules/generated/sklearn.tree.DecisionTreeClassifier.html), or [Random Forest](http://scikit-learn.org/stable/modules/generated/sklearn.ensemble.RandomForestClassifier.html) model. Use any features and parameters you want. \n",
        "\n",
        "Try to get better than 78.0% accuracy on the test set! (This is not required, but encouraged.)\n",
        "\n",
        "Do refer to the lecture notebook — but try not to copy-paste.\n",
        "\n",
        "> You must type each of these exercises in, manually. If you copy and paste, you might as well not even do them. The point of these exercises is to train your hands, your brain, and your mind in how to read, write, and see code. If you copy-paste, you are cheating yourself out of the effectiveness of the lessons. —*[Learn Python the Hard Way](https://learnpythonthehardway.org/book/intro.html)*\n",
        "\n",
        "After this, you may want to try [Kaggle's Titanic challenge](https://www.kaggle.com/c/titanic)!"
      ]
    },
    {
      "metadata": {
        "id": "FGT0WHTfWc3v",
        "colab_type": "code",
        "outputId": "bc0bdf08-8caa-48f2-c11a-5b80b1d90393",
        "colab": {
          "base_uri": "https://localhost:8080/",
          "height": 1030
        }
      },
      "cell_type": "code",
      "source": [
        "#WHAT DOES THE DATA LOOK LIKE?\n",
        "print('Train shape: ' + str(train.shape) + ', Test shape: ' + str(test.shape) )\n",
        "print(train.head())\n",
        "print(train.isnull().sum())\n",
        "print(test.head())\n",
        "print(test.isnull().sum())"
      ],
      "execution_count": 0,
      "outputs": [
        {
          "output_type": "stream",
          "text": [
            "Train shape: (668, 14), Test shape: (223, 14)\n",
            "     survived  pclass     sex   age  sibsp  parch     fare embarked   class  \\\n",
            "105         0       3    male  28.0      0      0   7.8958        S   Third   \n",
            "68          1       3  female  17.0      4      2   7.9250        S   Third   \n",
            "253         0       3    male  30.0      1      0  16.1000        S   Third   \n",
            "320         0       3    male  22.0      0      0   7.2500        S   Third   \n",
            "706         1       2  female  45.0      0      0  13.5000        S  Second   \n",
            "\n",
            "       who  adult_male deck  embark_town  alone  \n",
            "105    man        True  NaN  Southampton   True  \n",
            "68   woman       False  NaN  Southampton  False  \n",
            "253    man        True  NaN  Southampton  False  \n",
            "320    man        True  NaN  Southampton   True  \n",
            "706  woman       False  NaN  Southampton   True  \n",
            "survived         0\n",
            "pclass           0\n",
            "sex              0\n",
            "age            133\n",
            "sibsp            0\n",
            "parch            0\n",
            "fare             0\n",
            "embarked         2\n",
            "class            0\n",
            "who              0\n",
            "adult_male       0\n",
            "deck           512\n",
            "embark_town      2\n",
            "alone            0\n",
            "dtype: int64\n",
            "     survived  pclass     sex   age  sibsp  parch      fare embarked  class  \\\n",
            "495         0       3    male   NaN      0      0   14.4583        C  Third   \n",
            "648         0       3    male   NaN      0      0    7.5500        S  Third   \n",
            "278         0       3    male   7.0      4      1   29.1250        Q  Third   \n",
            "31          1       1  female   NaN      1      0  146.5208        C  First   \n",
            "255         1       3  female  29.0      0      2   15.2458        C  Third   \n",
            "\n",
            "       who  adult_male deck  embark_town  alone  \n",
            "495    man        True  NaN    Cherbourg   True  \n",
            "648    man        True  NaN  Southampton   True  \n",
            "278  child       False  NaN   Queenstown  False  \n",
            "31   woman       False    B    Cherbourg  False  \n",
            "255  woman       False  NaN    Cherbourg  False  \n",
            "survived         0\n",
            "pclass           0\n",
            "sex              0\n",
            "age             44\n",
            "sibsp            0\n",
            "parch            0\n",
            "fare             0\n",
            "embarked         0\n",
            "class            0\n",
            "who              0\n",
            "adult_male       0\n",
            "deck           176\n",
            "embark_town      0\n",
            "alone            0\n",
            "dtype: int64\n"
          ],
          "name": "stdout"
        }
      ]
    },
    {
      "metadata": {
        "id": "2bQPIq0F73Ri",
        "colab_type": "text"
      },
      "cell_type": "markdown",
      "source": [
        "## CLEAN THE DATA\n",
        "### Fix NaN in 'age'\n",
        "### 'deck' missing too many values -> drop\n",
        "###'embark_town' & 'embarked' missing in a couple rows -> drop rows"
      ]
    },
    {
      "metadata": {
        "id": "6i32MGNz7-Z6",
        "colab_type": "code",
        "colab": {}
      },
      "cell_type": "code",
      "source": [
        "#DROP DECK - MISSING TOO MANY VALUES \n",
        "#(DON'T DO FOR TEST, DON'T MESS WITH TEST DATA) ?\n",
        "train = train.drop('deck', axis=1)"
      ],
      "execution_count": 0,
      "outputs": []
    },
    {
      "metadata": {
        "id": "Vb3XQzUO9ZlF",
        "colab_type": "code",
        "outputId": "eb43db29-11e3-4fb6-8b09-dbf1225bed5d",
        "colab": {
          "base_uri": "https://localhost:8080/",
          "height": 1030
        }
      },
      "cell_type": "code",
      "source": [
        "train_cl = train\n",
        "test_cl = test\n",
        "\n",
        "#CLEAN 'age'\n",
        "train_cl.age.fillna(train_cl.age.mean(), inplace = True)\n",
        "test_cl.age.fillna(test_cl.age.mean(), inplace = True)\n",
        "\n",
        "\n",
        "#CLEAN 'embark_town'\n",
        "pre_drop_len = train.shape[0]\n",
        "train_cl = train_cl.dropna(subset = ['embarked', 'embark_town'])\n",
        "post_drop_len = train_cl.shape[0]\n",
        "\n",
        "test_cl = test_cl.dropna(subset = ['embarked', 'embark_town'])\n",
        "\n",
        "print('Train Rows dropped: ' + str(pre_drop_len - post_drop_len))\n",
        "print(train_cl.head(5))\n",
        "print(train_cl.isnull().sum())\n",
        "print('')\n",
        "print(test_cl.head(5))\n",
        "print(test_cl.isnull().sum())\n"
      ],
      "execution_count": 0,
      "outputs": [
        {
          "output_type": "stream",
          "text": [
            "Train Rows dropped: 2\n",
            "     survived  pclass     sex   age  sibsp  parch     fare embarked   class  \\\n",
            "105         0       3    male  28.0      0      0   7.8958        S   Third   \n",
            "68          1       3  female  17.0      4      2   7.9250        S   Third   \n",
            "253         0       3    male  30.0      1      0  16.1000        S   Third   \n",
            "320         0       3    male  22.0      0      0   7.2500        S   Third   \n",
            "706         1       2  female  45.0      0      0  13.5000        S  Second   \n",
            "\n",
            "       who  adult_male  embark_town  alone  \n",
            "105    man        True  Southampton   True  \n",
            "68   woman       False  Southampton  False  \n",
            "253    man        True  Southampton  False  \n",
            "320    man        True  Southampton   True  \n",
            "706  woman       False  Southampton   True  \n",
            "survived       0\n",
            "pclass         0\n",
            "sex            0\n",
            "age            0\n",
            "sibsp          0\n",
            "parch          0\n",
            "fare           0\n",
            "embarked       0\n",
            "class          0\n",
            "who            0\n",
            "adult_male     0\n",
            "embark_town    0\n",
            "alone          0\n",
            "dtype: int64\n",
            "\n",
            "     survived  pclass     sex        age  sibsp  parch      fare embarked  \\\n",
            "495         0       3    male  29.098715      0      0   14.4583        C   \n",
            "648         0       3    male  29.098715      0      0    7.5500        S   \n",
            "278         0       3    male   7.000000      4      1   29.1250        Q   \n",
            "31          1       1  female  29.098715      1      0  146.5208        C   \n",
            "255         1       3  female  29.000000      0      2   15.2458        C   \n",
            "\n",
            "     class    who  adult_male deck  embark_town  alone  \n",
            "495  Third    man        True  NaN    Cherbourg   True  \n",
            "648  Third    man        True  NaN  Southampton   True  \n",
            "278  Third  child       False  NaN   Queenstown  False  \n",
            "31   First  woman       False    B    Cherbourg  False  \n",
            "255  Third  woman       False  NaN    Cherbourg  False  \n",
            "survived         0\n",
            "pclass           0\n",
            "sex              0\n",
            "age              0\n",
            "sibsp            0\n",
            "parch            0\n",
            "fare             0\n",
            "embarked         0\n",
            "class            0\n",
            "who              0\n",
            "adult_male       0\n",
            "deck           176\n",
            "embark_town      0\n",
            "alone            0\n",
            "dtype: int64\n"
          ],
          "name": "stdout"
        }
      ]
    },
    {
      "metadata": {
        "id": "W_XXqt1lArPC",
        "colab_type": "text"
      },
      "cell_type": "markdown",
      "source": [
        "##PRE-PROCESS\n",
        "###Convert strings to ints - sex, embarked, class, who, embark_town, adult_male, alone"
      ]
    },
    {
      "metadata": {
        "id": "BN9QUZd8BbW3",
        "colab_type": "code",
        "outputId": "bcaa4443-5313-4bb2-b763-e1934b6b9ec6",
        "colab": {
          "base_uri": "https://localhost:8080/",
          "height": 304
        }
      },
      "cell_type": "code",
      "source": [
        "#WHAT ARE POSSIBLE VALUES?\n",
        "print('sex: '        + str(set(train_cl.sex)))\n",
        "print('embarked: '   + str(set(train_cl.embarked)))\n",
        "print('who: '        + str(set(train_cl.who)))\n",
        "print('embark_town: '+ str(set(train_cl.embark_town)))\n",
        "print('adult_male: '+ str(set(train_cl.adult_male)))\n",
        "print('alone: '+ str(set(train_cl.alone)))\n",
        "\n",
        "#NOTE: I would like to convert \"class\" but I think python is seeing it as a\n",
        "# a functional term and not a label. Keeps outputting errors. I'll leave it for \n",
        "#now. The commented code below won't run.\n",
        "\n",
        "#train_cl.rename(columns={\"class\": \"Class\"})\n",
        "#print('class: '      + str(set(train_cl.blarg)))\n",
        "\n",
        "train_cl.head()"
      ],
      "execution_count": 0,
      "outputs": [
        {
          "output_type": "stream",
          "text": [
            "sex: {'female', 'male'}\n",
            "embarked: {'S', 'Q', 'C'}\n",
            "who: {'child', 'man', 'woman'}\n",
            "embark_town: {'Southampton', 'Queenstown', 'Cherbourg'}\n",
            "adult_male: {False, True}\n",
            "alone: {False, True}\n"
          ],
          "name": "stdout"
        },
        {
          "output_type": "execute_result",
          "data": {
            "text/html": [
              "<div>\n",
              "<style scoped>\n",
              "    .dataframe tbody tr th:only-of-type {\n",
              "        vertical-align: middle;\n",
              "    }\n",
              "\n",
              "    .dataframe tbody tr th {\n",
              "        vertical-align: top;\n",
              "    }\n",
              "\n",
              "    .dataframe thead th {\n",
              "        text-align: right;\n",
              "    }\n",
              "</style>\n",
              "<table border=\"1\" class=\"dataframe\">\n",
              "  <thead>\n",
              "    <tr style=\"text-align: right;\">\n",
              "      <th></th>\n",
              "      <th>survived</th>\n",
              "      <th>pclass</th>\n",
              "      <th>sex</th>\n",
              "      <th>age</th>\n",
              "      <th>sibsp</th>\n",
              "      <th>parch</th>\n",
              "      <th>fare</th>\n",
              "      <th>embarked</th>\n",
              "      <th>class</th>\n",
              "      <th>who</th>\n",
              "      <th>adult_male</th>\n",
              "      <th>embark_town</th>\n",
              "      <th>alone</th>\n",
              "    </tr>\n",
              "  </thead>\n",
              "  <tbody>\n",
              "    <tr>\n",
              "      <th>105</th>\n",
              "      <td>0</td>\n",
              "      <td>3</td>\n",
              "      <td>male</td>\n",
              "      <td>28.0</td>\n",
              "      <td>0</td>\n",
              "      <td>0</td>\n",
              "      <td>7.8958</td>\n",
              "      <td>S</td>\n",
              "      <td>Third</td>\n",
              "      <td>man</td>\n",
              "      <td>True</td>\n",
              "      <td>Southampton</td>\n",
              "      <td>True</td>\n",
              "    </tr>\n",
              "    <tr>\n",
              "      <th>68</th>\n",
              "      <td>1</td>\n",
              "      <td>3</td>\n",
              "      <td>female</td>\n",
              "      <td>17.0</td>\n",
              "      <td>4</td>\n",
              "      <td>2</td>\n",
              "      <td>7.9250</td>\n",
              "      <td>S</td>\n",
              "      <td>Third</td>\n",
              "      <td>woman</td>\n",
              "      <td>False</td>\n",
              "      <td>Southampton</td>\n",
              "      <td>False</td>\n",
              "    </tr>\n",
              "    <tr>\n",
              "      <th>253</th>\n",
              "      <td>0</td>\n",
              "      <td>3</td>\n",
              "      <td>male</td>\n",
              "      <td>30.0</td>\n",
              "      <td>1</td>\n",
              "      <td>0</td>\n",
              "      <td>16.1000</td>\n",
              "      <td>S</td>\n",
              "      <td>Third</td>\n",
              "      <td>man</td>\n",
              "      <td>True</td>\n",
              "      <td>Southampton</td>\n",
              "      <td>False</td>\n",
              "    </tr>\n",
              "    <tr>\n",
              "      <th>320</th>\n",
              "      <td>0</td>\n",
              "      <td>3</td>\n",
              "      <td>male</td>\n",
              "      <td>22.0</td>\n",
              "      <td>0</td>\n",
              "      <td>0</td>\n",
              "      <td>7.2500</td>\n",
              "      <td>S</td>\n",
              "      <td>Third</td>\n",
              "      <td>man</td>\n",
              "      <td>True</td>\n",
              "      <td>Southampton</td>\n",
              "      <td>True</td>\n",
              "    </tr>\n",
              "    <tr>\n",
              "      <th>706</th>\n",
              "      <td>1</td>\n",
              "      <td>2</td>\n",
              "      <td>female</td>\n",
              "      <td>45.0</td>\n",
              "      <td>0</td>\n",
              "      <td>0</td>\n",
              "      <td>13.5000</td>\n",
              "      <td>S</td>\n",
              "      <td>Second</td>\n",
              "      <td>woman</td>\n",
              "      <td>False</td>\n",
              "      <td>Southampton</td>\n",
              "      <td>True</td>\n",
              "    </tr>\n",
              "  </tbody>\n",
              "</table>\n",
              "</div>"
            ],
            "text/plain": [
              "     survived  pclass     sex   age  sibsp  parch     fare embarked   class  \\\n",
              "105         0       3    male  28.0      0      0   7.8958        S   Third   \n",
              "68          1       3  female  17.0      4      2   7.9250        S   Third   \n",
              "253         0       3    male  30.0      1      0  16.1000        S   Third   \n",
              "320         0       3    male  22.0      0      0   7.2500        S   Third   \n",
              "706         1       2  female  45.0      0      0  13.5000        S  Second   \n",
              "\n",
              "       who  adult_male  embark_town  alone  \n",
              "105    man        True  Southampton   True  \n",
              "68   woman       False  Southampton  False  \n",
              "253    man        True  Southampton  False  \n",
              "320    man        True  Southampton   True  \n",
              "706  woman       False  Southampton   True  "
            ]
          },
          "metadata": {
            "tags": []
          },
          "execution_count": 274
        }
      ]
    },
    {
      "metadata": {
        "id": "VGkstM_QBCwM",
        "colab_type": "code",
        "outputId": "09f6ebe0-4b72-4e4d-a1f0-5cff3319caca",
        "colab": {
          "base_uri": "https://localhost:8080/",
          "height": 304
        }
      },
      "cell_type": "code",
      "source": [
        "#CONVERT TRAIN VALUES TO INTEGERS\n",
        "train_procd = train_cl\n",
        "train_procd.sex = train_procd.sex.map({'male':0 , 'female':1})\n",
        "train_procd.embarked = train_procd.embarked.map({'C':0 , 'Q':1, 'S':2})\n",
        "train_procd.who = train_procd.who.map({'man':0 , 'woman':1, 'child': 2})\n",
        "train_procd.embark_town = train_procd.embark_town.map({'Cherbourg':0 , 'Southampton':1 , 'Queenstown':2})\n",
        "\n",
        "#CLASS NOT WORKING - as mentioned above\n",
        "#train_procd.class.map({'First':1 , 'Second':2, 'Third':3, 'Fourth':4 })\n",
        "\n",
        "train_procd.head()\n"
      ],
      "execution_count": 0,
      "outputs": [
        {
          "output_type": "stream",
          "text": [
            "/usr/local/lib/python3.6/dist-packages/pandas/core/generic.py:3643: SettingWithCopyWarning: \n",
            "A value is trying to be set on a copy of a slice from a DataFrame.\n",
            "Try using .loc[row_indexer,col_indexer] = value instead\n",
            "\n",
            "See the caveats in the documentation: http://pandas.pydata.org/pandas-docs/stable/indexing.html#indexing-view-versus-copy\n",
            "  self[name] = value\n"
          ],
          "name": "stderr"
        },
        {
          "output_type": "execute_result",
          "data": {
            "text/html": [
              "<div>\n",
              "<style scoped>\n",
              "    .dataframe tbody tr th:only-of-type {\n",
              "        vertical-align: middle;\n",
              "    }\n",
              "\n",
              "    .dataframe tbody tr th {\n",
              "        vertical-align: top;\n",
              "    }\n",
              "\n",
              "    .dataframe thead th {\n",
              "        text-align: right;\n",
              "    }\n",
              "</style>\n",
              "<table border=\"1\" class=\"dataframe\">\n",
              "  <thead>\n",
              "    <tr style=\"text-align: right;\">\n",
              "      <th></th>\n",
              "      <th>survived</th>\n",
              "      <th>pclass</th>\n",
              "      <th>sex</th>\n",
              "      <th>age</th>\n",
              "      <th>sibsp</th>\n",
              "      <th>parch</th>\n",
              "      <th>fare</th>\n",
              "      <th>embarked</th>\n",
              "      <th>class</th>\n",
              "      <th>who</th>\n",
              "      <th>adult_male</th>\n",
              "      <th>embark_town</th>\n",
              "      <th>alone</th>\n",
              "    </tr>\n",
              "  </thead>\n",
              "  <tbody>\n",
              "    <tr>\n",
              "      <th>105</th>\n",
              "      <td>0</td>\n",
              "      <td>3</td>\n",
              "      <td>0</td>\n",
              "      <td>28.0</td>\n",
              "      <td>0</td>\n",
              "      <td>0</td>\n",
              "      <td>7.8958</td>\n",
              "      <td>2</td>\n",
              "      <td>Third</td>\n",
              "      <td>0</td>\n",
              "      <td>True</td>\n",
              "      <td>1</td>\n",
              "      <td>True</td>\n",
              "    </tr>\n",
              "    <tr>\n",
              "      <th>68</th>\n",
              "      <td>1</td>\n",
              "      <td>3</td>\n",
              "      <td>1</td>\n",
              "      <td>17.0</td>\n",
              "      <td>4</td>\n",
              "      <td>2</td>\n",
              "      <td>7.9250</td>\n",
              "      <td>2</td>\n",
              "      <td>Third</td>\n",
              "      <td>1</td>\n",
              "      <td>False</td>\n",
              "      <td>1</td>\n",
              "      <td>False</td>\n",
              "    </tr>\n",
              "    <tr>\n",
              "      <th>253</th>\n",
              "      <td>0</td>\n",
              "      <td>3</td>\n",
              "      <td>0</td>\n",
              "      <td>30.0</td>\n",
              "      <td>1</td>\n",
              "      <td>0</td>\n",
              "      <td>16.1000</td>\n",
              "      <td>2</td>\n",
              "      <td>Third</td>\n",
              "      <td>0</td>\n",
              "      <td>True</td>\n",
              "      <td>1</td>\n",
              "      <td>False</td>\n",
              "    </tr>\n",
              "    <tr>\n",
              "      <th>320</th>\n",
              "      <td>0</td>\n",
              "      <td>3</td>\n",
              "      <td>0</td>\n",
              "      <td>22.0</td>\n",
              "      <td>0</td>\n",
              "      <td>0</td>\n",
              "      <td>7.2500</td>\n",
              "      <td>2</td>\n",
              "      <td>Third</td>\n",
              "      <td>0</td>\n",
              "      <td>True</td>\n",
              "      <td>1</td>\n",
              "      <td>True</td>\n",
              "    </tr>\n",
              "    <tr>\n",
              "      <th>706</th>\n",
              "      <td>1</td>\n",
              "      <td>2</td>\n",
              "      <td>1</td>\n",
              "      <td>45.0</td>\n",
              "      <td>0</td>\n",
              "      <td>0</td>\n",
              "      <td>13.5000</td>\n",
              "      <td>2</td>\n",
              "      <td>Second</td>\n",
              "      <td>1</td>\n",
              "      <td>False</td>\n",
              "      <td>1</td>\n",
              "      <td>True</td>\n",
              "    </tr>\n",
              "  </tbody>\n",
              "</table>\n",
              "</div>"
            ],
            "text/plain": [
              "     survived  pclass  sex   age  sibsp  parch     fare  embarked   class  \\\n",
              "105         0       3    0  28.0      0      0   7.8958         2   Third   \n",
              "68          1       3    1  17.0      4      2   7.9250         2   Third   \n",
              "253         0       3    0  30.0      1      0  16.1000         2   Third   \n",
              "320         0       3    0  22.0      0      0   7.2500         2   Third   \n",
              "706         1       2    1  45.0      0      0  13.5000         2  Second   \n",
              "\n",
              "     who  adult_male  embark_town  alone  \n",
              "105    0        True            1   True  \n",
              "68     1       False            1  False  \n",
              "253    0        True            1  False  \n",
              "320    0        True            1   True  \n",
              "706    1       False            1   True  "
            ]
          },
          "metadata": {
            "tags": []
          },
          "execution_count": 275
        }
      ]
    },
    {
      "metadata": {
        "id": "yspmQyTHzNtd",
        "colab_type": "code",
        "outputId": "12c893e4-945b-4022-ab3d-f5973cf872f3",
        "colab": {
          "base_uri": "https://localhost:8080/",
          "height": 197
        }
      },
      "cell_type": "code",
      "source": [
        "#CONVERT TEST VALUES TO INTEGERS\n",
        "test_procd = test_cl\n",
        "test_procd.sex = test_procd.sex.map({'male':0 , 'female':1})\n",
        "test_procd.embarked = test_procd.embarked.map({'C':0 , 'Q':1, 'S':2})\n",
        "test_procd.who = test_procd.who.map({'man':0 , 'woman':1, 'child': 2})\n",
        "test_procd.embark_town = test_procd.embark_town.map({'Cherbourg':0 , 'Southampton':1 , 'Queenstown':2})\n",
        "\n",
        "#CLASS NOT WORKING - as mentioned above\n",
        "#test_procd.class.map({'First':1 , 'Second':2, 'Third':3, 'Fourth':4 })\n",
        "\n",
        "test_procd.head()"
      ],
      "execution_count": 0,
      "outputs": [
        {
          "output_type": "execute_result",
          "data": {
            "text/html": [
              "<div>\n",
              "<style scoped>\n",
              "    .dataframe tbody tr th:only-of-type {\n",
              "        vertical-align: middle;\n",
              "    }\n",
              "\n",
              "    .dataframe tbody tr th {\n",
              "        vertical-align: top;\n",
              "    }\n",
              "\n",
              "    .dataframe thead th {\n",
              "        text-align: right;\n",
              "    }\n",
              "</style>\n",
              "<table border=\"1\" class=\"dataframe\">\n",
              "  <thead>\n",
              "    <tr style=\"text-align: right;\">\n",
              "      <th></th>\n",
              "      <th>survived</th>\n",
              "      <th>pclass</th>\n",
              "      <th>sex</th>\n",
              "      <th>age</th>\n",
              "      <th>sibsp</th>\n",
              "      <th>parch</th>\n",
              "      <th>fare</th>\n",
              "      <th>embarked</th>\n",
              "      <th>class</th>\n",
              "      <th>who</th>\n",
              "      <th>adult_male</th>\n",
              "      <th>deck</th>\n",
              "      <th>embark_town</th>\n",
              "      <th>alone</th>\n",
              "    </tr>\n",
              "  </thead>\n",
              "  <tbody>\n",
              "    <tr>\n",
              "      <th>495</th>\n",
              "      <td>0</td>\n",
              "      <td>3</td>\n",
              "      <td>0</td>\n",
              "      <td>29.098715</td>\n",
              "      <td>0</td>\n",
              "      <td>0</td>\n",
              "      <td>14.4583</td>\n",
              "      <td>0</td>\n",
              "      <td>Third</td>\n",
              "      <td>0</td>\n",
              "      <td>True</td>\n",
              "      <td>NaN</td>\n",
              "      <td>0</td>\n",
              "      <td>True</td>\n",
              "    </tr>\n",
              "    <tr>\n",
              "      <th>648</th>\n",
              "      <td>0</td>\n",
              "      <td>3</td>\n",
              "      <td>0</td>\n",
              "      <td>29.098715</td>\n",
              "      <td>0</td>\n",
              "      <td>0</td>\n",
              "      <td>7.5500</td>\n",
              "      <td>2</td>\n",
              "      <td>Third</td>\n",
              "      <td>0</td>\n",
              "      <td>True</td>\n",
              "      <td>NaN</td>\n",
              "      <td>1</td>\n",
              "      <td>True</td>\n",
              "    </tr>\n",
              "    <tr>\n",
              "      <th>278</th>\n",
              "      <td>0</td>\n",
              "      <td>3</td>\n",
              "      <td>0</td>\n",
              "      <td>7.000000</td>\n",
              "      <td>4</td>\n",
              "      <td>1</td>\n",
              "      <td>29.1250</td>\n",
              "      <td>1</td>\n",
              "      <td>Third</td>\n",
              "      <td>2</td>\n",
              "      <td>False</td>\n",
              "      <td>NaN</td>\n",
              "      <td>2</td>\n",
              "      <td>False</td>\n",
              "    </tr>\n",
              "    <tr>\n",
              "      <th>31</th>\n",
              "      <td>1</td>\n",
              "      <td>1</td>\n",
              "      <td>1</td>\n",
              "      <td>29.098715</td>\n",
              "      <td>1</td>\n",
              "      <td>0</td>\n",
              "      <td>146.5208</td>\n",
              "      <td>0</td>\n",
              "      <td>First</td>\n",
              "      <td>1</td>\n",
              "      <td>False</td>\n",
              "      <td>B</td>\n",
              "      <td>0</td>\n",
              "      <td>False</td>\n",
              "    </tr>\n",
              "    <tr>\n",
              "      <th>255</th>\n",
              "      <td>1</td>\n",
              "      <td>3</td>\n",
              "      <td>1</td>\n",
              "      <td>29.000000</td>\n",
              "      <td>0</td>\n",
              "      <td>2</td>\n",
              "      <td>15.2458</td>\n",
              "      <td>0</td>\n",
              "      <td>Third</td>\n",
              "      <td>1</td>\n",
              "      <td>False</td>\n",
              "      <td>NaN</td>\n",
              "      <td>0</td>\n",
              "      <td>False</td>\n",
              "    </tr>\n",
              "  </tbody>\n",
              "</table>\n",
              "</div>"
            ],
            "text/plain": [
              "     survived  pclass  sex        age  sibsp  parch      fare  embarked  \\\n",
              "495         0       3    0  29.098715      0      0   14.4583         0   \n",
              "648         0       3    0  29.098715      0      0    7.5500         2   \n",
              "278         0       3    0   7.000000      4      1   29.1250         1   \n",
              "31          1       1    1  29.098715      1      0  146.5208         0   \n",
              "255         1       3    1  29.000000      0      2   15.2458         0   \n",
              "\n",
              "     class  who  adult_male deck  embark_town  alone  \n",
              "495  Third    0        True  NaN            0   True  \n",
              "648  Third    0        True  NaN            1   True  \n",
              "278  Third    2       False  NaN            2  False  \n",
              "31   First    1       False    B            0  False  \n",
              "255  Third    1       False  NaN            0  False  "
            ]
          },
          "metadata": {
            "tags": []
          },
          "execution_count": 276
        }
      ]
    },
    {
      "metadata": {
        "id": "OfrwpL4UKSbd",
        "colab_type": "code",
        "outputId": "7d4d15d0-82da-45f2-e43a-087bdca09906",
        "colab": {
          "base_uri": "https://localhost:8080/",
          "height": 70
        }
      },
      "cell_type": "code",
      "source": [
        "#DOES 'adult_male' CONTRIBUTE TO ANYTHING?\n",
        "compare_sex_adult = list(train_procd.sex != train_procd.adult_male)\n",
        "is_child = list(train.who)\n",
        "print(compare_sex_adult.count(True))\n",
        "print(is_child.count('child'))\n",
        "print(train_procd.shape[0])\n"
      ],
      "execution_count": 0,
      "outputs": [
        {
          "output_type": "stream",
          "text": [
            "636\n",
            "59\n",
            "666\n"
          ],
          "name": "stdout"
        }
      ]
    },
    {
      "metadata": {
        "id": "E1OAiowBQqxU",
        "colab_type": "code",
        "outputId": "f375cb07-12b4-4b46-fa48-d1a5f1f7a678",
        "colab": {
          "base_uri": "https://localhost:8080/",
          "height": 52
        }
      },
      "cell_type": "code",
      "source": [
        "#HOW MANY CHILDREN ARE THERE\n",
        "is_child1 = list(train.who)\n",
        "is_child2 = list(train_cl.who)\n",
        "is_child3 = list(train_procd.who)\n",
        "print(is_child1.count('child'))\n",
        "print(is_child3.count(2))"
      ],
      "execution_count": 0,
      "outputs": [
        {
          "output_type": "stream",
          "text": [
            "59\n",
            "59\n"
          ],
          "name": "stdout"
        }
      ]
    },
    {
      "metadata": {
        "id": "XFJFdWrdRq-H",
        "colab_type": "text"
      },
      "cell_type": "markdown",
      "source": [
        "### So not sure, but it looks like there errors in the data - ~30 people are are male but NOT an adult male, but 59 children. So how can you be male, not an adult male, and not a child?\n",
        "\n",
        "###I'll leave for now and move on."
      ]
    },
    {
      "metadata": {
        "id": "_RNZrkJct_N8",
        "colab_type": "code",
        "outputId": "44f9a7dd-9eee-4cf2-c121-69bfef7ff42d",
        "colab": {
          "base_uri": "https://localhost:8080/",
          "height": 70
        }
      },
      "cell_type": "code",
      "source": [
        "#THE MINIUM BENCHMARK TO BEAT\n",
        "print(train_procd.survived.value_counts(normalize=True) )"
      ],
      "execution_count": 0,
      "outputs": [
        {
          "output_type": "stream",
          "text": [
            "0    0.615616\n",
            "1    0.384384\n",
            "Name: survived, dtype: float64\n"
          ],
          "name": "stdout"
        }
      ]
    },
    {
      "metadata": {
        "id": "z1MzU61j1S9m",
        "colab_type": "text"
      },
      "cell_type": "markdown",
      "source": [
        "###Create a confusion Matrix function"
      ]
    },
    {
      "metadata": {
        "id": "AQ1R43xQ1XjO",
        "colab_type": "code",
        "colab": {}
      },
      "cell_type": "code",
      "source": [
        "#I tried making this myself, but it ultimately ended up being the same as the \n",
        "#lesson because I couldn't think of any way to improve on it/change it\n",
        "\n",
        "def matrix(y_true,y_pred):\n",
        "  data = confusion_matrix(y_true, y_pred)\n",
        "  index = ['Actual 0', 'Actual 1']\n",
        "  columns = ['Predicted 0', 'Predicted 1']\n",
        "  return pd.DataFrame(data, index, columns)"
      ],
      "execution_count": 0,
      "outputs": []
    },
    {
      "metadata": {
        "id": "PIF-yvT70Gfk",
        "colab_type": "text"
      },
      "cell_type": "markdown",
      "source": [
        "##A Logistic Model >>>"
      ]
    },
    {
      "metadata": {
        "id": "UeqaGuCNNfbE",
        "colab_type": "code",
        "colab": {}
      },
      "cell_type": "code",
      "source": [
        "from sklearn.linear_model import LogisticRegression\n",
        "from sklearn.metrics import accuracy_score"
      ],
      "execution_count": 0,
      "outputs": []
    },
    {
      "metadata": {
        "id": "nUcET81IR_dW",
        "colab_type": "code",
        "outputId": "fb63292a-7eb7-4463-fc8b-56148936b2d2",
        "colab": {
          "base_uri": "https://localhost:8080/",
          "height": 178
        }
      },
      "cell_type": "code",
      "source": [
        "#CREATE A LOGISTIC MODEL\n",
        "\n",
        "#CREATE THE MODEL - PICK THE FEATURES\n",
        "log_model = LogisticRegression()\n",
        "log_features = ['who', 'sex']\n",
        "log_target = 'survived'\n",
        "log_model.fit(train_procd[log_features], train_procd[log_target])\n",
        "\n",
        "#CALCULATE THE PREDICTIVE VALUES\n",
        "log_y_true = train_procd[log_target]\n",
        "log_y_pred = log_model.predict(train_procd[log_features])\n",
        "log_train_err = mean_absolute_error(log_y_true, log_y_pred)\n",
        "log_train_acc = accuracy_score(log_y_true, log_y_pred)\n",
        "                               \n",
        "print('Train Error: ' + str(log_train_err))\n",
        "print('Train Accuracy: ' + str(accuracy_score(log_y_true, log_y_pred)))\n",
        "print('')\n",
        "print(matrix(log_y_true, log_y_pred))"
      ],
      "execution_count": 0,
      "outputs": [
        {
          "output_type": "stream",
          "text": [
            "Train Error: 0.21171171171171171\n",
            "Train Accuracy: 0.7882882882882883\n",
            "\n",
            "          Predicted 0  Predicted 1\n",
            "Actual 0          353           57\n",
            "Actual 1           84          172\n"
          ],
          "name": "stdout"
        },
        {
          "output_type": "stream",
          "text": [
            "/usr/local/lib/python3.6/dist-packages/sklearn/linear_model/logistic.py:433: FutureWarning: Default solver will be changed to 'lbfgs' in 0.22. Specify a solver to silence this warning.\n",
            "  FutureWarning)\n"
          ],
          "name": "stderr"
        }
      ]
    },
    {
      "metadata": {
        "id": "tJd8Rg0U40bn",
        "colab_type": "code",
        "outputId": "34e6fb20-3380-46d8-8a50-de830a62b4bd",
        "colab": {
          "base_uri": "https://localhost:8080/",
          "height": 514
        }
      },
      "cell_type": "code",
      "source": [
        "#WHAT DOES TEST LOOK LIKE RIGHT NOW?\n",
        "print(test_procd.head())\n",
        "print(test_procd.isnull().sum())"
      ],
      "execution_count": 0,
      "outputs": [
        {
          "output_type": "stream",
          "text": [
            "     survived  pclass  sex        age  sibsp  parch      fare  embarked  \\\n",
            "495         0       3    0  29.098715      0      0   14.4583         0   \n",
            "648         0       3    0  29.098715      0      0    7.5500         2   \n",
            "278         0       3    0   7.000000      4      1   29.1250         1   \n",
            "31          1       1    1  29.098715      1      0  146.5208         0   \n",
            "255         1       3    1  29.000000      0      2   15.2458         0   \n",
            "\n",
            "     class  who  adult_male deck  embark_town  alone  \n",
            "495  Third    0        True  NaN            0   True  \n",
            "648  Third    0        True  NaN            1   True  \n",
            "278  Third    2       False  NaN            2  False  \n",
            "31   First    1       False    B            0  False  \n",
            "255  Third    1       False  NaN            0  False  \n",
            "survived         0\n",
            "pclass           0\n",
            "sex              0\n",
            "age              0\n",
            "sibsp            0\n",
            "parch            0\n",
            "fare             0\n",
            "embarked         0\n",
            "class            0\n",
            "who              0\n",
            "adult_male       0\n",
            "deck           176\n",
            "embark_town      0\n",
            "alone            0\n",
            "dtype: int64\n"
          ],
          "name": "stdout"
        }
      ]
    },
    {
      "metadata": {
        "id": "rlqDzq_Ayv86",
        "colab_type": "code",
        "outputId": "a8e98453-c7f6-486a-eb11-88339fcec2ed",
        "colab": {
          "base_uri": "https://localhost:8080/",
          "height": 123
        }
      },
      "cell_type": "code",
      "source": [
        "#TEST THE LOGISTIC MODEL\n",
        "\n",
        "#CALCULATE THE PREDICTIVE VALUES\n",
        "log_y_true = test_procd[log_target]\n",
        "log_y_pred = log_model.predict(test_procd[log_features])\n",
        "log_test_err = mean_absolute_error(log_y_true, log_y_pred)\n",
        "log_test_acc = accuracy_score(log_y_true, log_y_pred)\n",
        "                               \n",
        "print('Test Error: ' + str(log_test_err))\n",
        "print('Test Accuracy: ' + str(accuracy_score(log_y_true, log_y_pred)))\n",
        "print('')\n",
        "print(matrix(log_y_true, log_y_pred))"
      ],
      "execution_count": 0,
      "outputs": [
        {
          "output_type": "stream",
          "text": [
            "Test Error: 0.21973094170403587\n",
            "Test Accuracy: 0.7802690582959642\n",
            "\n",
            "          Predicted 0  Predicted 1\n",
            "Actual 0          115           24\n",
            "Actual 1           25           59\n"
          ],
          "name": "stdout"
        }
      ]
    },
    {
      "metadata": {
        "id": "8iM9BFVP6mCg",
        "colab_type": "code",
        "outputId": "38a4b4fe-8811-4edc-982b-d04aba1c4aff",
        "colab": {
          "base_uri": "https://localhost:8080/",
          "height": 361
        }
      },
      "cell_type": "code",
      "source": [
        "#PLOT WEIGHTS\n",
        "pd.Series(log_model.coef_[0], log_features).plot.barh()\n",
        "plt.title('Logistic Regression coefficients for ' + str(log_features))\n",
        "plt.show()"
      ],
      "execution_count": 0,
      "outputs": [
        {
          "output_type": "display_data",
          "data": {
            "image/png": "[encoded data removed]",
            "text/plain": [
              "<Figure size 576x396 with 1 Axes>"
            ]
          },
          "metadata": {
            "tags": []
          }
        }
      ]
    },
    {
      "metadata": {
        "id": "BMPXphXpz1x5",
        "colab_type": "text"
      },
      "cell_type": "markdown",
      "source": [
        "##A Decision Tree"
      ]
    },
    {
      "metadata": {
        "id": "cW4ZDt_Wz6ZR",
        "colab_type": "code",
        "outputId": "364c43cd-9077-4316-efec-e2bfdbfd66e3",
        "colab": {
          "base_uri": "https://localhost:8080/",
          "height": 301
        }
      },
      "cell_type": "code",
      "source": [
        "dec_features = ['who', 'fare', 'pclass']\n",
        "dec_target = 'survived'\n",
        "\n",
        "#LET'S TRY A RANGE OF DEPTHS\n",
        "for n in range(6,10):      #CHOOSE N-DEGREES HERE\n",
        "\n",
        "  #CREATE DECISION TREE MODEL\n",
        "  dec_model = DecisionTreeClassifier(max_depth=n)\n",
        "  dec_model.fit(train_procd[dec_features], train_procd[dec_target])\n",
        "\n",
        "  \n",
        "  #CALCULATE THE PREDICTIVE VALUES \n",
        "  dec_y_true = train_procd[dec_target] \n",
        "  dec_y_pred = dec_model.predict(train_procd[dec_features]) \n",
        "  dec_train_err = mean_absolute_error(dec_y_true, dec_y_pred) \n",
        "  dec_train_acc = accuracy_score(dec_y_true, dec_y_pred)\n",
        "  print('Depth: ' + str(n)) \n",
        "#  print('Train Error: ' + str(dec_train_err)) \n",
        "  print('Train Accuracy: ' + str(accuracy_score(dec_y_true, dec_y_pred))) \n",
        "#  print('') \n",
        "#  print(matrix(dec_y_true, dec_y_pred))\n",
        "\n",
        "  \n",
        "  #TEST THE DECISION TREE\n",
        "\n",
        "  #CALCULATE THE PREDICTIVE VALUES\n",
        "  dec_y_true = test_procd[dec_target]\n",
        "  dec_y_pred = dec_model.predict(test_procd[dec_features])\n",
        "  dec_test_err = mean_absolute_error(dec_y_true, dec_y_pred)\n",
        "  dec_test_acc = accuracy_score(dec_y_true, dec_y_pred)\n",
        "                               \n",
        "#  print('Test Error: ' + str(dec_test_err))\n",
        "  print('Test Accuracy: ' + str(accuracy_score(dec_y_true, dec_y_pred)))\n",
        "  print('')\n",
        "#  print(matrix(dec_y_true, dec_y_pred))"
      ],
      "execution_count": 0,
      "outputs": [
        {
          "output_type": "stream",
          "text": [
            "Depth: 6\n",
            "Train Accuracy: 0.8618618618618619\n",
            "Test Accuracy: 0.8251121076233184\n",
            "\n",
            "Depth: 7\n",
            "Train Accuracy: 0.8678678678678678\n",
            "Test Accuracy: 0.8340807174887892\n",
            "\n",
            "Depth: 8\n",
            "Train Accuracy: 0.8738738738738738\n",
            "Test Accuracy: 0.8430493273542601\n",
            "\n",
            "Depth: 9\n",
            "Train Accuracy: 0.8828828828828829\n",
            "Test Accuracy: 0.8609865470852018\n",
            "\n"
          ],
          "name": "stdout"
        }
      ]
    },
    {
      "metadata": {
        "id": "ApfJcszTCp8X",
        "colab_type": "text"
      },
      "cell_type": "markdown",
      "source": [
        "###sex + age ~78.0% @ Depth = 4\n",
        "###who + fare ~83% @ Depth = 8\n",
        "##who + fare + pclass ~86% @ Depth = 9"
      ]
    },
    {
      "metadata": {
        "id": "FtooRZYhAXZP",
        "colab_type": "code",
        "colab": {}
      },
      "cell_type": "code",
      "source": [
        "import graphviz\n",
        "from sklearn.tree import export_graphviz\n",
        "\n"
      ],
      "execution_count": 0,
      "outputs": []
    },
    {
      "metadata": {
        "id": "VnTjkITqAZTv",
        "colab_type": "code",
        "outputId": "e6c2d436-73ae-4110-e114-f06f20822016",
        "colab": {
          "base_uri": "https://localhost:8080/",
          "height": 4254
        }
      },
      "cell_type": "code",
      "source": [
        "#WHAT DOES THE TREE LOOK LIKE?\n",
        "\n",
        "Dec_Tree = export_graphviz(dec_model, out_file=None, feature_names=dec_features, \n",
        "                           class_names=['Died', 'Survived'], \n",
        "                           filled=True, impurity=True, rotate=True)\n",
        "graphviz.Source(Dec_Tree)\n"
      ],
      "execution_count": 0,
      "outputs": [
        {
          "output_type": "execute_result",
          "data": {
            "text/plain": [
              "<graphviz.files.Source at 0x7ff60184e668>"
            ],
            "image/svg+xml": "<?xml version=\"1.0\" encoding=\"UTF-8\" standalone=\"no\"?>\n<!DOCTYPE svg PUBLIC \"-//W3C//DTD SVG 1.1//EN\"\n \"http://www.w3.org/Graphics/SVG/1.1/DTD/svg11.dtd\">\n<!-- Generated by graphviz version 2.40.1 (20161225.0304)\n -->\n<!-- Title: Tree Pages: 1 -->\n<svg width=\"1508pt\" height=\"3161pt\"\n viewBox=\"0.00 0.00 1508.00 3161.00\" xmlns=\"http://www.w3.org/2000/svg\" xmlns:xlink=\"http://www.w3.org/1999/xlink\">\n<g id=\"graph0\" class=\"graph\" transform=\"scale(1 1) rotate(0) translate(4 3157)\">\n<title>Tree</title>\n<polygon fill=\"#ffffff\" stroke=\"transparent\" points=\"-4,4 -4,-3157 1504,-3157 1504,4 -4,4\"/>\n<!-- 0 -->\n<g id=\"node1\" class=\"node\">\n<title>0</title>\n<polygon fill=\"#e58139\" fill-opacity=\"0.376471\" stroke=\"#000000\" points=\"125,-1443.5 0,-1443.5 0,-1360.5 125,-1360.5 125,-1443.5\"/>\n<text text-anchor=\"middle\" x=\"62.5\" y=\"-1428.3\" font-family=\"Times,serif\" font-size=\"14.00\" fill=\"#000000\">who &lt;= 0.5</text>\n<text text-anchor=\"middle\" x=\"62.5\" y=\"-1413.3\" font-family=\"Times,serif\" font-size=\"14.00\" fill=\"#000000\">gini = 0.473</text>\n<text text-anchor=\"middle\" x=\"62.5\" y=\"-1398.3\" font-family=\"Times,serif\" font-size=\"14.00\" fill=\"#000000\">samples = 666</text>\n<text text-anchor=\"middle\" x=\"62.5\" y=\"-1383.3\" font-family=\"Times,serif\" font-size=\"14.00\" fill=\"#000000\">value = [410, 256]</text>\n<text text-anchor=\"middle\" x=\"62.5\" y=\"-1368.3\" font-family=\"Times,serif\" font-size=\"14.00\" fill=\"#000000\">class = Died</text>\n</g>\n<!-- 1 -->\n<g id=\"node2\" class=\"node\">\n<title>1</title>\n<polygon fill=\"#e58139\" fill-opacity=\"0.803922\" stroke=\"#000000\" points=\"278,-1665.5 161,-1665.5 161,-1582.5 278,-1582.5 278,-1665.5\"/>\n<text text-anchor=\"middle\" x=\"219.5\" y=\"-1650.3\" font-family=\"Times,serif\" font-size=\"14.00\" fill=\"#000000\">pclass &lt;= 1.5</text>\n<text text-anchor=\"middle\" x=\"219.5\" y=\"-1635.3\" font-family=\"Times,serif\" font-size=\"14.00\" fill=\"#000000\">gini = 0.275</text>\n<text text-anchor=\"middle\" x=\"219.5\" y=\"-1620.3\" font-family=\"Times,serif\" font-size=\"14.00\" fill=\"#000000\">samples = 407</text>\n<text text-anchor=\"middle\" x=\"219.5\" y=\"-1605.3\" font-family=\"Times,serif\" font-size=\"14.00\" fill=\"#000000\">value = [340, 67]</text>\n<text text-anchor=\"middle\" x=\"219.5\" y=\"-1590.3\" font-family=\"Times,serif\" font-size=\"14.00\" fill=\"#000000\">class = Died</text>\n</g>\n<!-- 0&#45;&gt;1 -->\n<g id=\"edge1\" class=\"edge\">\n<title>0&#45;&gt;1</title>\n<path fill=\"none\" stroke=\"#000000\" d=\"M92.0305,-1443.7565C118.126,-1480.6559 156.2424,-1534.5529 183.9931,-1573.7928\"/>\n<polygon fill=\"#000000\" stroke=\"#000000\" points=\"181.4702,-1576.2871 190.1019,-1582.4307 187.1854,-1572.2452 181.4702,-1576.2871\"/>\n<text text-anchor=\"middle\" x=\"165.4617\" y=\"-1574.5048\" font-family=\"Times,serif\" font-size=\"14.00\" fill=\"#000000\">True</text>\n</g>\n<!-- 72 -->\n<g id=\"node73\" class=\"node\">\n<title>72</title>\n<polygon fill=\"#399de5\" fill-opacity=\"0.631373\" stroke=\"#000000\" points=\"278,-1216.5 161,-1216.5 161,-1133.5 278,-1133.5 278,-1216.5\"/>\n<text text-anchor=\"middle\" x=\"219.5\" y=\"-1201.3\" font-family=\"Times,serif\" font-size=\"14.00\" fill=\"#000000\">pclass &lt;= 2.5</text>\n<text text-anchor=\"middle\" x=\"219.5\" y=\"-1186.3\" font-family=\"Times,serif\" font-size=\"14.00\" fill=\"#000000\">gini = 0.394</text>\n<text text-anchor=\"middle\" x=\"219.5\" y=\"-1171.3\" font-family=\"Times,serif\" font-size=\"14.00\" fill=\"#000000\">samples = 259</text>\n<text text-anchor=\"middle\" x=\"219.5\" y=\"-1156.3\" font-family=\"Times,serif\" font-size=\"14.00\" fill=\"#000000\">value = [70, 189]</text>\n<text text-anchor=\"middle\" x=\"219.5\" y=\"-1141.3\" font-family=\"Times,serif\" font-size=\"14.00\" fill=\"#000000\">class = Survived</text>\n</g>\n<!-- 0&#45;&gt;72 -->\n<g id=\"edge72\" class=\"edge\">\n<title>0&#45;&gt;72</title>\n<path fill=\"none\" stroke=\"#000000\" d=\"M91.2962,-1360.3647C117.6603,-1322.246 156.7307,-1265.7556 184.8055,-1225.1634\"/>\n<polygon fill=\"#000000\" stroke=\"#000000\" points=\"187.8111,-1226.9706 190.6209,-1216.7551 182.054,-1222.9887 187.8111,-1226.9706\"/>\n<text text-anchor=\"middle\" x=\"166.0262\" y=\"-1217.5385\" font-family=\"Times,serif\" font-size=\"14.00\" fill=\"#000000\">False</text>\n</g>\n<!-- 2 -->\n<g id=\"node3\" class=\"node\">\n<title>2</title>\n<polygon fill=\"#e58139\" fill-opacity=\"0.517647\" stroke=\"#000000\" points=\"427.5,-2219.5 317.5,-2219.5 317.5,-2136.5 427.5,-2136.5 427.5,-2219.5\"/>\n<text text-anchor=\"middle\" x=\"372.5\" y=\"-2204.3\" font-family=\"Times,serif\" font-size=\"14.00\" fill=\"#000000\">fare &lt;= 387.665</text>\n<text text-anchor=\"middle\" x=\"372.5\" y=\"-2189.3\" font-family=\"Times,serif\" font-size=\"14.00\" fill=\"#000000\">gini = 0.439</text>\n<text text-anchor=\"middle\" x=\"372.5\" y=\"-2174.3\" font-family=\"Times,serif\" font-size=\"14.00\" fill=\"#000000\">samples = 89</text>\n<text text-anchor=\"middle\" x=\"372.5\" y=\"-2159.3\" font-family=\"Times,serif\" font-size=\"14.00\" fill=\"#000000\">value = [60, 29]</text>\n<text text-anchor=\"middle\" x=\"372.5\" y=\"-2144.3\" font-family=\"Times,serif\" font-size=\"14.00\" fill=\"#000000\">class = Died</text>\n</g>\n<!-- 1&#45;&gt;2 -->\n<g id=\"edge2\" class=\"edge\">\n<title>1&#45;&gt;2</title>\n<path fill=\"none\" stroke=\"#000000\" d=\"M230.9999,-1665.64C258.5295,-1765.3225 328.1631,-2017.4597 358.2696,-2126.4731\"/>\n<polygon fill=\"#000000\" stroke=\"#000000\" points=\"354.9354,-2127.5479 360.9712,-2136.2553 361.6828,-2125.6844 354.9354,-2127.5479\"/>\n</g>\n<!-- 39 -->\n<g id=\"node40\" class=\"node\">\n<title>39</title>\n<polygon fill=\"#e58139\" fill-opacity=\"0.862745\" stroke=\"#000000\" points=\"431,-1665.5 314,-1665.5 314,-1582.5 431,-1582.5 431,-1665.5\"/>\n<text text-anchor=\"middle\" x=\"372.5\" y=\"-1650.3\" font-family=\"Times,serif\" font-size=\"14.00\" fill=\"#000000\">fare &lt;= 49.038</text>\n<text text-anchor=\"middle\" x=\"372.5\" y=\"-1635.3\" font-family=\"Times,serif\" font-size=\"14.00\" fill=\"#000000\">gini = 0.21</text>\n<text text-anchor=\"middle\" x=\"372.5\" y=\"-1620.3\" font-family=\"Times,serif\" font-size=\"14.00\" fill=\"#000000\">samples = 318</text>\n<text text-anchor=\"middle\" x=\"372.5\" y=\"-1605.3\" font-family=\"Times,serif\" font-size=\"14.00\" fill=\"#000000\">value = [280, 38]</text>\n<text text-anchor=\"middle\" x=\"372.5\" y=\"-1590.3\" font-family=\"Times,serif\" font-size=\"14.00\" fill=\"#000000\">class = Died</text>\n</g>\n<!-- 1&#45;&gt;39 -->\n<g id=\"edge39\" class=\"edge\">\n<title>1&#45;&gt;39</title>\n<path fill=\"none\" stroke=\"#000000\" d=\"M278.2162,-1624C286.5439,-1624 295.1693,-1624 303.6671,-1624\"/>\n<polygon fill=\"#000000\" stroke=\"#000000\" points=\"303.9409,-1627.5001 313.9409,-1624 303.9409,-1620.5001 303.9409,-1627.5001\"/>\n</g>\n<!-- 3 -->\n<g id=\"node4\" class=\"node\">\n<title>3</title>\n<polygon fill=\"#e58139\" fill-opacity=\"0.549020\" stroke=\"#000000\" points=\"580.5,-2671.5 470.5,-2671.5 470.5,-2588.5 580.5,-2588.5 580.5,-2671.5\"/>\n<text text-anchor=\"middle\" x=\"525.5\" y=\"-2656.3\" font-family=\"Times,serif\" font-size=\"14.00\" fill=\"#000000\">fare &lt;= 31.66</text>\n<text text-anchor=\"middle\" x=\"525.5\" y=\"-2641.3\" font-family=\"Times,serif\" font-size=\"14.00\" fill=\"#000000\">gini = 0.428</text>\n<text text-anchor=\"middle\" x=\"525.5\" y=\"-2626.3\" font-family=\"Times,serif\" font-size=\"14.00\" fill=\"#000000\">samples = 87</text>\n<text text-anchor=\"middle\" x=\"525.5\" y=\"-2611.3\" font-family=\"Times,serif\" font-size=\"14.00\" fill=\"#000000\">value = [60, 27]</text>\n<text text-anchor=\"middle\" x=\"525.5\" y=\"-2596.3\" font-family=\"Times,serif\" font-size=\"14.00\" fill=\"#000000\">class = Died</text>\n</g>\n<!-- 2&#45;&gt;3 -->\n<g id=\"edge3\" class=\"edge\">\n<title>2&#45;&gt;3</title>\n<path fill=\"none\" stroke=\"#000000\" d=\"M386.6196,-2219.7129C414.742,-2302.7935 477.6649,-2488.6832 508.208,-2578.9151\"/>\n<polygon fill=\"#000000\" stroke=\"#000000\" points=\"504.893,-2580.0381 511.4145,-2588.3879 511.5234,-2577.7936 504.893,-2580.0381\"/>\n</g>\n<!-- 38 -->\n<g id=\"node39\" class=\"node\">\n<title>38</title>\n<polygon fill=\"#399de5\" stroke=\"#000000\" points=\"581,-2212 470,-2212 470,-2144 581,-2144 581,-2212\"/>\n<text text-anchor=\"middle\" x=\"525.5\" y=\"-2196.8\" font-family=\"Times,serif\" font-size=\"14.00\" fill=\"#000000\">gini = 0.0</text>\n<text text-anchor=\"middle\" x=\"525.5\" y=\"-2181.8\" font-family=\"Times,serif\" font-size=\"14.00\" fill=\"#000000\">samples = 2</text>\n<text text-anchor=\"middle\" x=\"525.5\" y=\"-2166.8\" font-family=\"Times,serif\" font-size=\"14.00\" fill=\"#000000\">value = [0, 2]</text>\n<text text-anchor=\"middle\" x=\"525.5\" y=\"-2151.8\" font-family=\"Times,serif\" font-size=\"14.00\" fill=\"#000000\">class = Survived</text>\n</g>\n<!-- 2&#45;&gt;38 -->\n<g id=\"edge38\" class=\"edge\">\n<title>2&#45;&gt;38</title>\n<path fill=\"none\" stroke=\"#000000\" d=\"M427.7365,-2178C438.115,-2178 449.0607,-2178 459.7228,-2178\"/>\n<polygon fill=\"#000000\" stroke=\"#000000\" points=\"459.8307,-2181.5001 469.8307,-2178 459.8306,-2174.5001 459.8307,-2181.5001\"/>\n</g>\n<!-- 4 -->\n<g id=\"node5\" class=\"node\">\n<title>4</title>\n<polygon fill=\"#e58139\" fill-opacity=\"0.250980\" stroke=\"#000000\" points=\"733.5,-2976.5 623.5,-2976.5 623.5,-2893.5 733.5,-2893.5 733.5,-2976.5\"/>\n<text text-anchor=\"middle\" x=\"678.5\" y=\"-2961.3\" font-family=\"Times,serif\" font-size=\"14.00\" fill=\"#000000\">fare &lt;= 26.144</text>\n<text text-anchor=\"middle\" x=\"678.5\" y=\"-2946.3\" font-family=\"Times,serif\" font-size=\"14.00\" fill=\"#000000\">gini = 0.49</text>\n<text text-anchor=\"middle\" x=\"678.5\" y=\"-2931.3\" font-family=\"Times,serif\" font-size=\"14.00\" fill=\"#000000\">samples = 35</text>\n<text text-anchor=\"middle\" x=\"678.5\" y=\"-2916.3\" font-family=\"Times,serif\" font-size=\"14.00\" fill=\"#000000\">value = [20, 15]</text>\n<text text-anchor=\"middle\" x=\"678.5\" y=\"-2901.3\" font-family=\"Times,serif\" font-size=\"14.00\" fill=\"#000000\">class = Died</text>\n</g>\n<!-- 3&#45;&gt;4 -->\n<g id=\"edge4\" class=\"edge\">\n<title>3&#45;&gt;4</title>\n<path fill=\"none\" stroke=\"#000000\" d=\"M546.4532,-2671.7694C574.1869,-2727.0556 623.0529,-2824.4682 652.9292,-2884.0255\"/>\n<polygon fill=\"#000000\" stroke=\"#000000\" points=\"649.9426,-2885.8777 657.5549,-2893.2468 656.1995,-2882.739 649.9426,-2885.8777\"/>\n</g>\n<!-- 15 -->\n<g id=\"node16\" class=\"node\">\n<title>15</title>\n<polygon fill=\"#e58139\" fill-opacity=\"0.701961\" stroke=\"#000000\" points=\"733.5,-2671.5 623.5,-2671.5 623.5,-2588.5 733.5,-2588.5 733.5,-2671.5\"/>\n<text text-anchor=\"middle\" x=\"678.5\" y=\"-2656.3\" font-family=\"Times,serif\" font-size=\"14.00\" fill=\"#000000\">fare &lt;= 52.277</text>\n<text text-anchor=\"middle\" x=\"678.5\" y=\"-2641.3\" font-family=\"Times,serif\" font-size=\"14.00\" fill=\"#000000\">gini = 0.355</text>\n<text text-anchor=\"middle\" x=\"678.5\" y=\"-2626.3\" font-family=\"Times,serif\" font-size=\"14.00\" fill=\"#000000\">samples = 52</text>\n<text text-anchor=\"middle\" x=\"678.5\" y=\"-2611.3\" font-family=\"Times,serif\" font-size=\"14.00\" fill=\"#000000\">value = [40, 12]</text>\n<text text-anchor=\"middle\" x=\"678.5\" y=\"-2596.3\" font-family=\"Times,serif\" font-size=\"14.00\" fill=\"#000000\">class = Died</text>\n</g>\n<!-- 3&#45;&gt;15 -->\n<g id=\"edge15\" class=\"edge\">\n<title>3&#45;&gt;15</title>\n<path fill=\"none\" stroke=\"#000000\" d=\"M580.7365,-2630C591.2447,-2630 602.3344,-2630 613.1225,-2630\"/>\n<polygon fill=\"#000000\" stroke=\"#000000\" points=\"613.3446,-2633.5001 623.3446,-2630 613.3445,-2626.5001 613.3446,-2633.5001\"/>\n</g>\n<!-- 5 -->\n<g id=\"node6\" class=\"node\">\n<title>5</title>\n<polygon fill=\"#e58139\" stroke=\"#000000\" points=\"879,-3063 784,-3063 784,-2995 879,-2995 879,-3063\"/>\n<text text-anchor=\"middle\" x=\"831.5\" y=\"-3047.8\" font-family=\"Times,serif\" font-size=\"14.00\" fill=\"#000000\">gini = 0.0</text>\n<text text-anchor=\"middle\" x=\"831.5\" y=\"-3032.8\" font-family=\"Times,serif\" font-size=\"14.00\" fill=\"#000000\">samples = 7</text>\n<text text-anchor=\"middle\" x=\"831.5\" y=\"-3017.8\" font-family=\"Times,serif\" font-size=\"14.00\" fill=\"#000000\">value = [7, 0]</text>\n<text text-anchor=\"middle\" x=\"831.5\" y=\"-3002.8\" font-family=\"Times,serif\" font-size=\"14.00\" fill=\"#000000\">class = Died</text>\n</g>\n<!-- 4&#45;&gt;5 -->\n<g id=\"edge5\" class=\"edge\">\n<title>4&#45;&gt;5</title>\n<path fill=\"none\" stroke=\"#000000\" d=\"M733.7365,-2968.9362C747.2178,-2977.2188 761.6562,-2986.0894 775.187,-2994.4025\"/>\n<polygon fill=\"#000000\" stroke=\"#000000\" points=\"773.5759,-2997.5204 783.9285,-2999.7731 777.2403,-2991.5561 773.5759,-2997.5204\"/>\n</g>\n<!-- 6 -->\n<g id=\"node7\" class=\"node\">\n<title>6</title>\n<polygon fill=\"#399de5\" fill-opacity=\"0.133333\" stroke=\"#000000\" points=\"887,-2976.5 776,-2976.5 776,-2893.5 887,-2893.5 887,-2976.5\"/>\n<text text-anchor=\"middle\" x=\"831.5\" y=\"-2961.3\" font-family=\"Times,serif\" font-size=\"14.00\" fill=\"#000000\">fare &lt;= 26.469</text>\n<text text-anchor=\"middle\" x=\"831.5\" y=\"-2946.3\" font-family=\"Times,serif\" font-size=\"14.00\" fill=\"#000000\">gini = 0.497</text>\n<text text-anchor=\"middle\" x=\"831.5\" y=\"-2931.3\" font-family=\"Times,serif\" font-size=\"14.00\" fill=\"#000000\">samples = 28</text>\n<text text-anchor=\"middle\" x=\"831.5\" y=\"-2916.3\" font-family=\"Times,serif\" font-size=\"14.00\" fill=\"#000000\">value = [13, 15]</text>\n<text text-anchor=\"middle\" x=\"831.5\" y=\"-2901.3\" font-family=\"Times,serif\" font-size=\"14.00\" fill=\"#000000\">class = Survived</text>\n</g>\n<!-- 4&#45;&gt;6 -->\n<g id=\"edge6\" class=\"edge\">\n<title>4&#45;&gt;6</title>\n<path fill=\"none\" stroke=\"#000000\" d=\"M733.7365,-2935C744.115,-2935 755.0607,-2935 765.7228,-2935\"/>\n<polygon fill=\"#000000\" stroke=\"#000000\" points=\"765.8307,-2938.5001 775.8307,-2935 765.8306,-2931.5001 765.8307,-2938.5001\"/>\n</g>\n<!-- 7 -->\n<g id=\"node8\" class=\"node\">\n<title>7</title>\n<polygon fill=\"#399de5\" stroke=\"#000000\" points=\"1039.5,-3063 928.5,-3063 928.5,-2995 1039.5,-2995 1039.5,-3063\"/>\n<text text-anchor=\"middle\" x=\"984\" y=\"-3047.8\" font-family=\"Times,serif\" font-size=\"14.00\" fill=\"#000000\">gini = 0.0</text>\n<text text-anchor=\"middle\" x=\"984\" y=\"-3032.8\" font-family=\"Times,serif\" font-size=\"14.00\" fill=\"#000000\">samples = 4</text>\n<text text-anchor=\"middle\" x=\"984\" y=\"-3017.8\" font-family=\"Times,serif\" font-size=\"14.00\" fill=\"#000000\">value = [0, 4]</text>\n<text text-anchor=\"middle\" x=\"984\" y=\"-3002.8\" font-family=\"Times,serif\" font-size=\"14.00\" fill=\"#000000\">class = Survived</text>\n</g>\n<!-- 6&#45;&gt;7 -->\n<g id=\"edge7\" class=\"edge\">\n<title>6&#45;&gt;7</title>\n<path fill=\"none\" stroke=\"#000000\" d=\"M887.4194,-2969.4684C898.0174,-2976.0009 909.1806,-2982.8818 920.0054,-2989.5542\"/>\n<polygon fill=\"#000000\" stroke=\"#000000\" points=\"918.2476,-2992.5821 928.5969,-2994.8499 921.9207,-2986.6232 918.2476,-2992.5821\"/>\n</g>\n<!-- 8 -->\n<g id=\"node9\" class=\"node\">\n<title>8</title>\n<polygon fill=\"#e58139\" fill-opacity=\"0.152941\" stroke=\"#000000\" points=\"1038.5,-2976.5 929.5,-2976.5 929.5,-2893.5 1038.5,-2893.5 1038.5,-2976.5\"/>\n<text text-anchor=\"middle\" x=\"984\" y=\"-2961.3\" font-family=\"Times,serif\" font-size=\"14.00\" fill=\"#000000\">fare &lt;= 30.848</text>\n<text text-anchor=\"middle\" x=\"984\" y=\"-2946.3\" font-family=\"Times,serif\" font-size=\"14.00\" fill=\"#000000\">gini = 0.497</text>\n<text text-anchor=\"middle\" x=\"984\" y=\"-2931.3\" font-family=\"Times,serif\" font-size=\"14.00\" fill=\"#000000\">samples = 24</text>\n<text text-anchor=\"middle\" x=\"984\" y=\"-2916.3\" font-family=\"Times,serif\" font-size=\"14.00\" fill=\"#000000\">value = [13, 11]</text>\n<text text-anchor=\"middle\" x=\"984\" y=\"-2901.3\" font-family=\"Times,serif\" font-size=\"14.00\" fill=\"#000000\">class = Died</text>\n</g>\n<!-- 6&#45;&gt;8 -->\n<g id=\"edge8\" class=\"edge\">\n<title>6&#45;&gt;8</title>\n<path fill=\"none\" stroke=\"#000000\" d=\"M887.4194,-2935C897.7909,-2935 908.7038,-2935 919.311,-2935\"/>\n<polygon fill=\"#000000\" stroke=\"#000000\" points=\"919.3596,-2938.5001 929.3596,-2935 919.3596,-2931.5001 919.3596,-2938.5001\"/>\n</g>\n<!-- 9 -->\n<g id=\"node10\" class=\"node\">\n<title>9</title>\n<polygon fill=\"#e58139\" fill-opacity=\"0.231373\" stroke=\"#000000\" points=\"1191,-3070.5 1081,-3070.5 1081,-2987.5 1191,-2987.5 1191,-3070.5\"/>\n<text text-anchor=\"middle\" x=\"1136\" y=\"-3055.3\" font-family=\"Times,serif\" font-size=\"14.00\" fill=\"#000000\">fare &lt;= 30.598</text>\n<text text-anchor=\"middle\" x=\"1136\" y=\"-3040.3\" font-family=\"Times,serif\" font-size=\"14.00\" fill=\"#000000\">gini = 0.491</text>\n<text text-anchor=\"middle\" x=\"1136\" y=\"-3025.3\" font-family=\"Times,serif\" font-size=\"14.00\" fill=\"#000000\">samples = 23</text>\n<text text-anchor=\"middle\" x=\"1136\" y=\"-3010.3\" font-family=\"Times,serif\" font-size=\"14.00\" fill=\"#000000\">value = [13, 10]</text>\n<text text-anchor=\"middle\" x=\"1136\" y=\"-2995.3\" font-family=\"Times,serif\" font-size=\"14.00\" fill=\"#000000\">class = Died</text>\n</g>\n<!-- 8&#45;&gt;9 -->\n<g id=\"edge9\" class=\"edge\">\n<title>8&#45;&gt;9</title>\n<path fill=\"none\" stroke=\"#000000\" d=\"M1038.8755,-2968.9362C1049.6784,-2975.6169 1061.0999,-2982.6802 1072.1679,-2989.5249\"/>\n<polygon fill=\"#000000\" stroke=\"#000000\" points=\"1070.604,-2992.6729 1080.9499,-2994.9559 1074.2858,-2986.7194 1070.604,-2992.6729\"/>\n</g>\n<!-- 14 -->\n<g id=\"node15\" class=\"node\">\n<title>14</title>\n<polygon fill=\"#399de5\" stroke=\"#000000\" points=\"1191.5,-2969 1080.5,-2969 1080.5,-2901 1191.5,-2901 1191.5,-2969\"/>\n<text text-anchor=\"middle\" x=\"1136\" y=\"-2953.8\" font-family=\"Times,serif\" font-size=\"14.00\" fill=\"#000000\">gini = 0.0</text>\n<text text-anchor=\"middle\" x=\"1136\" y=\"-2938.8\" font-family=\"Times,serif\" font-size=\"14.00\" fill=\"#000000\">samples = 1</text>\n<text text-anchor=\"middle\" x=\"1136\" y=\"-2923.8\" font-family=\"Times,serif\" font-size=\"14.00\" fill=\"#000000\">value = [0, 1]</text>\n<text text-anchor=\"middle\" x=\"1136\" y=\"-2908.8\" font-family=\"Times,serif\" font-size=\"14.00\" fill=\"#000000\">class = Survived</text>\n</g>\n<!-- 8&#45;&gt;14 -->\n<g id=\"edge14\" class=\"edge\">\n<title>8&#45;&gt;14</title>\n<path fill=\"none\" stroke=\"#000000\" d=\"M1038.8755,-2935C1049.0161,-2935 1059.7017,-2935 1070.1284,-2935\"/>\n<polygon fill=\"#000000\" stroke=\"#000000\" points=\"1070.439,-2938.5001 1080.4389,-2935 1070.4389,-2931.5001 1070.439,-2938.5001\"/>\n</g>\n<!-- 10 -->\n<g id=\"node11\" class=\"node\">\n<title>10</title>\n<polygon fill=\"#e58139\" fill-opacity=\"0.090196\" stroke=\"#000000\" points=\"1343,-3117.5 1234,-3117.5 1234,-3034.5 1343,-3034.5 1343,-3117.5\"/>\n<text text-anchor=\"middle\" x=\"1288.5\" y=\"-3102.3\" font-family=\"Times,serif\" font-size=\"14.00\" fill=\"#000000\">fare &lt;= 29.85</text>\n<text text-anchor=\"middle\" x=\"1288.5\" y=\"-3087.3\" font-family=\"Times,serif\" font-size=\"14.00\" fill=\"#000000\">gini = 0.499</text>\n<text text-anchor=\"middle\" x=\"1288.5\" y=\"-3072.3\" font-family=\"Times,serif\" font-size=\"14.00\" fill=\"#000000\">samples = 21</text>\n<text text-anchor=\"middle\" x=\"1288.5\" y=\"-3057.3\" font-family=\"Times,serif\" font-size=\"14.00\" fill=\"#000000\">value = [11, 10]</text>\n<text text-anchor=\"middle\" x=\"1288.5\" y=\"-3042.3\" font-family=\"Times,serif\" font-size=\"14.00\" fill=\"#000000\">class = Died</text>\n</g>\n<!-- 9&#45;&gt;10 -->\n<g id=\"edge10\" class=\"edge\">\n<title>9&#45;&gt;10</title>\n<path fill=\"none\" stroke=\"#000000\" d=\"M1191.056,-3045.9681C1201.8118,-3049.283 1213.1788,-3052.7863 1224.2039,-3056.1841\"/>\n<polygon fill=\"#000000\" stroke=\"#000000\" points=\"1223.1933,-3059.5351 1233.7806,-3059.1357 1225.255,-3052.8456 1223.1933,-3059.5351\"/>\n</g>\n<!-- 13 -->\n<g id=\"node14\" class=\"node\">\n<title>13</title>\n<polygon fill=\"#e58139\" stroke=\"#000000\" points=\"1336,-3016 1241,-3016 1241,-2948 1336,-2948 1336,-3016\"/>\n<text text-anchor=\"middle\" x=\"1288.5\" y=\"-3000.8\" font-family=\"Times,serif\" font-size=\"14.00\" fill=\"#000000\">gini = 0.0</text>\n<text text-anchor=\"middle\" x=\"1288.5\" y=\"-2985.8\" font-family=\"Times,serif\" font-size=\"14.00\" fill=\"#000000\">samples = 2</text>\n<text text-anchor=\"middle\" x=\"1288.5\" y=\"-2970.8\" font-family=\"Times,serif\" font-size=\"14.00\" fill=\"#000000\">value = [2, 0]</text>\n<text text-anchor=\"middle\" x=\"1288.5\" y=\"-2955.8\" font-family=\"Times,serif\" font-size=\"14.00\" fill=\"#000000\">class = Died</text>\n</g>\n<!-- 9&#45;&gt;13 -->\n<g id=\"edge13\" class=\"edge\">\n<title>9&#45;&gt;13</title>\n<path fill=\"none\" stroke=\"#000000\" d=\"M1191.056,-3012.0319C1203.9734,-3008.0508 1217.7723,-3003.7981 1230.8017,-2999.7824\"/>\n<polygon fill=\"#000000\" stroke=\"#000000\" points=\"1232.0625,-3003.0564 1240.5881,-2996.7663 1230.0008,-2996.3669 1232.0625,-3003.0564\"/>\n</g>\n<!-- 11 -->\n<g id=\"node12\" class=\"node\">\n<title>11</title>\n<polygon fill=\"#e58139\" fill-opacity=\"0.333333\" stroke=\"#000000\" points=\"1489,-3153 1394,-3153 1394,-3085 1489,-3085 1489,-3153\"/>\n<text text-anchor=\"middle\" x=\"1441.5\" y=\"-3137.8\" font-family=\"Times,serif\" font-size=\"14.00\" fill=\"#000000\">gini = 0.48</text>\n<text text-anchor=\"middle\" x=\"1441.5\" y=\"-3122.8\" font-family=\"Times,serif\" font-size=\"14.00\" fill=\"#000000\">samples = 15</text>\n<text text-anchor=\"middle\" x=\"1441.5\" y=\"-3107.8\" font-family=\"Times,serif\" font-size=\"14.00\" fill=\"#000000\">value = [9, 6]</text>\n<text text-anchor=\"middle\" x=\"1441.5\" y=\"-3092.8\" font-family=\"Times,serif\" font-size=\"14.00\" fill=\"#000000\">class = Died</text>\n</g>\n<!-- 10&#45;&gt;11 -->\n<g id=\"edge11\" class=\"edge\">\n<title>10&#45;&gt;11</title>\n<path fill=\"none\" stroke=\"#000000\" d=\"M1343.3044,-3091.4025C1356.4234,-3095.0896 1370.4705,-3099.0375 1383.7194,-3102.761\"/>\n<polygon fill=\"#000000\" stroke=\"#000000\" points=\"1383.0928,-3106.2204 1393.6668,-3105.5567 1384.9868,-3099.4815 1383.0928,-3106.2204\"/>\n</g>\n<!-- 12 -->\n<g id=\"node13\" class=\"node\">\n<title>12</title>\n<polygon fill=\"#399de5\" fill-opacity=\"0.498039\" stroke=\"#000000\" points=\"1497,-3067 1386,-3067 1386,-2999 1497,-2999 1497,-3067\"/>\n<text text-anchor=\"middle\" x=\"1441.5\" y=\"-3051.8\" font-family=\"Times,serif\" font-size=\"14.00\" fill=\"#000000\">gini = 0.444</text>\n<text text-anchor=\"middle\" x=\"1441.5\" y=\"-3036.8\" font-family=\"Times,serif\" font-size=\"14.00\" fill=\"#000000\">samples = 6</text>\n<text text-anchor=\"middle\" x=\"1441.5\" y=\"-3021.8\" font-family=\"Times,serif\" font-size=\"14.00\" fill=\"#000000\">value = [2, 4]</text>\n<text text-anchor=\"middle\" x=\"1441.5\" y=\"-3006.8\" font-family=\"Times,serif\" font-size=\"14.00\" fill=\"#000000\">class = Survived</text>\n</g>\n<!-- 10&#45;&gt;12 -->\n<g id=\"edge12\" class=\"edge\">\n<title>10&#45;&gt;12</title>\n<path fill=\"none\" stroke=\"#000000\" d=\"M1343.3044,-3060.5975C1353.8738,-3057.627 1365.0457,-3054.4872 1375.9172,-3051.4318\"/>\n<polygon fill=\"#000000\" stroke=\"#000000\" points=\"1377.1109,-3054.732 1385.7909,-3048.6568 1375.2169,-3047.993 1377.1109,-3054.732\"/>\n</g>\n<!-- 16 -->\n<g id=\"node17\" class=\"node\">\n<title>16</title>\n<polygon fill=\"#e58139\" fill-opacity=\"0.941176\" stroke=\"#000000\" points=\"882.5,-2722.5 780.5,-2722.5 780.5,-2639.5 882.5,-2639.5 882.5,-2722.5\"/>\n<text text-anchor=\"middle\" x=\"831.5\" y=\"-2707.3\" font-family=\"Times,serif\" font-size=\"14.00\" fill=\"#000000\">fare &lt;= 37.0</text>\n<text text-anchor=\"middle\" x=\"831.5\" y=\"-2692.3\" font-family=\"Times,serif\" font-size=\"14.00\" fill=\"#000000\">gini = 0.105</text>\n<text text-anchor=\"middle\" x=\"831.5\" y=\"-2677.3\" font-family=\"Times,serif\" font-size=\"14.00\" fill=\"#000000\">samples = 18</text>\n<text text-anchor=\"middle\" x=\"831.5\" y=\"-2662.3\" font-family=\"Times,serif\" font-size=\"14.00\" fill=\"#000000\">value = [17, 1]</text>\n<text text-anchor=\"middle\" x=\"831.5\" y=\"-2647.3\" font-family=\"Times,serif\" font-size=\"14.00\" fill=\"#000000\">class = Died</text>\n</g>\n<!-- 15&#45;&gt;16 -->\n<g id=\"edge16\" class=\"edge\">\n<title>15&#45;&gt;16</title>\n<path fill=\"none\" stroke=\"#000000\" d=\"M733.7365,-2648.4122C745.7587,-2652.4196 758.542,-2656.6807 770.764,-2660.7547\"/>\n<polygon fill=\"#000000\" stroke=\"#000000\" points=\"769.8266,-2664.1315 780.4203,-2663.9734 772.0403,-2657.4907 769.8266,-2664.1315\"/>\n</g>\n<!-- 21 -->\n<g id=\"node22\" class=\"node\">\n<title>21</title>\n<polygon fill=\"#e58139\" fill-opacity=\"0.521569\" stroke=\"#000000\" points=\"886,-2621.5 777,-2621.5 777,-2538.5 886,-2538.5 886,-2621.5\"/>\n<text text-anchor=\"middle\" x=\"831.5\" y=\"-2606.3\" font-family=\"Times,serif\" font-size=\"14.00\" fill=\"#000000\">fare &lt;= 59.087</text>\n<text text-anchor=\"middle\" x=\"831.5\" y=\"-2591.3\" font-family=\"Times,serif\" font-size=\"14.00\" fill=\"#000000\">gini = 0.438</text>\n<text text-anchor=\"middle\" x=\"831.5\" y=\"-2576.3\" font-family=\"Times,serif\" font-size=\"14.00\" fill=\"#000000\">samples = 34</text>\n<text text-anchor=\"middle\" x=\"831.5\" y=\"-2561.3\" font-family=\"Times,serif\" font-size=\"14.00\" fill=\"#000000\">value = [23, 11]</text>\n<text text-anchor=\"middle\" x=\"831.5\" y=\"-2546.3\" font-family=\"Times,serif\" font-size=\"14.00\" fill=\"#000000\">class = Died</text>\n</g>\n<!-- 15&#45;&gt;21 -->\n<g id=\"edge21\" class=\"edge\">\n<title>15&#45;&gt;21</title>\n<path fill=\"none\" stroke=\"#000000\" d=\"M733.7365,-2611.9489C744.5938,-2608.4007 756.0718,-2604.6497 767.1966,-2601.0142\"/>\n<polygon fill=\"#000000\" stroke=\"#000000\" points=\"768.4394,-2604.2903 776.8575,-2597.857 766.265,-2597.6365 768.4394,-2604.2903\"/>\n</g>\n<!-- 17 -->\n<g id=\"node18\" class=\"node\">\n<title>17</title>\n<polygon fill=\"#e58139\" fill-opacity=\"0.831373\" stroke=\"#000000\" points=\"1031.5,-2814.5 936.5,-2814.5 936.5,-2731.5 1031.5,-2731.5 1031.5,-2814.5\"/>\n<text text-anchor=\"middle\" x=\"984\" y=\"-2799.3\" font-family=\"Times,serif\" font-size=\"14.00\" fill=\"#000000\">fare &lt;= 35.25</text>\n<text text-anchor=\"middle\" x=\"984\" y=\"-2784.3\" font-family=\"Times,serif\" font-size=\"14.00\" fill=\"#000000\">gini = 0.245</text>\n<text text-anchor=\"middle\" x=\"984\" y=\"-2769.3\" font-family=\"Times,serif\" font-size=\"14.00\" fill=\"#000000\">samples = 7</text>\n<text text-anchor=\"middle\" x=\"984\" y=\"-2754.3\" font-family=\"Times,serif\" font-size=\"14.00\" fill=\"#000000\">value = [6, 1]</text>\n<text text-anchor=\"middle\" x=\"984\" y=\"-2739.3\" font-family=\"Times,serif\" font-size=\"14.00\" fill=\"#000000\">class = Died</text>\n</g>\n<!-- 16&#45;&gt;17 -->\n<g id=\"edge17\" class=\"edge\">\n<title>16&#45;&gt;17</title>\n<path fill=\"none\" stroke=\"#000000\" d=\"M882.7045,-2711.8906C897.0359,-2720.5364 912.6952,-2729.9833 927.3235,-2738.8083\"/>\n<polygon fill=\"#000000\" stroke=\"#000000\" points=\"925.907,-2742.0413 936.2775,-2744.21 929.5229,-2736.0475 925.907,-2742.0413\"/>\n</g>\n<!-- 20 -->\n<g id=\"node21\" class=\"node\">\n<title>20</title>\n<polygon fill=\"#e58139\" stroke=\"#000000\" points=\"1034.5,-2713 933.5,-2713 933.5,-2645 1034.5,-2645 1034.5,-2713\"/>\n<text text-anchor=\"middle\" x=\"984\" y=\"-2697.8\" font-family=\"Times,serif\" font-size=\"14.00\" fill=\"#000000\">gini = 0.0</text>\n<text text-anchor=\"middle\" x=\"984\" y=\"-2682.8\" font-family=\"Times,serif\" font-size=\"14.00\" fill=\"#000000\">samples = 11</text>\n<text text-anchor=\"middle\" x=\"984\" y=\"-2667.8\" font-family=\"Times,serif\" font-size=\"14.00\" fill=\"#000000\">value = [11, 0]</text>\n<text text-anchor=\"middle\" x=\"984\" y=\"-2652.8\" font-family=\"Times,serif\" font-size=\"14.00\" fill=\"#000000\">class = Died</text>\n</g>\n<!-- 16&#45;&gt;20 -->\n<g id=\"edge20\" class=\"edge\">\n<title>16&#45;&gt;20</title>\n<path fill=\"none\" stroke=\"#000000\" d=\"M882.7045,-2680.3285C895.7366,-2680.1576 909.8667,-2679.9722 923.3212,-2679.7958\"/>\n<polygon fill=\"#000000\" stroke=\"#000000\" points=\"923.4957,-2683.2939 933.4489,-2679.663 923.4038,-2676.2945 923.4957,-2683.2939\"/>\n</g>\n<!-- 18 -->\n<g id=\"node19\" class=\"node\">\n<title>18</title>\n<polygon fill=\"#e58139\" stroke=\"#000000\" points=\"1183.5,-2883 1088.5,-2883 1088.5,-2815 1183.5,-2815 1183.5,-2883\"/>\n<text text-anchor=\"middle\" x=\"1136\" y=\"-2867.8\" font-family=\"Times,serif\" font-size=\"14.00\" fill=\"#000000\">gini = 0.0</text>\n<text text-anchor=\"middle\" x=\"1136\" y=\"-2852.8\" font-family=\"Times,serif\" font-size=\"14.00\" fill=\"#000000\">samples = 5</text>\n<text text-anchor=\"middle\" x=\"1136\" y=\"-2837.8\" font-family=\"Times,serif\" font-size=\"14.00\" fill=\"#000000\">value = [5, 0]</text>\n<text text-anchor=\"middle\" x=\"1136\" y=\"-2822.8\" font-family=\"Times,serif\" font-size=\"14.00\" fill=\"#000000\">class = Died</text>\n</g>\n<!-- 17&#45;&gt;18 -->\n<g id=\"edge18\" class=\"edge\">\n<title>17&#45;&gt;18</title>\n<path fill=\"none\" stroke=\"#000000\" d=\"M1031.6767,-2796.8384C1046.8149,-2804.4075 1063.7026,-2812.8513 1079.4058,-2820.7029\"/>\n<polygon fill=\"#000000\" stroke=\"#000000\" points=\"1077.9829,-2823.9045 1088.4925,-2825.2462 1081.1134,-2817.6435 1077.9829,-2823.9045\"/>\n</g>\n<!-- 19 -->\n<g id=\"node20\" class=\"node\">\n<title>19</title>\n<polygon fill=\"transparent\" stroke=\"#000000\" points=\"1183.5,-2797 1088.5,-2797 1088.5,-2729 1183.5,-2729 1183.5,-2797\"/>\n<text text-anchor=\"middle\" x=\"1136\" y=\"-2781.8\" font-family=\"Times,serif\" font-size=\"14.00\" fill=\"#000000\">gini = 0.5</text>\n<text text-anchor=\"middle\" x=\"1136\" y=\"-2766.8\" font-family=\"Times,serif\" font-size=\"14.00\" fill=\"#000000\">samples = 2</text>\n<text text-anchor=\"middle\" x=\"1136\" y=\"-2751.8\" font-family=\"Times,serif\" font-size=\"14.00\" fill=\"#000000\">value = [1, 1]</text>\n<text text-anchor=\"middle\" x=\"1136\" y=\"-2736.8\" font-family=\"Times,serif\" font-size=\"14.00\" fill=\"#000000\">class = Died</text>\n</g>\n<!-- 17&#45;&gt;19 -->\n<g id=\"edge19\" class=\"edge\">\n<title>17&#45;&gt;19</title>\n<path fill=\"none\" stroke=\"#000000\" d=\"M1031.6767,-2769.8634C1046.3905,-2768.8954 1062.757,-2767.8186 1078.0822,-2766.8104\"/>\n<polygon fill=\"#000000\" stroke=\"#000000\" points=\"1078.7438,-2770.2745 1088.4925,-2766.1255 1078.2842,-2763.2896 1078.7438,-2770.2745\"/>\n</g>\n<!-- 22 -->\n<g id=\"node23\" class=\"node\">\n<title>22</title>\n<polygon fill=\"#399de5\" fill-opacity=\"0.498039\" stroke=\"#000000\" points=\"1039.5,-2624.5 928.5,-2624.5 928.5,-2541.5 1039.5,-2541.5 1039.5,-2624.5\"/>\n<text text-anchor=\"middle\" x=\"984\" y=\"-2609.3\" font-family=\"Times,serif\" font-size=\"14.00\" fill=\"#000000\">fare &lt;= 52.827</text>\n<text text-anchor=\"middle\" x=\"984\" y=\"-2594.3\" font-family=\"Times,serif\" font-size=\"14.00\" fill=\"#000000\">gini = 0.444</text>\n<text text-anchor=\"middle\" x=\"984\" y=\"-2579.3\" font-family=\"Times,serif\" font-size=\"14.00\" fill=\"#000000\">samples = 9</text>\n<text text-anchor=\"middle\" x=\"984\" y=\"-2564.3\" font-family=\"Times,serif\" font-size=\"14.00\" fill=\"#000000\">value = [3, 6]</text>\n<text text-anchor=\"middle\" x=\"984\" y=\"-2549.3\" font-family=\"Times,serif\" font-size=\"14.00\" fill=\"#000000\">class = Survived</text>\n</g>\n<!-- 21&#45;&gt;22 -->\n<g id=\"edge22\" class=\"edge\">\n<title>21&#45;&gt;22</title>\n<path fill=\"none\" stroke=\"#000000\" d=\"M886.1253,-2581.0746C896.5527,-2581.2797 907.5683,-2581.4964 918.2997,-2581.7075\"/>\n<polygon fill=\"#000000\" stroke=\"#000000\" points=\"918.406,-2585.2102 928.473,-2581.9077 918.5438,-2578.2116 918.406,-2585.2102\"/>\n</g>\n<!-- 29 -->\n<g id=\"node30\" class=\"node\">\n<title>29</title>\n<polygon fill=\"#e58139\" fill-opacity=\"0.749020\" stroke=\"#000000\" points=\"1039,-2523.5 929,-2523.5 929,-2440.5 1039,-2440.5 1039,-2523.5\"/>\n<text text-anchor=\"middle\" x=\"984\" y=\"-2508.3\" font-family=\"Times,serif\" font-size=\"14.00\" fill=\"#000000\">fare &lt;= 134.642</text>\n<text text-anchor=\"middle\" x=\"984\" y=\"-2493.3\" font-family=\"Times,serif\" font-size=\"14.00\" fill=\"#000000\">gini = 0.32</text>\n<text text-anchor=\"middle\" x=\"984\" y=\"-2478.3\" font-family=\"Times,serif\" font-size=\"14.00\" fill=\"#000000\">samples = 25</text>\n<text text-anchor=\"middle\" x=\"984\" y=\"-2463.3\" font-family=\"Times,serif\" font-size=\"14.00\" fill=\"#000000\">value = [20, 5]</text>\n<text text-anchor=\"middle\" x=\"984\" y=\"-2448.3\" font-family=\"Times,serif\" font-size=\"14.00\" fill=\"#000000\">class = Died</text>\n</g>\n<!-- 21&#45;&gt;29 -->\n<g id=\"edge29\" class=\"edge\">\n<title>21&#45;&gt;29</title>\n<path fill=\"none\" stroke=\"#000000\" d=\"M886.1253,-2544.8966C897.2264,-2537.7627 908.9942,-2530.2004 920.3759,-2522.8863\"/>\n<polygon fill=\"#000000\" stroke=\"#000000\" points=\"922.4664,-2525.7033 928.9869,-2517.3527 918.6821,-2519.8144 922.4664,-2525.7033\"/>\n</g>\n<!-- 23 -->\n<g id=\"node24\" class=\"node\">\n<title>23</title>\n<polygon fill=\"#399de5\" stroke=\"#000000\" points=\"1191.5,-2711 1080.5,-2711 1080.5,-2643 1191.5,-2643 1191.5,-2711\"/>\n<text text-anchor=\"middle\" x=\"1136\" y=\"-2695.8\" font-family=\"Times,serif\" font-size=\"14.00\" fill=\"#000000\">gini = 0.0</text>\n<text text-anchor=\"middle\" x=\"1136\" y=\"-2680.8\" font-family=\"Times,serif\" font-size=\"14.00\" fill=\"#000000\">samples = 2</text>\n<text text-anchor=\"middle\" x=\"1136\" y=\"-2665.8\" font-family=\"Times,serif\" font-size=\"14.00\" fill=\"#000000\">value = [0, 2]</text>\n<text text-anchor=\"middle\" x=\"1136\" y=\"-2650.8\" font-family=\"Times,serif\" font-size=\"14.00\" fill=\"#000000\">class = Survived</text>\n</g>\n<!-- 22&#45;&gt;23 -->\n<g id=\"edge23\" class=\"edge\">\n<title>22&#45;&gt;23</title>\n<path fill=\"none\" stroke=\"#000000\" d=\"M1039.7361,-2617.4684C1050.2993,-2624.0009 1061.4259,-2630.8818 1072.2152,-2637.5542\"/>\n<polygon fill=\"#000000\" stroke=\"#000000\" points=\"1070.4326,-2640.5669 1080.7786,-2642.8499 1074.1144,-2634.6134 1070.4326,-2640.5669\"/>\n</g>\n<!-- 24 -->\n<g id=\"node25\" class=\"node\">\n<title>24</title>\n<polygon fill=\"#399de5\" fill-opacity=\"0.250980\" stroke=\"#000000\" points=\"1191.5,-2624.5 1080.5,-2624.5 1080.5,-2541.5 1191.5,-2541.5 1191.5,-2624.5\"/>\n<text text-anchor=\"middle\" x=\"1136\" y=\"-2609.3\" font-family=\"Times,serif\" font-size=\"14.00\" fill=\"#000000\">fare &lt;= 56.415</text>\n<text text-anchor=\"middle\" x=\"1136\" y=\"-2594.3\" font-family=\"Times,serif\" font-size=\"14.00\" fill=\"#000000\">gini = 0.49</text>\n<text text-anchor=\"middle\" x=\"1136\" y=\"-2579.3\" font-family=\"Times,serif\" font-size=\"14.00\" fill=\"#000000\">samples = 7</text>\n<text text-anchor=\"middle\" x=\"1136\" y=\"-2564.3\" font-family=\"Times,serif\" font-size=\"14.00\" fill=\"#000000\">value = [3, 4]</text>\n<text text-anchor=\"middle\" x=\"1136\" y=\"-2549.3\" font-family=\"Times,serif\" font-size=\"14.00\" fill=\"#000000\">class = Survived</text>\n</g>\n<!-- 22&#45;&gt;24 -->\n<g id=\"edge24\" class=\"edge\">\n<title>22&#45;&gt;24</title>\n<path fill=\"none\" stroke=\"#000000\" d=\"M1039.7361,-2583C1049.6493,-2583 1060.0587,-2583 1070.2198,-2583\"/>\n<polygon fill=\"#000000\" stroke=\"#000000\" points=\"1070.2707,-2586.5001 1080.2706,-2583 1070.2706,-2579.5001 1070.2707,-2586.5001\"/>\n</g>\n<!-- 25 -->\n<g id=\"node26\" class=\"node\">\n<title>25</title>\n<polygon fill=\"#e58139\" fill-opacity=\"0.333333\" stroke=\"#000000\" points=\"1340,-2718.5 1237,-2718.5 1237,-2635.5 1340,-2635.5 1340,-2718.5\"/>\n<text text-anchor=\"middle\" x=\"1288.5\" y=\"-2703.3\" font-family=\"Times,serif\" font-size=\"14.00\" fill=\"#000000\">fare &lt;= 55.671</text>\n<text text-anchor=\"middle\" x=\"1288.5\" y=\"-2688.3\" font-family=\"Times,serif\" font-size=\"14.00\" fill=\"#000000\">gini = 0.48</text>\n<text text-anchor=\"middle\" x=\"1288.5\" y=\"-2673.3\" font-family=\"Times,serif\" font-size=\"14.00\" fill=\"#000000\">samples = 5</text>\n<text text-anchor=\"middle\" x=\"1288.5\" y=\"-2658.3\" font-family=\"Times,serif\" font-size=\"14.00\" fill=\"#000000\">value = [3, 2]</text>\n<text text-anchor=\"middle\" x=\"1288.5\" y=\"-2643.3\" font-family=\"Times,serif\" font-size=\"14.00\" fill=\"#000000\">class = Died</text>\n</g>\n<!-- 24&#45;&gt;25 -->\n<g id=\"edge25\" class=\"edge\">\n<title>24&#45;&gt;25</title>\n<path fill=\"none\" stroke=\"#000000\" d=\"M1191.9194,-2617.4684C1203.7533,-2624.7627 1216.292,-2632.4914 1228.2773,-2639.8791\"/>\n<polygon fill=\"#000000\" stroke=\"#000000\" points=\"1226.5394,-2642.9194 1236.8887,-2645.1872 1230.2125,-2636.9604 1226.5394,-2642.9194\"/>\n</g>\n<!-- 28 -->\n<g id=\"node29\" class=\"node\">\n<title>28</title>\n<polygon fill=\"#399de5\" stroke=\"#000000\" points=\"1344,-2617 1233,-2617 1233,-2549 1344,-2549 1344,-2617\"/>\n<text text-anchor=\"middle\" x=\"1288.5\" y=\"-2601.8\" font-family=\"Times,serif\" font-size=\"14.00\" fill=\"#000000\">gini = 0.0</text>\n<text text-anchor=\"middle\" x=\"1288.5\" y=\"-2586.8\" font-family=\"Times,serif\" font-size=\"14.00\" fill=\"#000000\">samples = 2</text>\n<text text-anchor=\"middle\" x=\"1288.5\" y=\"-2571.8\" font-family=\"Times,serif\" font-size=\"14.00\" fill=\"#000000\">value = [0, 2]</text>\n<text text-anchor=\"middle\" x=\"1288.5\" y=\"-2556.8\" font-family=\"Times,serif\" font-size=\"14.00\" fill=\"#000000\">class = Survived</text>\n</g>\n<!-- 24&#45;&gt;28 -->\n<g id=\"edge28\" class=\"edge\">\n<title>24&#45;&gt;28</title>\n<path fill=\"none\" stroke=\"#000000\" d=\"M1191.9194,-2583C1201.929,-2583 1212.4428,-2583 1222.6994,-2583\"/>\n<polygon fill=\"#000000\" stroke=\"#000000\" points=\"1222.8423,-2586.5001 1232.8422,-2583 1222.8422,-2579.5001 1222.8423,-2586.5001\"/>\n</g>\n<!-- 26 -->\n<g id=\"node27\" class=\"node\">\n<title>26</title>\n<polygon fill=\"transparent\" stroke=\"#000000\" points=\"1489,-2789 1394,-2789 1394,-2721 1489,-2721 1489,-2789\"/>\n<text text-anchor=\"middle\" x=\"1441.5\" y=\"-2773.8\" font-family=\"Times,serif\" font-size=\"14.00\" fill=\"#000000\">gini = 0.5</text>\n<text text-anchor=\"middle\" x=\"1441.5\" y=\"-2758.8\" font-family=\"Times,serif\" font-size=\"14.00\" fill=\"#000000\">samples = 4</text>\n<text text-anchor=\"middle\" x=\"1441.5\" y=\"-2743.8\" font-family=\"Times,serif\" font-size=\"14.00\" fill=\"#000000\">value = [2, 2]</text>\n<text text-anchor=\"middle\" x=\"1441.5\" y=\"-2728.8\" font-family=\"Times,serif\" font-size=\"14.00\" fill=\"#000000\">class = Died</text>\n</g>\n<!-- 25&#45;&gt;26 -->\n<g id=\"edge26\" class=\"edge\">\n<title>25&#45;&gt;26</title>\n<path fill=\"none\" stroke=\"#000000\" d=\"M1340.2988,-2703.4072C1354.6572,-2710.7272 1370.3162,-2718.7102 1384.9318,-2726.1613\"/>\n<polygon fill=\"#000000\" stroke=\"#000000\" points=\"1383.3775,-2729.2975 1393.8762,-2730.7212 1386.5568,-2723.0611 1383.3775,-2729.2975\"/>\n</g>\n<!-- 27 -->\n<g id=\"node28\" class=\"node\">\n<title>27</title>\n<polygon fill=\"#e58139\" stroke=\"#000000\" points=\"1489,-2703 1394,-2703 1394,-2635 1489,-2635 1489,-2703\"/>\n<text text-anchor=\"middle\" x=\"1441.5\" y=\"-2687.8\" font-family=\"Times,serif\" font-size=\"14.00\" fill=\"#000000\">gini = 0.0</text>\n<text text-anchor=\"middle\" x=\"1441.5\" y=\"-2672.8\" font-family=\"Times,serif\" font-size=\"14.00\" fill=\"#000000\">samples = 1</text>\n<text text-anchor=\"middle\" x=\"1441.5\" y=\"-2657.8\" font-family=\"Times,serif\" font-size=\"14.00\" fill=\"#000000\">value = [1, 0]</text>\n<text text-anchor=\"middle\" x=\"1441.5\" y=\"-2642.8\" font-family=\"Times,serif\" font-size=\"14.00\" fill=\"#000000\">class = Died</text>\n</g>\n<!-- 25&#45;&gt;27 -->\n<g id=\"edge27\" class=\"edge\">\n<title>25&#45;&gt;27</title>\n<path fill=\"none\" stroke=\"#000000\" d=\"M1340.2988,-2674.2916C1354.2509,-2673.562 1369.4309,-2672.7683 1383.6884,-2672.0228\"/>\n<polygon fill=\"#000000\" stroke=\"#000000\" points=\"1384.0726,-2675.5076 1393.8762,-2671.4901 1383.7071,-2668.5172 1384.0726,-2675.5076\"/>\n</g>\n<!-- 30 -->\n<g id=\"node31\" class=\"node\">\n<title>30</title>\n<polygon fill=\"#e58139\" fill-opacity=\"0.615686\" stroke=\"#000000\" points=\"1187.5,-2523.5 1084.5,-2523.5 1084.5,-2440.5 1187.5,-2440.5 1187.5,-2523.5\"/>\n<text text-anchor=\"middle\" x=\"1136\" y=\"-2508.3\" font-family=\"Times,serif\" font-size=\"14.00\" fill=\"#000000\">fare &lt;= 84.152</text>\n<text text-anchor=\"middle\" x=\"1136\" y=\"-2493.3\" font-family=\"Times,serif\" font-size=\"14.00\" fill=\"#000000\">gini = 0.401</text>\n<text text-anchor=\"middle\" x=\"1136\" y=\"-2478.3\" font-family=\"Times,serif\" font-size=\"14.00\" fill=\"#000000\">samples = 18</text>\n<text text-anchor=\"middle\" x=\"1136\" y=\"-2463.3\" font-family=\"Times,serif\" font-size=\"14.00\" fill=\"#000000\">value = [13, 5]</text>\n<text text-anchor=\"middle\" x=\"1136\" y=\"-2448.3\" font-family=\"Times,serif\" font-size=\"14.00\" fill=\"#000000\">class = Died</text>\n</g>\n<!-- 29&#45;&gt;30 -->\n<g id=\"edge30\" class=\"edge\">\n<title>29&#45;&gt;30</title>\n<path fill=\"none\" stroke=\"#000000\" d=\"M1039.3055,-2482C1050.6633,-2482 1062.6887,-2482 1074.257,-2482\"/>\n<polygon fill=\"#000000\" stroke=\"#000000\" points=\"1074.2771,-2485.5001 1084.2771,-2482 1074.277,-2478.5001 1074.2771,-2485.5001\"/>\n</g>\n<!-- 37 -->\n<g id=\"node38\" class=\"node\">\n<title>37</title>\n<polygon fill=\"#e58139\" stroke=\"#000000\" points=\"1183.5,-2422 1088.5,-2422 1088.5,-2354 1183.5,-2354 1183.5,-2422\"/>\n<text text-anchor=\"middle\" x=\"1136\" y=\"-2406.8\" font-family=\"Times,serif\" font-size=\"14.00\" fill=\"#000000\">gini = 0.0</text>\n<text text-anchor=\"middle\" x=\"1136\" y=\"-2391.8\" font-family=\"Times,serif\" font-size=\"14.00\" fill=\"#000000\">samples = 7</text>\n<text text-anchor=\"middle\" x=\"1136\" y=\"-2376.8\" font-family=\"Times,serif\" font-size=\"14.00\" fill=\"#000000\">value = [7, 0]</text>\n<text text-anchor=\"middle\" x=\"1136\" y=\"-2361.8\" font-family=\"Times,serif\" font-size=\"14.00\" fill=\"#000000\">class = Died</text>\n</g>\n<!-- 29&#45;&gt;37 -->\n<g id=\"edge37\" class=\"edge\">\n<title>29&#45;&gt;37</title>\n<path fill=\"none\" stroke=\"#000000\" d=\"M1039.3055,-2447.7979C1052.2715,-2439.7795 1066.1074,-2431.2231 1079.1401,-2423.1634\"/>\n<polygon fill=\"#000000\" stroke=\"#000000\" points=\"1081.3497,-2425.9121 1088.0139,-2417.6756 1077.6679,-2419.9586 1081.3497,-2425.9121\"/>\n</g>\n<!-- 31 -->\n<g id=\"node32\" class=\"node\">\n<title>31</title>\n<polygon fill=\"#e58139\" fill-opacity=\"0.890196\" stroke=\"#000000\" points=\"1340,-2530.5 1237,-2530.5 1237,-2447.5 1340,-2447.5 1340,-2530.5\"/>\n<text text-anchor=\"middle\" x=\"1288.5\" y=\"-2515.3\" font-family=\"Times,serif\" font-size=\"14.00\" fill=\"#000000\">fare &lt;= 77.008</text>\n<text text-anchor=\"middle\" x=\"1288.5\" y=\"-2500.3\" font-family=\"Times,serif\" font-size=\"14.00\" fill=\"#000000\">gini = 0.18</text>\n<text text-anchor=\"middle\" x=\"1288.5\" y=\"-2485.3\" font-family=\"Times,serif\" font-size=\"14.00\" fill=\"#000000\">samples = 10</text>\n<text text-anchor=\"middle\" x=\"1288.5\" y=\"-2470.3\" font-family=\"Times,serif\" font-size=\"14.00\" fill=\"#000000\">value = [9, 1]</text>\n<text text-anchor=\"middle\" x=\"1288.5\" y=\"-2455.3\" font-family=\"Times,serif\" font-size=\"14.00\" fill=\"#000000\">class = Died</text>\n</g>\n<!-- 30&#45;&gt;31 -->\n<g id=\"edge31\" class=\"edge\">\n<title>30&#45;&gt;31</title>\n<path fill=\"none\" stroke=\"#000000\" d=\"M1187.6295,-2484.3699C1200.1751,-2484.9457 1213.7167,-2485.5673 1226.6807,-2486.1624\"/>\n<polygon fill=\"#000000\" stroke=\"#000000\" points=\"1226.7736,-2489.6703 1236.9236,-2486.6326 1227.0947,-2482.6776 1226.7736,-2489.6703\"/>\n</g>\n<!-- 34 -->\n<g id=\"node35\" class=\"node\">\n<title>34</title>\n<polygon fill=\"transparent\" stroke=\"#000000\" points=\"1340,-2429.5 1237,-2429.5 1237,-2346.5 1340,-2346.5 1340,-2429.5\"/>\n<text text-anchor=\"middle\" x=\"1288.5\" y=\"-2414.3\" font-family=\"Times,serif\" font-size=\"14.00\" fill=\"#000000\">fare &lt;= 89.552</text>\n<text text-anchor=\"middle\" x=\"1288.5\" y=\"-2399.3\" font-family=\"Times,serif\" font-size=\"14.00\" fill=\"#000000\">gini = 0.5</text>\n<text text-anchor=\"middle\" x=\"1288.5\" y=\"-2384.3\" font-family=\"Times,serif\" font-size=\"14.00\" fill=\"#000000\">samples = 8</text>\n<text text-anchor=\"middle\" x=\"1288.5\" y=\"-2369.3\" font-family=\"Times,serif\" font-size=\"14.00\" fill=\"#000000\">value = [4, 4]</text>\n<text text-anchor=\"middle\" x=\"1288.5\" y=\"-2354.3\" font-family=\"Times,serif\" font-size=\"14.00\" fill=\"#000000\">class = Died</text>\n</g>\n<!-- 30&#45;&gt;34 -->\n<g id=\"edge34\" class=\"edge\">\n<title>30&#45;&gt;34</title>\n<path fill=\"none\" stroke=\"#000000\" d=\"M1187.6295,-2450.1759C1200.6719,-2442.1367 1214.7908,-2433.4338 1228.2181,-2425.1574\"/>\n<polygon fill=\"#000000\" stroke=\"#000000\" points=\"1230.2474,-2428.0181 1236.9236,-2419.7913 1226.5743,-2422.0591 1230.2474,-2428.0181\"/>\n</g>\n<!-- 32 -->\n<g id=\"node33\" class=\"node\">\n<title>32</title>\n<polygon fill=\"#e58139\" fill-opacity=\"0.749020\" stroke=\"#000000\" points=\"1489,-2609 1394,-2609 1394,-2541 1489,-2541 1489,-2609\"/>\n<text text-anchor=\"middle\" x=\"1441.5\" y=\"-2593.8\" font-family=\"Times,serif\" font-size=\"14.00\" fill=\"#000000\">gini = 0.32</text>\n<text text-anchor=\"middle\" x=\"1441.5\" y=\"-2578.8\" font-family=\"Times,serif\" font-size=\"14.00\" fill=\"#000000\">samples = 5</text>\n<text text-anchor=\"middle\" x=\"1441.5\" y=\"-2563.8\" font-family=\"Times,serif\" font-size=\"14.00\" fill=\"#000000\">value = [4, 1]</text>\n<text text-anchor=\"middle\" x=\"1441.5\" y=\"-2548.8\" font-family=\"Times,serif\" font-size=\"14.00\" fill=\"#000000\">class = Died</text>\n</g>\n<!-- 31&#45;&gt;32 -->\n<g id=\"edge32\" class=\"edge\">\n<title>31&#45;&gt;32</title>\n<path fill=\"none\" stroke=\"#000000\" d=\"M1340.2988,-2518.1157C1354.6572,-2526.1864 1370.3162,-2534.9882 1384.9318,-2543.2035\"/>\n<polygon fill=\"#000000\" stroke=\"#000000\" points=\"1383.4439,-2546.3822 1393.8762,-2548.2311 1386.8739,-2540.2801 1383.4439,-2546.3822\"/>\n</g>\n<!-- 33 -->\n<g id=\"node34\" class=\"node\">\n<title>33</title>\n<polygon fill=\"#e58139\" stroke=\"#000000\" points=\"1489,-2523 1394,-2523 1394,-2455 1489,-2455 1489,-2523\"/>\n<text text-anchor=\"middle\" x=\"1441.5\" y=\"-2507.8\" font-family=\"Times,serif\" font-size=\"14.00\" fill=\"#000000\">gini = 0.0</text>\n<text text-anchor=\"middle\" x=\"1441.5\" y=\"-2492.8\" font-family=\"Times,serif\" font-size=\"14.00\" fill=\"#000000\">samples = 5</text>\n<text text-anchor=\"middle\" x=\"1441.5\" y=\"-2477.8\" font-family=\"Times,serif\" font-size=\"14.00\" fill=\"#000000\">value = [5, 0]</text>\n<text text-anchor=\"middle\" x=\"1441.5\" y=\"-2462.8\" font-family=\"Times,serif\" font-size=\"14.00\" fill=\"#000000\">class = Died</text>\n</g>\n<!-- 31&#45;&gt;33 -->\n<g id=\"edge33\" class=\"edge\">\n<title>31&#45;&gt;33</title>\n<path fill=\"none\" stroke=\"#000000\" d=\"M1340.2988,-2489C1354.2509,-2489 1369.4309,-2489 1383.6884,-2489\"/>\n<polygon fill=\"#000000\" stroke=\"#000000\" points=\"1383.8762,-2492.5001 1393.8762,-2489 1383.8762,-2485.5001 1383.8762,-2492.5001\"/>\n</g>\n<!-- 35 -->\n<g id=\"node36\" class=\"node\">\n<title>35</title>\n<polygon fill=\"#399de5\" stroke=\"#000000\" points=\"1497,-2437 1386,-2437 1386,-2369 1497,-2369 1497,-2437\"/>\n<text text-anchor=\"middle\" x=\"1441.5\" y=\"-2421.8\" font-family=\"Times,serif\" font-size=\"14.00\" fill=\"#000000\">gini = 0.0</text>\n<text text-anchor=\"middle\" x=\"1441.5\" y=\"-2406.8\" font-family=\"Times,serif\" font-size=\"14.00\" fill=\"#000000\">samples = 1</text>\n<text text-anchor=\"middle\" x=\"1441.5\" y=\"-2391.8\" font-family=\"Times,serif\" font-size=\"14.00\" fill=\"#000000\">value = [0, 1]</text>\n<text text-anchor=\"middle\" x=\"1441.5\" y=\"-2376.8\" font-family=\"Times,serif\" font-size=\"14.00\" fill=\"#000000\">class = Survived</text>\n</g>\n<!-- 34&#45;&gt;35 -->\n<g id=\"edge35\" class=\"edge\">\n<title>34&#45;&gt;35</title>\n<path fill=\"none\" stroke=\"#000000\" d=\"M1340.2988,-2393.0783C1351.6305,-2394.1893 1363.7721,-2395.3796 1375.5716,-2396.5364\"/>\n<polygon fill=\"#000000\" stroke=\"#000000\" points=\"1375.5301,-2400.0491 1385.8239,-2397.5416 1376.2132,-2393.0825 1375.5301,-2400.0491\"/>\n</g>\n<!-- 36 -->\n<g id=\"node37\" class=\"node\">\n<title>36</title>\n<polygon fill=\"#e58139\" fill-opacity=\"0.250980\" stroke=\"#000000\" points=\"1489,-2351 1394,-2351 1394,-2283 1489,-2283 1489,-2351\"/>\n<text text-anchor=\"middle\" x=\"1441.5\" y=\"-2335.8\" font-family=\"Times,serif\" font-size=\"14.00\" fill=\"#000000\">gini = 0.49</text>\n<text text-anchor=\"middle\" x=\"1441.5\" y=\"-2320.8\" font-family=\"Times,serif\" font-size=\"14.00\" fill=\"#000000\">samples = 7</text>\n<text text-anchor=\"middle\" x=\"1441.5\" y=\"-2305.8\" font-family=\"Times,serif\" font-size=\"14.00\" fill=\"#000000\">value = [4, 3]</text>\n<text text-anchor=\"middle\" x=\"1441.5\" y=\"-2290.8\" font-family=\"Times,serif\" font-size=\"14.00\" fill=\"#000000\">class = Died</text>\n</g>\n<!-- 34&#45;&gt;36 -->\n<g id=\"edge36\" class=\"edge\">\n<title>34&#45;&gt;36</title>\n<path fill=\"none\" stroke=\"#000000\" d=\"M1340.2988,-2363.9626C1354.5218,-2357.3624 1370.0209,-2350.1701 1384.5178,-2343.4427\"/>\n<polygon fill=\"#000000\" stroke=\"#000000\" points=\"1386.2786,-2346.4842 1393.8762,-2339.0999 1383.332,-2340.1345 1386.2786,-2346.4842\"/>\n</g>\n<!-- 40 -->\n<g id=\"node41\" class=\"node\">\n<title>40</title>\n<polygon fill=\"#e58139\" fill-opacity=\"0.870588\" stroke=\"#000000\" points=\"584,-1716.5 467,-1716.5 467,-1633.5 584,-1633.5 584,-1716.5\"/>\n<text text-anchor=\"middle\" x=\"525.5\" y=\"-1701.3\" font-family=\"Times,serif\" font-size=\"14.00\" fill=\"#000000\">fare &lt;= 19.377</text>\n<text text-anchor=\"middle\" x=\"525.5\" y=\"-1686.3\" font-family=\"Times,serif\" font-size=\"14.00\" fill=\"#000000\">gini = 0.203</text>\n<text text-anchor=\"middle\" x=\"525.5\" y=\"-1671.3\" font-family=\"Times,serif\" font-size=\"14.00\" fill=\"#000000\">samples = 305</text>\n<text text-anchor=\"middle\" x=\"525.5\" y=\"-1656.3\" font-family=\"Times,serif\" font-size=\"14.00\" fill=\"#000000\">value = [270, 35]</text>\n<text text-anchor=\"middle\" x=\"525.5\" y=\"-1641.3\" font-family=\"Times,serif\" font-size=\"14.00\" fill=\"#000000\">class = Died</text>\n</g>\n<!-- 39&#45;&gt;40 -->\n<g id=\"edge40\" class=\"edge\">\n<title>39&#45;&gt;40</title>\n<path fill=\"none\" stroke=\"#000000\" d=\"M431.2162,-1643.5721C439.7269,-1646.409 448.5486,-1649.3495 457.2273,-1652.2424\"/>\n<polygon fill=\"#000000\" stroke=\"#000000\" points=\"456.3472,-1655.6383 466.9409,-1655.4803 458.5609,-1648.9976 456.3472,-1655.6383\"/>\n</g>\n<!-- 69 -->\n<g id=\"node70\" class=\"node\">\n<title>69</title>\n<polygon fill=\"#e58139\" fill-opacity=\"0.701961\" stroke=\"#000000\" points=\"577,-1615.5 474,-1615.5 474,-1532.5 577,-1532.5 577,-1615.5\"/>\n<text text-anchor=\"middle\" x=\"525.5\" y=\"-1600.3\" font-family=\"Times,serif\" font-size=\"14.00\" fill=\"#000000\">fare &lt;= 63.023</text>\n<text text-anchor=\"middle\" x=\"525.5\" y=\"-1585.3\" font-family=\"Times,serif\" font-size=\"14.00\" fill=\"#000000\">gini = 0.355</text>\n<text text-anchor=\"middle\" x=\"525.5\" y=\"-1570.3\" font-family=\"Times,serif\" font-size=\"14.00\" fill=\"#000000\">samples = 13</text>\n<text text-anchor=\"middle\" x=\"525.5\" y=\"-1555.3\" font-family=\"Times,serif\" font-size=\"14.00\" fill=\"#000000\">value = [10, 3]</text>\n<text text-anchor=\"middle\" x=\"525.5\" y=\"-1540.3\" font-family=\"Times,serif\" font-size=\"14.00\" fill=\"#000000\">class = Died</text>\n</g>\n<!-- 39&#45;&gt;69 -->\n<g id=\"edge69\" class=\"edge\">\n<title>39&#45;&gt;69</title>\n<path fill=\"none\" stroke=\"#000000\" d=\"M431.2162,-1604.8117C441.9266,-1601.3116 453.1292,-1597.6506 463.9199,-1594.1242\"/>\n<polygon fill=\"#000000\" stroke=\"#000000\" points=\"465.2698,-1597.3653 473.6878,-1590.9321 463.0953,-1590.7116 465.2698,-1597.3653\"/>\n</g>\n<!-- 41 -->\n<g id=\"node42\" class=\"node\">\n<title>41</title>\n<polygon fill=\"#e58139\" fill-opacity=\"0.854902\" stroke=\"#000000\" points=\"737,-1815.5 620,-1815.5 620,-1732.5 737,-1732.5 737,-1815.5\"/>\n<text text-anchor=\"middle\" x=\"678.5\" y=\"-1800.3\" font-family=\"Times,serif\" font-size=\"14.00\" fill=\"#000000\">fare &lt;= 18.394</text>\n<text text-anchor=\"middle\" x=\"678.5\" y=\"-1785.3\" font-family=\"Times,serif\" font-size=\"14.00\" fill=\"#000000\">gini = 0.221</text>\n<text text-anchor=\"middle\" x=\"678.5\" y=\"-1770.3\" font-family=\"Times,serif\" font-size=\"14.00\" fill=\"#000000\">samples = 269</text>\n<text text-anchor=\"middle\" x=\"678.5\" y=\"-1755.3\" font-family=\"Times,serif\" font-size=\"14.00\" fill=\"#000000\">value = [235, 34]</text>\n<text text-anchor=\"middle\" x=\"678.5\" y=\"-1740.3\" font-family=\"Times,serif\" font-size=\"14.00\" fill=\"#000000\">class = Died</text>\n</g>\n<!-- 40&#45;&gt;41 -->\n<g id=\"edge41\" class=\"edge\">\n<title>40&#45;&gt;41</title>\n<path fill=\"none\" stroke=\"#000000\" d=\"M584.2162,-1712.9929C593.093,-1718.7366 602.308,-1724.6993 611.3463,-1730.5476\"/>\n<polygon fill=\"#000000\" stroke=\"#000000\" points=\"609.6438,-1733.6148 619.9409,-1736.1088 613.4466,-1727.7378 609.6438,-1733.6148\"/>\n</g>\n<!-- 62 -->\n<g id=\"node63\" class=\"node\">\n<title>62</title>\n<polygon fill=\"#e58139\" fill-opacity=\"0.972549\" stroke=\"#000000\" points=\"729.5,-1714.5 627.5,-1714.5 627.5,-1631.5 729.5,-1631.5 729.5,-1714.5\"/>\n<text text-anchor=\"middle\" x=\"678.5\" y=\"-1699.3\" font-family=\"Times,serif\" font-size=\"14.00\" fill=\"#000000\">pclass &lt;= 2.5</text>\n<text text-anchor=\"middle\" x=\"678.5\" y=\"-1684.3\" font-family=\"Times,serif\" font-size=\"14.00\" fill=\"#000000\">gini = 0.054</text>\n<text text-anchor=\"middle\" x=\"678.5\" y=\"-1669.3\" font-family=\"Times,serif\" font-size=\"14.00\" fill=\"#000000\">samples = 36</text>\n<text text-anchor=\"middle\" x=\"678.5\" y=\"-1654.3\" font-family=\"Times,serif\" font-size=\"14.00\" fill=\"#000000\">value = [35, 1]</text>\n<text text-anchor=\"middle\" x=\"678.5\" y=\"-1639.3\" font-family=\"Times,serif\" font-size=\"14.00\" fill=\"#000000\">class = Died</text>\n</g>\n<!-- 40&#45;&gt;62 -->\n<g id=\"edge62\" class=\"edge\">\n<title>40&#45;&gt;62</title>\n<path fill=\"none\" stroke=\"#000000\" d=\"M584.2162,-1674.2325C594.945,-1674.0922 606.1678,-1673.9455 616.9756,-1673.8042\"/>\n<polygon fill=\"#000000\" stroke=\"#000000\" points=\"617.2275,-1677.3013 627.1808,-1673.6708 617.1359,-1670.3019 617.2275,-1677.3013\"/>\n</g>\n<!-- 42 -->\n<g id=\"node43\" class=\"node\">\n<title>42</title>\n<polygon fill=\"#e58139\" fill-opacity=\"0.858824\" stroke=\"#000000\" points=\"890,-1907.5 773,-1907.5 773,-1824.5 890,-1824.5 890,-1907.5\"/>\n<text text-anchor=\"middle\" x=\"831.5\" y=\"-1892.3\" font-family=\"Times,serif\" font-size=\"14.00\" fill=\"#000000\">fare &lt;= 7.91</text>\n<text text-anchor=\"middle\" x=\"831.5\" y=\"-1877.3\" font-family=\"Times,serif\" font-size=\"14.00\" fill=\"#000000\">gini = 0.216</text>\n<text text-anchor=\"middle\" x=\"831.5\" y=\"-1862.3\" font-family=\"Times,serif\" font-size=\"14.00\" fill=\"#000000\">samples = 268</text>\n<text text-anchor=\"middle\" x=\"831.5\" y=\"-1847.3\" font-family=\"Times,serif\" font-size=\"14.00\" fill=\"#000000\">value = [235, 33]</text>\n<text text-anchor=\"middle\" x=\"831.5\" y=\"-1832.3\" font-family=\"Times,serif\" font-size=\"14.00\" fill=\"#000000\">class = Died</text>\n</g>\n<!-- 41&#45;&gt;42 -->\n<g id=\"edge42\" class=\"edge\">\n<title>41&#45;&gt;42</title>\n<path fill=\"none\" stroke=\"#000000\" d=\"M737.2162,-1809.3065C746.093,-1814.6442 755.308,-1820.1852 764.3463,-1825.62\"/>\n<polygon fill=\"#000000\" stroke=\"#000000\" points=\"762.5673,-1828.6342 772.9409,-1830.788 766.1745,-1822.6352 762.5673,-1828.6342\"/>\n</g>\n<!-- 61 -->\n<g id=\"node62\" class=\"node\">\n<title>61</title>\n<polygon fill=\"#399de5\" stroke=\"#000000\" points=\"887,-1806 776,-1806 776,-1738 887,-1738 887,-1806\"/>\n<text text-anchor=\"middle\" x=\"831.5\" y=\"-1790.8\" font-family=\"Times,serif\" font-size=\"14.00\" fill=\"#000000\">gini = 0.0</text>\n<text text-anchor=\"middle\" x=\"831.5\" y=\"-1775.8\" font-family=\"Times,serif\" font-size=\"14.00\" fill=\"#000000\">samples = 1</text>\n<text text-anchor=\"middle\" x=\"831.5\" y=\"-1760.8\" font-family=\"Times,serif\" font-size=\"14.00\" fill=\"#000000\">value = [0, 1]</text>\n<text text-anchor=\"middle\" x=\"831.5\" y=\"-1745.8\" font-family=\"Times,serif\" font-size=\"14.00\" fill=\"#000000\">class = Survived</text>\n</g>\n<!-- 41&#45;&gt;61 -->\n<g id=\"edge61\" class=\"edge\">\n<title>41&#45;&gt;61</title>\n<path fill=\"none\" stroke=\"#000000\" d=\"M737.2162,-1773.2325C746.5611,-1773.1103 756.2808,-1772.9833 765.7746,-1772.8592\"/>\n<polygon fill=\"#000000\" stroke=\"#000000\" points=\"766.0059,-1776.3565 775.9592,-1772.726 765.9143,-1769.3571 766.0059,-1776.3565\"/>\n</g>\n<!-- 43 -->\n<g id=\"node44\" class=\"node\">\n<title>43</title>\n<polygon fill=\"#e58139\" fill-opacity=\"0.898039\" stroke=\"#000000\" points=\"1042,-2007.5 926,-2007.5 926,-1924.5 1042,-1924.5 1042,-2007.5\"/>\n<text text-anchor=\"middle\" x=\"984\" y=\"-1992.3\" font-family=\"Times,serif\" font-size=\"14.00\" fill=\"#000000\">fare &lt;= 7.865</text>\n<text text-anchor=\"middle\" x=\"984\" y=\"-1977.3\" font-family=\"Times,serif\" font-size=\"14.00\" fill=\"#000000\">gini = 0.169</text>\n<text text-anchor=\"middle\" x=\"984\" y=\"-1962.3\" font-family=\"Times,serif\" font-size=\"14.00\" fill=\"#000000\">samples = 129</text>\n<text text-anchor=\"middle\" x=\"984\" y=\"-1947.3\" font-family=\"Times,serif\" font-size=\"14.00\" fill=\"#000000\">value = [117, 12]</text>\n<text text-anchor=\"middle\" x=\"984\" y=\"-1932.3\" font-family=\"Times,serif\" font-size=\"14.00\" fill=\"#000000\">class = Died</text>\n</g>\n<!-- 42&#45;&gt;43 -->\n<g id=\"edge43\" class=\"edge\">\n<title>42&#45;&gt;43</title>\n<path fill=\"none\" stroke=\"#000000\" d=\"M890.0243,-1904.3766C898.9358,-1910.2202 908.1891,-1916.288 917.2601,-1922.2361\"/>\n<polygon fill=\"#000000\" stroke=\"#000000\" points=\"915.6023,-1925.3344 925.884,-1927.8912 919.4408,-1919.4807 915.6023,-1925.3344\"/>\n</g>\n<!-- 54 -->\n<g id=\"node55\" class=\"node\">\n<title>54</title>\n<polygon fill=\"#e58139\" fill-opacity=\"0.823529\" stroke=\"#000000\" points=\"1042,-1906.5 926,-1906.5 926,-1823.5 1042,-1823.5 1042,-1906.5\"/>\n<text text-anchor=\"middle\" x=\"984\" y=\"-1891.3\" font-family=\"Times,serif\" font-size=\"14.00\" fill=\"#000000\">fare &lt;= 7.988</text>\n<text text-anchor=\"middle\" x=\"984\" y=\"-1876.3\" font-family=\"Times,serif\" font-size=\"14.00\" fill=\"#000000\">gini = 0.257</text>\n<text text-anchor=\"middle\" x=\"984\" y=\"-1861.3\" font-family=\"Times,serif\" font-size=\"14.00\" fill=\"#000000\">samples = 139</text>\n<text text-anchor=\"middle\" x=\"984\" y=\"-1846.3\" font-family=\"Times,serif\" font-size=\"14.00\" fill=\"#000000\">value = [118, 21]</text>\n<text text-anchor=\"middle\" x=\"984\" y=\"-1831.3\" font-family=\"Times,serif\" font-size=\"14.00\" fill=\"#000000\">class = Died</text>\n</g>\n<!-- 42&#45;&gt;54 -->\n<g id=\"edge54\" class=\"edge\">\n<title>42&#45;&gt;54</title>\n<path fill=\"none\" stroke=\"#000000\" d=\"M890.0243,-1865.6162C898.4764,-1865.5608 907.2361,-1865.5034 915.856,-1865.4468\"/>\n<polygon fill=\"#000000\" stroke=\"#000000\" points=\"915.9072,-1868.9467 925.884,-1865.3811 915.8613,-1861.9468 915.9072,-1868.9467\"/>\n</g>\n<!-- 44 -->\n<g id=\"node45\" class=\"node\">\n<title>44</title>\n<polygon fill=\"#e58139\" fill-opacity=\"0.874510\" stroke=\"#000000\" points=\"1190.5,-2107.5 1081.5,-2107.5 1081.5,-2024.5 1190.5,-2024.5 1190.5,-2107.5\"/>\n<text text-anchor=\"middle\" x=\"1136\" y=\"-2092.3\" font-family=\"Times,serif\" font-size=\"14.00\" fill=\"#000000\">fare &lt;= 7.785</text>\n<text text-anchor=\"middle\" x=\"1136\" y=\"-2077.3\" font-family=\"Times,serif\" font-size=\"14.00\" fill=\"#000000\">gini = 0.198</text>\n<text text-anchor=\"middle\" x=\"1136\" y=\"-2062.3\" font-family=\"Times,serif\" font-size=\"14.00\" fill=\"#000000\">samples = 99</text>\n<text text-anchor=\"middle\" x=\"1136\" y=\"-2047.3\" font-family=\"Times,serif\" font-size=\"14.00\" fill=\"#000000\">value = [88, 11]</text>\n<text text-anchor=\"middle\" x=\"1136\" y=\"-2032.3\" font-family=\"Times,serif\" font-size=\"14.00\" fill=\"#000000\">class = Died</text>\n</g>\n<!-- 43&#45;&gt;44 -->\n<g id=\"edge44\" class=\"edge\">\n<title>43&#45;&gt;44</title>\n<path fill=\"none\" stroke=\"#000000\" d=\"M1042.3325,-2004.3766C1052.2742,-2010.9173 1062.643,-2017.7388 1072.706,-2024.3592\"/>\n<polygon fill=\"#000000\" stroke=\"#000000\" points=\"1070.7929,-2027.2901 1081.0708,-2029.8624 1074.6403,-2021.4422 1070.7929,-2027.2901\"/>\n</g>\n<!-- 51 -->\n<g id=\"node52\" class=\"node\">\n<title>51</title>\n<polygon fill=\"#e58139\" fill-opacity=\"0.964706\" stroke=\"#000000\" points=\"1187,-2006.5 1085,-2006.5 1085,-1923.5 1187,-1923.5 1187,-2006.5\"/>\n<text text-anchor=\"middle\" x=\"1136\" y=\"-1991.3\" font-family=\"Times,serif\" font-size=\"14.00\" fill=\"#000000\">fare &lt;= 7.892</text>\n<text text-anchor=\"middle\" x=\"1136\" y=\"-1976.3\" font-family=\"Times,serif\" font-size=\"14.00\" fill=\"#000000\">gini = 0.064</text>\n<text text-anchor=\"middle\" x=\"1136\" y=\"-1961.3\" font-family=\"Times,serif\" font-size=\"14.00\" fill=\"#000000\">samples = 30</text>\n<text text-anchor=\"middle\" x=\"1136\" y=\"-1946.3\" font-family=\"Times,serif\" font-size=\"14.00\" fill=\"#000000\">value = [29, 1]</text>\n<text text-anchor=\"middle\" x=\"1136\" y=\"-1931.3\" font-family=\"Times,serif\" font-size=\"14.00\" fill=\"#000000\">class = Died</text>\n</g>\n<!-- 43&#45;&gt;51 -->\n<g id=\"edge51\" class=\"edge\">\n<title>43&#45;&gt;51</title>\n<path fill=\"none\" stroke=\"#000000\" d=\"M1042.3325,-1965.6162C1052.8642,-1965.5469 1063.8752,-1965.4745 1074.4941,-1965.4046\"/>\n<polygon fill=\"#000000\" stroke=\"#000000\" points=\"1074.5498,-1968.9045 1084.5265,-1965.3386 1074.5036,-1961.9046 1074.5498,-1968.9045\"/>\n</g>\n<!-- 45 -->\n<g id=\"node46\" class=\"node\">\n<title>45</title>\n<polygon fill=\"#e58139\" fill-opacity=\"0.898039\" stroke=\"#000000\" points=\"1339.5,-2201.5 1237.5,-2201.5 1237.5,-2118.5 1339.5,-2118.5 1339.5,-2201.5\"/>\n<text text-anchor=\"middle\" x=\"1288.5\" y=\"-2186.3\" font-family=\"Times,serif\" font-size=\"14.00\" fill=\"#000000\">fare &lt;= 7.24</text>\n<text text-anchor=\"middle\" x=\"1288.5\" y=\"-2171.3\" font-family=\"Times,serif\" font-size=\"14.00\" fill=\"#000000\">gini = 0.167</text>\n<text text-anchor=\"middle\" x=\"1288.5\" y=\"-2156.3\" font-family=\"Times,serif\" font-size=\"14.00\" fill=\"#000000\">samples = 87</text>\n<text text-anchor=\"middle\" x=\"1288.5\" y=\"-2141.3\" font-family=\"Times,serif\" font-size=\"14.00\" fill=\"#000000\">value = [79, 8]</text>\n<text text-anchor=\"middle\" x=\"1288.5\" y=\"-2126.3\" font-family=\"Times,serif\" font-size=\"14.00\" fill=\"#000000\">class = Died</text>\n</g>\n<!-- 44&#45;&gt;45 -->\n<g id=\"edge45\" class=\"edge\">\n<title>44&#45;&gt;45</title>\n<path fill=\"none\" stroke=\"#000000\" d=\"M1190.6253,-2099.6707C1202.9857,-2107.2895 1216.1726,-2115.4179 1228.7328,-2123.1599\"/>\n<polygon fill=\"#000000\" stroke=\"#000000\" points=\"1226.9611,-2126.1793 1237.3104,-2128.4471 1230.6342,-2120.2203 1226.9611,-2126.1793\"/>\n</g>\n<!-- 48 -->\n<g id=\"node49\" class=\"node\">\n<title>48</title>\n<polygon fill=\"#e58139\" fill-opacity=\"0.666667\" stroke=\"#000000\" points=\"1336,-2100.5 1241,-2100.5 1241,-2017.5 1336,-2017.5 1336,-2100.5\"/>\n<text text-anchor=\"middle\" x=\"1288.5\" y=\"-2085.3\" font-family=\"Times,serif\" font-size=\"14.00\" fill=\"#000000\">fare &lt;= 7.798</text>\n<text text-anchor=\"middle\" x=\"1288.5\" y=\"-2070.3\" font-family=\"Times,serif\" font-size=\"14.00\" fill=\"#000000\">gini = 0.375</text>\n<text text-anchor=\"middle\" x=\"1288.5\" y=\"-2055.3\" font-family=\"Times,serif\" font-size=\"14.00\" fill=\"#000000\">samples = 12</text>\n<text text-anchor=\"middle\" x=\"1288.5\" y=\"-2040.3\" font-family=\"Times,serif\" font-size=\"14.00\" fill=\"#000000\">value = [9, 3]</text>\n<text text-anchor=\"middle\" x=\"1288.5\" y=\"-2025.3\" font-family=\"Times,serif\" font-size=\"14.00\" fill=\"#000000\">class = Died</text>\n</g>\n<!-- 44&#45;&gt;48 -->\n<g id=\"edge48\" class=\"edge\">\n<title>44&#45;&gt;48</title>\n<path fill=\"none\" stroke=\"#000000\" d=\"M1190.6253,-2063.4926C1203.5733,-2062.8983 1217.4282,-2062.2623 1230.5196,-2061.6614\"/>\n<polygon fill=\"#000000\" stroke=\"#000000\" points=\"1230.9942,-2065.1434 1240.8231,-2061.1884 1230.6731,-2058.1508 1230.9942,-2065.1434\"/>\n</g>\n<!-- 46 -->\n<g id=\"node47\" class=\"node\">\n<title>46</title>\n<polygon fill=\"#e58139\" fill-opacity=\"0.866667\" stroke=\"#000000\" points=\"1492.5,-2265 1390.5,-2265 1390.5,-2197 1492.5,-2197 1492.5,-2265\"/>\n<text text-anchor=\"middle\" x=\"1441.5\" y=\"-2249.8\" font-family=\"Times,serif\" font-size=\"14.00\" fill=\"#000000\">gini = 0.206</text>\n<text text-anchor=\"middle\" x=\"1441.5\" y=\"-2234.8\" font-family=\"Times,serif\" font-size=\"14.00\" fill=\"#000000\">samples = 43</text>\n<text text-anchor=\"middle\" x=\"1441.5\" y=\"-2219.8\" font-family=\"Times,serif\" font-size=\"14.00\" fill=\"#000000\">value = [38, 5]</text>\n<text text-anchor=\"middle\" x=\"1441.5\" y=\"-2204.8\" font-family=\"Times,serif\" font-size=\"14.00\" fill=\"#000000\">class = Died</text>\n</g>\n<!-- 45&#45;&gt;46 -->\n<g id=\"edge46\" class=\"edge\">\n<title>45&#45;&gt;46</title>\n<path fill=\"none\" stroke=\"#000000\" d=\"M1339.8724,-2183.8395C1353.0625,-2189.9604 1367.3738,-2196.6016 1380.9792,-2202.9152\"/>\n<polygon fill=\"#000000\" stroke=\"#000000\" points=\"1379.719,-2206.1888 1390.2632,-2207.2234 1382.6656,-2199.8392 1379.719,-2206.1888\"/>\n</g>\n<!-- 47 -->\n<g id=\"node48\" class=\"node\">\n<title>47</title>\n<polygon fill=\"#e58139\" fill-opacity=\"0.925490\" stroke=\"#000000\" points=\"1492.5,-2179 1390.5,-2179 1390.5,-2111 1492.5,-2111 1492.5,-2179\"/>\n<text text-anchor=\"middle\" x=\"1441.5\" y=\"-2163.8\" font-family=\"Times,serif\" font-size=\"14.00\" fill=\"#000000\">gini = 0.127</text>\n<text text-anchor=\"middle\" x=\"1441.5\" y=\"-2148.8\" font-family=\"Times,serif\" font-size=\"14.00\" fill=\"#000000\">samples = 44</text>\n<text text-anchor=\"middle\" x=\"1441.5\" y=\"-2133.8\" font-family=\"Times,serif\" font-size=\"14.00\" fill=\"#000000\">value = [41, 3]</text>\n<text text-anchor=\"middle\" x=\"1441.5\" y=\"-2118.8\" font-family=\"Times,serif\" font-size=\"14.00\" fill=\"#000000\">class = Died</text>\n</g>\n<!-- 45&#45;&gt;47 -->\n<g id=\"edge47\" class=\"edge\">\n<title>45&#45;&gt;47</title>\n<path fill=\"none\" stroke=\"#000000\" d=\"M1339.8724,-2154.9635C1352.8089,-2153.6952 1366.8238,-2152.3212 1380.1935,-2151.0104\"/>\n<polygon fill=\"#000000\" stroke=\"#000000\" points=\"1380.6524,-2154.4823 1390.2632,-2150.0232 1379.9694,-2147.5157 1380.6524,-2154.4823\"/>\n</g>\n<!-- 49 -->\n<g id=\"node50\" class=\"node\">\n<title>49</title>\n<polygon fill=\"#e58139\" fill-opacity=\"0.333333\" stroke=\"#000000\" points=\"1489,-2093 1394,-2093 1394,-2025 1489,-2025 1489,-2093\"/>\n<text text-anchor=\"middle\" x=\"1441.5\" y=\"-2077.8\" font-family=\"Times,serif\" font-size=\"14.00\" fill=\"#000000\">gini = 0.48</text>\n<text text-anchor=\"middle\" x=\"1441.5\" y=\"-2062.8\" font-family=\"Times,serif\" font-size=\"14.00\" fill=\"#000000\">samples = 5</text>\n<text text-anchor=\"middle\" x=\"1441.5\" y=\"-2047.8\" font-family=\"Times,serif\" font-size=\"14.00\" fill=\"#000000\">value = [3, 2]</text>\n<text text-anchor=\"middle\" x=\"1441.5\" y=\"-2032.8\" font-family=\"Times,serif\" font-size=\"14.00\" fill=\"#000000\">class = Died</text>\n</g>\n<!-- 48&#45;&gt;49 -->\n<g id=\"edge49\" class=\"edge\">\n<title>48&#45;&gt;49</title>\n<path fill=\"none\" stroke=\"#000000\" d=\"M1336.0715,-2059C1351.1829,-2059 1368.0605,-2059 1383.8051,-2059\"/>\n<polygon fill=\"#000000\" stroke=\"#000000\" points=\"1383.958,-2062.5001 1393.9579,-2059 1383.9579,-2055.5001 1383.958,-2062.5001\"/>\n</g>\n<!-- 50 -->\n<g id=\"node51\" class=\"node\">\n<title>50</title>\n<polygon fill=\"#e58139\" fill-opacity=\"0.831373\" stroke=\"#000000\" points=\"1489,-2007 1394,-2007 1394,-1939 1489,-1939 1489,-2007\"/>\n<text text-anchor=\"middle\" x=\"1441.5\" y=\"-1991.8\" font-family=\"Times,serif\" font-size=\"14.00\" fill=\"#000000\">gini = 0.245</text>\n<text text-anchor=\"middle\" x=\"1441.5\" y=\"-1976.8\" font-family=\"Times,serif\" font-size=\"14.00\" fill=\"#000000\">samples = 7</text>\n<text text-anchor=\"middle\" x=\"1441.5\" y=\"-1961.8\" font-family=\"Times,serif\" font-size=\"14.00\" fill=\"#000000\">value = [6, 1]</text>\n<text text-anchor=\"middle\" x=\"1441.5\" y=\"-1946.8\" font-family=\"Times,serif\" font-size=\"14.00\" fill=\"#000000\">class = Died</text>\n</g>\n<!-- 48&#45;&gt;50 -->\n<g id=\"edge50\" class=\"edge\">\n<title>48&#45;&gt;50</title>\n<path fill=\"none\" stroke=\"#000000\" d=\"M1336.0715,-2032.2605C1351.6147,-2023.5238 1369.0263,-2013.7368 1385.1518,-2004.6729\"/>\n<polygon fill=\"#000000\" stroke=\"#000000\" points=\"1386.9556,-2007.674 1393.9579,-1999.723 1383.5257,-2001.5719 1386.9556,-2007.674\"/>\n</g>\n<!-- 52 -->\n<g id=\"node53\" class=\"node\">\n<title>52</title>\n<polygon fill=\"#e58139\" stroke=\"#000000\" points=\"1336,-1999 1241,-1999 1241,-1931 1336,-1931 1336,-1999\"/>\n<text text-anchor=\"middle\" x=\"1288.5\" y=\"-1983.8\" font-family=\"Times,serif\" font-size=\"14.00\" fill=\"#000000\">gini = 0.0</text>\n<text text-anchor=\"middle\" x=\"1288.5\" y=\"-1968.8\" font-family=\"Times,serif\" font-size=\"14.00\" fill=\"#000000\">samples = 2</text>\n<text text-anchor=\"middle\" x=\"1288.5\" y=\"-1953.8\" font-family=\"Times,serif\" font-size=\"14.00\" fill=\"#000000\">value = [2, 0]</text>\n<text text-anchor=\"middle\" x=\"1288.5\" y=\"-1938.8\" font-family=\"Times,serif\" font-size=\"14.00\" fill=\"#000000\">class = Died</text>\n</g>\n<!-- 51&#45;&gt;52 -->\n<g id=\"edge52\" class=\"edge\">\n<title>51&#45;&gt;52</title>\n<path fill=\"none\" stroke=\"#000000\" d=\"M1187.2045,-1965C1201.1303,-1965 1216.3099,-1965 1230.5791,-1965\"/>\n<polygon fill=\"#000000\" stroke=\"#000000\" points=\"1230.7775,-1968.5001 1240.7775,-1965 1230.7774,-1961.5001 1230.7775,-1968.5001\"/>\n</g>\n<!-- 53 -->\n<g id=\"node54\" class=\"node\">\n<title>53</title>\n<polygon fill=\"#e58139\" fill-opacity=\"0.964706\" stroke=\"#000000\" points=\"1339.5,-1913 1237.5,-1913 1237.5,-1845 1339.5,-1845 1339.5,-1913\"/>\n<text text-anchor=\"middle\" x=\"1288.5\" y=\"-1897.8\" font-family=\"Times,serif\" font-size=\"14.00\" fill=\"#000000\">gini = 0.069</text>\n<text text-anchor=\"middle\" x=\"1288.5\" y=\"-1882.8\" font-family=\"Times,serif\" font-size=\"14.00\" fill=\"#000000\">samples = 28</text>\n<text text-anchor=\"middle\" x=\"1288.5\" y=\"-1867.8\" font-family=\"Times,serif\" font-size=\"14.00\" fill=\"#000000\">value = [27, 1]</text>\n<text text-anchor=\"middle\" x=\"1288.5\" y=\"-1852.8\" font-family=\"Times,serif\" font-size=\"14.00\" fill=\"#000000\">class = Died</text>\n</g>\n<!-- 51&#45;&gt;53 -->\n<g id=\"edge53\" class=\"edge\">\n<title>51&#45;&gt;53</title>\n<path fill=\"none\" stroke=\"#000000\" d=\"M1187.2045,-1936.124C1200.4779,-1928.6387 1214.8904,-1920.511 1228.568,-1912.7977\"/>\n<polygon fill=\"#000000\" stroke=\"#000000\" points=\"1230.4394,-1915.7606 1237.4306,-1907.7998 1227.0009,-1909.6633 1230.4394,-1915.7606\"/>\n</g>\n<!-- 55 -->\n<g id=\"node56\" class=\"node\">\n<title>55</title>\n<polygon fill=\"#e58139\" fill-opacity=\"0.376471\" stroke=\"#000000\" points=\"1183.5,-1905 1088.5,-1905 1088.5,-1837 1183.5,-1837 1183.5,-1905\"/>\n<text text-anchor=\"middle\" x=\"1136\" y=\"-1889.8\" font-family=\"Times,serif\" font-size=\"14.00\" fill=\"#000000\">gini = 0.473</text>\n<text text-anchor=\"middle\" x=\"1136\" y=\"-1874.8\" font-family=\"Times,serif\" font-size=\"14.00\" fill=\"#000000\">samples = 13</text>\n<text text-anchor=\"middle\" x=\"1136\" y=\"-1859.8\" font-family=\"Times,serif\" font-size=\"14.00\" fill=\"#000000\">value = [8, 5]</text>\n<text text-anchor=\"middle\" x=\"1136\" y=\"-1844.8\" font-family=\"Times,serif\" font-size=\"14.00\" fill=\"#000000\">class = Died</text>\n</g>\n<!-- 54&#45;&gt;55 -->\n<g id=\"edge55\" class=\"edge\">\n<title>54&#45;&gt;55</title>\n<path fill=\"none\" stroke=\"#000000\" d=\"M1042.3325,-1867.3026C1054.1174,-1867.7678 1066.5024,-1868.2567 1078.2666,-1868.7211\"/>\n<polygon fill=\"#000000\" stroke=\"#000000\" points=\"1078.2841,-1872.2244 1088.4144,-1869.1216 1078.5603,-1865.2298 1078.2841,-1872.2244\"/>\n</g>\n<!-- 56 -->\n<g id=\"node57\" class=\"node\">\n<title>56</title>\n<polygon fill=\"#e58139\" fill-opacity=\"0.854902\" stroke=\"#000000\" points=\"1194,-1818.5 1078,-1818.5 1078,-1735.5 1194,-1735.5 1194,-1818.5\"/>\n<text text-anchor=\"middle\" x=\"1136\" y=\"-1803.3\" font-family=\"Times,serif\" font-size=\"14.00\" fill=\"#000000\">fare &lt;= 15.796</text>\n<text text-anchor=\"middle\" x=\"1136\" y=\"-1788.3\" font-family=\"Times,serif\" font-size=\"14.00\" fill=\"#000000\">gini = 0.222</text>\n<text text-anchor=\"middle\" x=\"1136\" y=\"-1773.3\" font-family=\"Times,serif\" font-size=\"14.00\" fill=\"#000000\">samples = 126</text>\n<text text-anchor=\"middle\" x=\"1136\" y=\"-1758.3\" font-family=\"Times,serif\" font-size=\"14.00\" fill=\"#000000\">value = [110, 16]</text>\n<text text-anchor=\"middle\" x=\"1136\" y=\"-1743.3\" font-family=\"Times,serif\" font-size=\"14.00\" fill=\"#000000\">class = Died</text>\n</g>\n<!-- 54&#45;&gt;56 -->\n<g id=\"edge56\" class=\"edge\">\n<title>54&#45;&gt;56</title>\n<path fill=\"none\" stroke=\"#000000\" d=\"M1042.3325,-1831.2286C1051.0603,-1826.1756 1060.1172,-1820.9321 1069.0074,-1815.7852\"/>\n<polygon fill=\"#000000\" stroke=\"#000000\" points=\"1070.923,-1818.7205 1077.8236,-1810.6811 1067.4157,-1812.6625 1070.923,-1818.7205\"/>\n</g>\n<!-- 57 -->\n<g id=\"node58\" class=\"node\">\n<title>57</title>\n<polygon fill=\"#e58139\" fill-opacity=\"0.839216\" stroke=\"#000000\" points=\"1347,-1822.5 1230,-1822.5 1230,-1739.5 1347,-1739.5 1347,-1822.5\"/>\n<text text-anchor=\"middle\" x=\"1288.5\" y=\"-1807.3\" font-family=\"Times,serif\" font-size=\"14.00\" fill=\"#000000\">fare &lt;= 15.646</text>\n<text text-anchor=\"middle\" x=\"1288.5\" y=\"-1792.3\" font-family=\"Times,serif\" font-size=\"14.00\" fill=\"#000000\">gini = 0.238</text>\n<text text-anchor=\"middle\" x=\"1288.5\" y=\"-1777.3\" font-family=\"Times,serif\" font-size=\"14.00\" fill=\"#000000\">samples = 116</text>\n<text text-anchor=\"middle\" x=\"1288.5\" y=\"-1762.3\" font-family=\"Times,serif\" font-size=\"14.00\" fill=\"#000000\">value = [100, 16]</text>\n<text text-anchor=\"middle\" x=\"1288.5\" y=\"-1747.3\" font-family=\"Times,serif\" font-size=\"14.00\" fill=\"#000000\">class = Died</text>\n</g>\n<!-- 56&#45;&gt;57 -->\n<g id=\"edge57\" class=\"edge\">\n<title>56&#45;&gt;57</title>\n<path fill=\"none\" stroke=\"#000000\" d=\"M1194.0887,-1778.5236C1202.4981,-1778.7442 1211.2204,-1778.973 1219.8133,-1779.1984\"/>\n<polygon fill=\"#000000\" stroke=\"#000000\" points=\"1219.7264,-1782.6972 1229.8147,-1779.4607 1219.91,-1775.6996 1219.7264,-1782.6972\"/>\n</g>\n<!-- 60 -->\n<g id=\"node61\" class=\"node\">\n<title>60</title>\n<polygon fill=\"#e58139\" stroke=\"#000000\" points=\"1339.5,-1721 1237.5,-1721 1237.5,-1653 1339.5,-1653 1339.5,-1721\"/>\n<text text-anchor=\"middle\" x=\"1288.5\" y=\"-1705.8\" font-family=\"Times,serif\" font-size=\"14.00\" fill=\"#000000\">gini = 0.0</text>\n<text text-anchor=\"middle\" x=\"1288.5\" y=\"-1690.8\" font-family=\"Times,serif\" font-size=\"14.00\" fill=\"#000000\">samples = 10</text>\n<text text-anchor=\"middle\" x=\"1288.5\" y=\"-1675.8\" font-family=\"Times,serif\" font-size=\"14.00\" fill=\"#000000\">value = [10, 0]</text>\n<text text-anchor=\"middle\" x=\"1288.5\" y=\"-1660.8\" font-family=\"Times,serif\" font-size=\"14.00\" fill=\"#000000\">class = Died</text>\n</g>\n<!-- 56&#45;&gt;60 -->\n<g id=\"edge60\" class=\"edge\">\n<title>56&#45;&gt;60</title>\n<path fill=\"none\" stroke=\"#000000\" d=\"M1194.0887,-1742.7181C1205.2469,-1736.133 1216.956,-1729.2227 1228.1827,-1722.5971\"/>\n<polygon fill=\"#000000\" stroke=\"#000000\" points=\"1230.23,-1725.453 1237.0631,-1717.3562 1226.6721,-1719.4245 1230.23,-1725.453\"/>\n</g>\n<!-- 58 -->\n<g id=\"node59\" class=\"node\">\n<title>58</title>\n<polygon fill=\"#e58139\" fill-opacity=\"0.850980\" stroke=\"#000000\" points=\"1500,-1858 1383,-1858 1383,-1790 1500,-1790 1500,-1858\"/>\n<text text-anchor=\"middle\" x=\"1441.5\" y=\"-1842.8\" font-family=\"Times,serif\" font-size=\"14.00\" fill=\"#000000\">gini = 0.227</text>\n<text text-anchor=\"middle\" x=\"1441.5\" y=\"-1827.8\" font-family=\"Times,serif\" font-size=\"14.00\" fill=\"#000000\">samples = 115</text>\n<text text-anchor=\"middle\" x=\"1441.5\" y=\"-1812.8\" font-family=\"Times,serif\" font-size=\"14.00\" fill=\"#000000\">value = [100, 15]</text>\n<text text-anchor=\"middle\" x=\"1441.5\" y=\"-1797.8\" font-family=\"Times,serif\" font-size=\"14.00\" fill=\"#000000\">class = Died</text>\n</g>\n<!-- 57&#45;&gt;58 -->\n<g id=\"edge58\" class=\"edge\">\n<title>57&#45;&gt;58</title>\n<path fill=\"none\" stroke=\"#000000\" d=\"M1347.2162,-1797.5019C1355.7269,-1799.8938 1364.5486,-1802.3731 1373.2273,-1804.8122\"/>\n<polygon fill=\"#000000\" stroke=\"#000000\" points=\"1372.3669,-1808.206 1382.9409,-1807.5422 1374.2609,-1801.467 1372.3669,-1808.206\"/>\n</g>\n<!-- 59 -->\n<g id=\"node60\" class=\"node\">\n<title>59</title>\n<polygon fill=\"#399de5\" stroke=\"#000000\" points=\"1497,-1772 1386,-1772 1386,-1704 1497,-1704 1497,-1772\"/>\n<text text-anchor=\"middle\" x=\"1441.5\" y=\"-1756.8\" font-family=\"Times,serif\" font-size=\"14.00\" fill=\"#000000\">gini = 0.0</text>\n<text text-anchor=\"middle\" x=\"1441.5\" y=\"-1741.8\" font-family=\"Times,serif\" font-size=\"14.00\" fill=\"#000000\">samples = 1</text>\n<text text-anchor=\"middle\" x=\"1441.5\" y=\"-1726.8\" font-family=\"Times,serif\" font-size=\"14.00\" fill=\"#000000\">value = [0, 1]</text>\n<text text-anchor=\"middle\" x=\"1441.5\" y=\"-1711.8\" font-family=\"Times,serif\" font-size=\"14.00\" fill=\"#000000\">class = Survived</text>\n</g>\n<!-- 57&#45;&gt;59 -->\n<g id=\"edge59\" class=\"edge\">\n<title>57&#45;&gt;59</title>\n<path fill=\"none\" stroke=\"#000000\" d=\"M1347.2162,-1764.4981C1356.6605,-1761.8438 1366.4876,-1759.0819 1376.0775,-1756.3867\"/>\n<polygon fill=\"#000000\" stroke=\"#000000\" points=\"1377.2792,-1759.6847 1385.9592,-1753.6095 1375.3852,-1752.9457 1377.2792,-1759.6847\"/>\n</g>\n<!-- 63 -->\n<g id=\"node64\" class=\"node\">\n<title>63</title>\n<polygon fill=\"#e58139\" fill-opacity=\"0.945098\" stroke=\"#000000\" points=\"883,-1717.5 780,-1717.5 780,-1634.5 883,-1634.5 883,-1717.5\"/>\n<text text-anchor=\"middle\" x=\"831.5\" y=\"-1702.3\" font-family=\"Times,serif\" font-size=\"14.00\" fill=\"#000000\">fare &lt;= 26.125</text>\n<text text-anchor=\"middle\" x=\"831.5\" y=\"-1687.3\" font-family=\"Times,serif\" font-size=\"14.00\" fill=\"#000000\">gini = 0.1</text>\n<text text-anchor=\"middle\" x=\"831.5\" y=\"-1672.3\" font-family=\"Times,serif\" font-size=\"14.00\" fill=\"#000000\">samples = 19</text>\n<text text-anchor=\"middle\" x=\"831.5\" y=\"-1657.3\" font-family=\"Times,serif\" font-size=\"14.00\" fill=\"#000000\">value = [18, 1]</text>\n<text text-anchor=\"middle\" x=\"831.5\" y=\"-1642.3\" font-family=\"Times,serif\" font-size=\"14.00\" fill=\"#000000\">class = Died</text>\n</g>\n<!-- 62&#45;&gt;63 -->\n<g id=\"edge63\" class=\"edge\">\n<title>62&#45;&gt;63</title>\n<path fill=\"none\" stroke=\"#000000\" d=\"M729.8724,-1674.0073C742.545,-1674.2558 756.2526,-1674.5246 769.3747,-1674.7819\"/>\n<polygon fill=\"#000000\" stroke=\"#000000\" points=\"769.6753,-1678.2883 779.742,-1674.9851 769.8126,-1671.2897 769.6753,-1678.2883\"/>\n</g>\n<!-- 68 -->\n<g id=\"node69\" class=\"node\">\n<title>68</title>\n<polygon fill=\"#e58139\" stroke=\"#000000\" points=\"882.5,-1616 780.5,-1616 780.5,-1548 882.5,-1548 882.5,-1616\"/>\n<text text-anchor=\"middle\" x=\"831.5\" y=\"-1600.8\" font-family=\"Times,serif\" font-size=\"14.00\" fill=\"#000000\">gini = 0.0</text>\n<text text-anchor=\"middle\" x=\"831.5\" y=\"-1585.8\" font-family=\"Times,serif\" font-size=\"14.00\" fill=\"#000000\">samples = 17</text>\n<text text-anchor=\"middle\" x=\"831.5\" y=\"-1570.8\" font-family=\"Times,serif\" font-size=\"14.00\" fill=\"#000000\">value = [17, 0]</text>\n<text text-anchor=\"middle\" x=\"831.5\" y=\"-1555.8\" font-family=\"Times,serif\" font-size=\"14.00\" fill=\"#000000\">class = Died</text>\n</g>\n<!-- 62&#45;&gt;68 -->\n<g id=\"edge68\" class=\"edge\">\n<title>62&#45;&gt;68</title>\n<path fill=\"none\" stroke=\"#000000\" d=\"M729.8724,-1642.4452C743.1893,-1634.5246 757.6491,-1625.9244 771.3715,-1617.7627\"/>\n<polygon fill=\"#000000\" stroke=\"#000000\" points=\"773.4576,-1620.5943 780.2632,-1612.4742 769.8793,-1614.578 773.4576,-1620.5943\"/>\n</g>\n<!-- 64 -->\n<g id=\"node65\" class=\"node\">\n<title>64</title>\n<polygon fill=\"#e58139\" fill-opacity=\"0.909804\" stroke=\"#000000\" points=\"1034.5,-1724.5 933.5,-1724.5 933.5,-1641.5 1034.5,-1641.5 1034.5,-1724.5\"/>\n<text text-anchor=\"middle\" x=\"984\" y=\"-1709.3\" font-family=\"Times,serif\" font-size=\"14.00\" fill=\"#000000\">fare &lt;= 23.5</text>\n<text text-anchor=\"middle\" x=\"984\" y=\"-1694.3\" font-family=\"Times,serif\" font-size=\"14.00\" fill=\"#000000\">gini = 0.153</text>\n<text text-anchor=\"middle\" x=\"984\" y=\"-1679.3\" font-family=\"Times,serif\" font-size=\"14.00\" fill=\"#000000\">samples = 12</text>\n<text text-anchor=\"middle\" x=\"984\" y=\"-1664.3\" font-family=\"Times,serif\" font-size=\"14.00\" fill=\"#000000\">value = [11, 1]</text>\n<text text-anchor=\"middle\" x=\"984\" y=\"-1649.3\" font-family=\"Times,serif\" font-size=\"14.00\" fill=\"#000000\">class = Died</text>\n</g>\n<!-- 63&#45;&gt;64 -->\n<g id=\"edge64\" class=\"edge\">\n<title>63&#45;&gt;64</title>\n<path fill=\"none\" stroke=\"#000000\" d=\"M883.1295,-1678.3699C896.0747,-1678.9641 910.0804,-1679.607 923.4178,-1680.2192\"/>\n<polygon fill=\"#000000\" stroke=\"#000000\" points=\"923.308,-1683.7177 933.458,-1680.68 923.629,-1676.7251 923.308,-1683.7177\"/>\n</g>\n<!-- 67 -->\n<g id=\"node68\" class=\"node\">\n<title>67</title>\n<polygon fill=\"#e58139\" stroke=\"#000000\" points=\"1031.5,-1623 936.5,-1623 936.5,-1555 1031.5,-1555 1031.5,-1623\"/>\n<text text-anchor=\"middle\" x=\"984\" y=\"-1607.8\" font-family=\"Times,serif\" font-size=\"14.00\" fill=\"#000000\">gini = 0.0</text>\n<text text-anchor=\"middle\" x=\"984\" y=\"-1592.8\" font-family=\"Times,serif\" font-size=\"14.00\" fill=\"#000000\">samples = 7</text>\n<text text-anchor=\"middle\" x=\"984\" y=\"-1577.8\" font-family=\"Times,serif\" font-size=\"14.00\" fill=\"#000000\">value = [7, 0]</text>\n<text text-anchor=\"middle\" x=\"984\" y=\"-1562.8\" font-family=\"Times,serif\" font-size=\"14.00\" fill=\"#000000\">class = Died</text>\n</g>\n<!-- 63&#45;&gt;67 -->\n<g id=\"edge67\" class=\"edge\">\n<title>63&#45;&gt;67</title>\n<path fill=\"none\" stroke=\"#000000\" d=\"M883.1295,-1646.5458C897.3695,-1638.422 912.8928,-1629.5661 927.398,-1621.291\"/>\n<polygon fill=\"#000000\" stroke=\"#000000\" points=\"929.3259,-1624.2207 936.2775,-1616.2253 925.8572,-1618.1405 929.3259,-1624.2207\"/>\n</g>\n<!-- 65 -->\n<g id=\"node66\" class=\"node\">\n<title>65</title>\n<polygon fill=\"#e58139\" stroke=\"#000000\" points=\"1183.5,-1717 1088.5,-1717 1088.5,-1649 1183.5,-1649 1183.5,-1717\"/>\n<text text-anchor=\"middle\" x=\"1136\" y=\"-1701.8\" font-family=\"Times,serif\" font-size=\"14.00\" fill=\"#000000\">gini = 0.0</text>\n<text text-anchor=\"middle\" x=\"1136\" y=\"-1686.8\" font-family=\"Times,serif\" font-size=\"14.00\" fill=\"#000000\">samples = 3</text>\n<text text-anchor=\"middle\" x=\"1136\" y=\"-1671.8\" font-family=\"Times,serif\" font-size=\"14.00\" fill=\"#000000\">value = [3, 0]</text>\n<text text-anchor=\"middle\" x=\"1136\" y=\"-1656.8\" font-family=\"Times,serif\" font-size=\"14.00\" fill=\"#000000\">class = Died</text>\n</g>\n<!-- 64&#45;&gt;65 -->\n<g id=\"edge65\" class=\"edge\">\n<title>64&#45;&gt;65</title>\n<path fill=\"none\" stroke=\"#000000\" d=\"M1034.6138,-1683C1048.582,-1683 1063.8429,-1683 1078.1856,-1683\"/>\n<polygon fill=\"#000000\" stroke=\"#000000\" points=\"1078.4356,-1686.5001 1088.4355,-1683 1078.4355,-1679.5001 1078.4356,-1686.5001\"/>\n</g>\n<!-- 66 -->\n<g id=\"node67\" class=\"node\">\n<title>66</title>\n<polygon fill=\"#e58139\" fill-opacity=\"0.874510\" stroke=\"#000000\" points=\"1183.5,-1631 1088.5,-1631 1088.5,-1563 1183.5,-1563 1183.5,-1631\"/>\n<text text-anchor=\"middle\" x=\"1136\" y=\"-1615.8\" font-family=\"Times,serif\" font-size=\"14.00\" fill=\"#000000\">gini = 0.198</text>\n<text text-anchor=\"middle\" x=\"1136\" y=\"-1600.8\" font-family=\"Times,serif\" font-size=\"14.00\" fill=\"#000000\">samples = 9</text>\n<text text-anchor=\"middle\" x=\"1136\" y=\"-1585.8\" font-family=\"Times,serif\" font-size=\"14.00\" fill=\"#000000\">value = [8, 1]</text>\n<text text-anchor=\"middle\" x=\"1136\" y=\"-1570.8\" font-family=\"Times,serif\" font-size=\"14.00\" fill=\"#000000\">class = Died</text>\n</g>\n<!-- 64&#45;&gt;66 -->\n<g id=\"edge66\" class=\"edge\">\n<title>64&#45;&gt;66</title>\n<path fill=\"none\" stroke=\"#000000\" d=\"M1034.6138,-1654.3632C1048.9889,-1646.23 1064.7329,-1637.3222 1079.4365,-1629.003\"/>\n<polygon fill=\"#000000\" stroke=\"#000000\" points=\"1081.4556,-1631.8821 1088.4355,-1623.9115 1078.0085,-1625.7896 1081.4556,-1631.8821\"/>\n</g>\n<!-- 70 -->\n<g id=\"node71\" class=\"node\">\n<title>70</title>\n<polygon fill=\"#399de5\" fill-opacity=\"0.333333\" stroke=\"#000000\" points=\"734,-1610 623,-1610 623,-1542 734,-1542 734,-1610\"/>\n<text text-anchor=\"middle\" x=\"678.5\" y=\"-1594.8\" font-family=\"Times,serif\" font-size=\"14.00\" fill=\"#000000\">gini = 0.48</text>\n<text text-anchor=\"middle\" x=\"678.5\" y=\"-1579.8\" font-family=\"Times,serif\" font-size=\"14.00\" fill=\"#000000\">samples = 5</text>\n<text text-anchor=\"middle\" x=\"678.5\" y=\"-1564.8\" font-family=\"Times,serif\" font-size=\"14.00\" fill=\"#000000\">value = [2, 3]</text>\n<text text-anchor=\"middle\" x=\"678.5\" y=\"-1549.8\" font-family=\"Times,serif\" font-size=\"14.00\" fill=\"#000000\">class = Survived</text>\n</g>\n<!-- 69&#45;&gt;70 -->\n<g id=\"edge70\" class=\"edge\">\n<title>69&#45;&gt;70</title>\n<path fill=\"none\" stroke=\"#000000\" d=\"M577.2988,-1574.6771C588.6305,-1574.8252 600.7721,-1574.9839 612.5716,-1575.1382\"/>\n<polygon fill=\"#000000\" stroke=\"#000000\" points=\"612.779,-1578.6411 622.8239,-1575.2722 612.8705,-1571.6417 612.779,-1578.6411\"/>\n</g>\n<!-- 71 -->\n<g id=\"node72\" class=\"node\">\n<title>71</title>\n<polygon fill=\"#e58139\" stroke=\"#000000\" points=\"726,-1524 631,-1524 631,-1456 726,-1456 726,-1524\"/>\n<text text-anchor=\"middle\" x=\"678.5\" y=\"-1508.8\" font-family=\"Times,serif\" font-size=\"14.00\" fill=\"#000000\">gini = 0.0</text>\n<text text-anchor=\"middle\" x=\"678.5\" y=\"-1493.8\" font-family=\"Times,serif\" font-size=\"14.00\" fill=\"#000000\">samples = 8</text>\n<text text-anchor=\"middle\" x=\"678.5\" y=\"-1478.8\" font-family=\"Times,serif\" font-size=\"14.00\" fill=\"#000000\">value = [8, 0]</text>\n<text text-anchor=\"middle\" x=\"678.5\" y=\"-1463.8\" font-family=\"Times,serif\" font-size=\"14.00\" fill=\"#000000\">class = Died</text>\n</g>\n<!-- 69&#45;&gt;71 -->\n<g id=\"edge71\" class=\"edge\">\n<title>69&#45;&gt;71</title>\n<path fill=\"none\" stroke=\"#000000\" d=\"M577.2988,-1545.5614C591.6572,-1537.6784 607.3162,-1529.0813 621.9318,-1521.0571\"/>\n<polygon fill=\"#000000\" stroke=\"#000000\" points=\"623.7948,-1524.0271 630.8762,-1516.1464 620.426,-1517.891 623.7948,-1524.0271\"/>\n</g>\n<!-- 73 -->\n<g id=\"node74\" class=\"node\">\n<title>73</title>\n<polygon fill=\"#399de5\" fill-opacity=\"0.937255\" stroke=\"#000000\" points=\"428,-1216.5 317,-1216.5 317,-1133.5 428,-1133.5 428,-1216.5\"/>\n<text text-anchor=\"middle\" x=\"372.5\" y=\"-1201.3\" font-family=\"Times,serif\" font-size=\"14.00\" fill=\"#000000\">fare &lt;= 28.856</text>\n<text text-anchor=\"middle\" x=\"372.5\" y=\"-1186.3\" font-family=\"Times,serif\" font-size=\"14.00\" fill=\"#000000\">gini = 0.109</text>\n<text text-anchor=\"middle\" x=\"372.5\" y=\"-1171.3\" font-family=\"Times,serif\" font-size=\"14.00\" fill=\"#000000\">samples = 138</text>\n<text text-anchor=\"middle\" x=\"372.5\" y=\"-1156.3\" font-family=\"Times,serif\" font-size=\"14.00\" fill=\"#000000\">value = [8, 130]</text>\n<text text-anchor=\"middle\" x=\"372.5\" y=\"-1141.3\" font-family=\"Times,serif\" font-size=\"14.00\" fill=\"#000000\">class = Survived</text>\n</g>\n<!-- 72&#45;&gt;73 -->\n<g id=\"edge73\" class=\"edge\">\n<title>72&#45;&gt;73</title>\n<path fill=\"none\" stroke=\"#000000\" d=\"M278.2162,-1175C287.5611,-1175 297.2808,-1175 306.7746,-1175\"/>\n<polygon fill=\"#000000\" stroke=\"#000000\" points=\"306.9593,-1178.5001 316.9592,-1175 306.9592,-1171.5001 306.9593,-1178.5001\"/>\n</g>\n<!-- 98 -->\n<g id=\"node99\" class=\"node\">\n<title>98</title>\n<polygon fill=\"#e58139\" fill-opacity=\"0.047059\" stroke=\"#000000\" points=\"427.5,-825.5 317.5,-825.5 317.5,-742.5 427.5,-742.5 427.5,-825.5\"/>\n<text text-anchor=\"middle\" x=\"372.5\" y=\"-810.3\" font-family=\"Times,serif\" font-size=\"14.00\" fill=\"#000000\">fare &lt;= 23.35</text>\n<text text-anchor=\"middle\" x=\"372.5\" y=\"-795.3\" font-family=\"Times,serif\" font-size=\"14.00\" fill=\"#000000\">gini = 0.5</text>\n<text text-anchor=\"middle\" x=\"372.5\" y=\"-780.3\" font-family=\"Times,serif\" font-size=\"14.00\" fill=\"#000000\">samples = 121</text>\n<text text-anchor=\"middle\" x=\"372.5\" y=\"-765.3\" font-family=\"Times,serif\" font-size=\"14.00\" fill=\"#000000\">value = [62, 59]</text>\n<text text-anchor=\"middle\" x=\"372.5\" y=\"-750.3\" font-family=\"Times,serif\" font-size=\"14.00\" fill=\"#000000\">class = Died</text>\n</g>\n<!-- 72&#45;&gt;98 -->\n<g id=\"edge98\" class=\"edge\">\n<title>72&#45;&gt;98</title>\n<path fill=\"none\" stroke=\"#000000\" d=\"M235.8737,-1133.1562C264.114,-1060.9864 321.8859,-913.3472 352.473,-835.18\"/>\n<polygon fill=\"#000000\" stroke=\"#000000\" points=\"355.8593,-836.1308 356.244,-825.543 349.3406,-833.58 355.8593,-836.1308\"/>\n</g>\n<!-- 74 -->\n<g id=\"node75\" class=\"node\">\n<title>74</title>\n<polygon fill=\"#399de5\" fill-opacity=\"0.882353\" stroke=\"#000000\" points=\"581,-1267.5 470,-1267.5 470,-1184.5 581,-1184.5 581,-1267.5\"/>\n<text text-anchor=\"middle\" x=\"525.5\" y=\"-1252.3\" font-family=\"Times,serif\" font-size=\"14.00\" fill=\"#000000\">fare &lt;= 28.231</text>\n<text text-anchor=\"middle\" x=\"525.5\" y=\"-1237.3\" font-family=\"Times,serif\" font-size=\"14.00\" fill=\"#000000\">gini = 0.188</text>\n<text text-anchor=\"middle\" x=\"525.5\" y=\"-1222.3\" font-family=\"Times,serif\" font-size=\"14.00\" fill=\"#000000\">samples = 57</text>\n<text text-anchor=\"middle\" x=\"525.5\" y=\"-1207.3\" font-family=\"Times,serif\" font-size=\"14.00\" fill=\"#000000\">value = [6, 51]</text>\n<text text-anchor=\"middle\" x=\"525.5\" y=\"-1192.3\" font-family=\"Times,serif\" font-size=\"14.00\" fill=\"#000000\">class = Survived</text>\n</g>\n<!-- 73&#45;&gt;74 -->\n<g id=\"edge74\" class=\"edge\">\n<title>73&#45;&gt;74</title>\n<path fill=\"none\" stroke=\"#000000\" d=\"M428.1693,-1193.5564C438.5706,-1197.0235 449.528,-1200.676 460.1891,-1204.2297\"/>\n<polygon fill=\"#000000\" stroke=\"#000000\" points=\"459.2785,-1207.6154 469.8721,-1207.4574 461.4921,-1200.9746 459.2785,-1207.6154\"/>\n</g>\n<!-- 91 -->\n<g id=\"node92\" class=\"node\">\n<title>91</title>\n<polygon fill=\"#399de5\" fill-opacity=\"0.976471\" stroke=\"#000000\" points=\"581,-1166.5 470,-1166.5 470,-1083.5 581,-1083.5 581,-1166.5\"/>\n<text text-anchor=\"middle\" x=\"525.5\" y=\"-1151.3\" font-family=\"Times,serif\" font-size=\"14.00\" fill=\"#000000\">fare &lt;= 149.035</text>\n<text text-anchor=\"middle\" x=\"525.5\" y=\"-1136.3\" font-family=\"Times,serif\" font-size=\"14.00\" fill=\"#000000\">gini = 0.048</text>\n<text text-anchor=\"middle\" x=\"525.5\" y=\"-1121.3\" font-family=\"Times,serif\" font-size=\"14.00\" fill=\"#000000\">samples = 81</text>\n<text text-anchor=\"middle\" x=\"525.5\" y=\"-1106.3\" font-family=\"Times,serif\" font-size=\"14.00\" fill=\"#000000\">value = [2, 79]</text>\n<text text-anchor=\"middle\" x=\"525.5\" y=\"-1091.3\" font-family=\"Times,serif\" font-size=\"14.00\" fill=\"#000000\">class = Survived</text>\n</g>\n<!-- 73&#45;&gt;91 -->\n<g id=\"edge91\" class=\"edge\">\n<title>73&#45;&gt;91</title>\n<path fill=\"none\" stroke=\"#000000\" d=\"M428.1693,-1156.8074C438.5706,-1153.4083 449.528,-1149.8275 460.1891,-1146.3434\"/>\n<polygon fill=\"#000000\" stroke=\"#000000\" points=\"461.454,-1149.6123 469.8721,-1143.179 459.2796,-1142.9586 461.454,-1149.6123\"/>\n</g>\n<!-- 75 -->\n<g id=\"node76\" class=\"node\">\n<title>75</title>\n<polygon fill=\"#399de5\" fill-opacity=\"0.901961\" stroke=\"#000000\" points=\"734,-1355.5 623,-1355.5 623,-1272.5 734,-1272.5 734,-1355.5\"/>\n<text text-anchor=\"middle\" x=\"678.5\" y=\"-1340.3\" font-family=\"Times,serif\" font-size=\"14.00\" fill=\"#000000\">fare &lt;= 13.25</text>\n<text text-anchor=\"middle\" x=\"678.5\" y=\"-1325.3\" font-family=\"Times,serif\" font-size=\"14.00\" fill=\"#000000\">gini = 0.163</text>\n<text text-anchor=\"middle\" x=\"678.5\" y=\"-1310.3\" font-family=\"Times,serif\" font-size=\"14.00\" fill=\"#000000\">samples = 56</text>\n<text text-anchor=\"middle\" x=\"678.5\" y=\"-1295.3\" font-family=\"Times,serif\" font-size=\"14.00\" fill=\"#000000\">value = [5, 51]</text>\n<text text-anchor=\"middle\" x=\"678.5\" y=\"-1280.3\" font-family=\"Times,serif\" font-size=\"14.00\" fill=\"#000000\">class = Survived</text>\n</g>\n<!-- 74&#45;&gt;75 -->\n<g id=\"edge75\" class=\"edge\">\n<title>74&#45;&gt;75</title>\n<path fill=\"none\" stroke=\"#000000\" d=\"M581.1693,-1258.019C591.889,-1264.1845 603.1994,-1270.6898 614.1673,-1276.9982\"/>\n<polygon fill=\"#000000\" stroke=\"#000000\" points=\"612.4586,-1280.053 622.8721,-1282.0049 615.9487,-1273.9851 612.4586,-1280.053\"/>\n</g>\n<!-- 90 -->\n<g id=\"node91\" class=\"node\">\n<title>90</title>\n<polygon fill=\"#e58139\" stroke=\"#000000\" points=\"726,-1254 631,-1254 631,-1186 726,-1186 726,-1254\"/>\n<text text-anchor=\"middle\" x=\"678.5\" y=\"-1238.8\" font-family=\"Times,serif\" font-size=\"14.00\" fill=\"#000000\">gini = 0.0</text>\n<text text-anchor=\"middle\" x=\"678.5\" y=\"-1223.8\" font-family=\"Times,serif\" font-size=\"14.00\" fill=\"#000000\">samples = 1</text>\n<text text-anchor=\"middle\" x=\"678.5\" y=\"-1208.8\" font-family=\"Times,serif\" font-size=\"14.00\" fill=\"#000000\">value = [1, 0]</text>\n<text text-anchor=\"middle\" x=\"678.5\" y=\"-1193.8\" font-family=\"Times,serif\" font-size=\"14.00\" fill=\"#000000\">class = Died</text>\n</g>\n<!-- 74&#45;&gt;90 -->\n<g id=\"edge90\" class=\"edge\">\n<title>74&#45;&gt;90</title>\n<path fill=\"none\" stroke=\"#000000\" d=\"M581.1693,-1223.8169C593.979,-1223.3145 607.6322,-1222.7791 620.5365,-1222.2731\"/>\n<polygon fill=\"#000000\" stroke=\"#000000\" points=\"620.8395,-1225.764 630.6946,-1221.8747 620.5651,-1218.7694 620.8395,-1225.764\"/>\n</g>\n<!-- 76 -->\n<g id=\"node77\" class=\"node\">\n<title>76</title>\n<polygon fill=\"#399de5\" fill-opacity=\"0.823529\" stroke=\"#000000\" points=\"887,-1454.5 776,-1454.5 776,-1371.5 887,-1371.5 887,-1454.5\"/>\n<text text-anchor=\"middle\" x=\"831.5\" y=\"-1439.3\" font-family=\"Times,serif\" font-size=\"14.00\" fill=\"#000000\">fare &lt;= 12.675</text>\n<text text-anchor=\"middle\" x=\"831.5\" y=\"-1424.3\" font-family=\"Times,serif\" font-size=\"14.00\" fill=\"#000000\">gini = 0.255</text>\n<text text-anchor=\"middle\" x=\"831.5\" y=\"-1409.3\" font-family=\"Times,serif\" font-size=\"14.00\" fill=\"#000000\">samples = 20</text>\n<text text-anchor=\"middle\" x=\"831.5\" y=\"-1394.3\" font-family=\"Times,serif\" font-size=\"14.00\" fill=\"#000000\">value = [3, 17]</text>\n<text text-anchor=\"middle\" x=\"831.5\" y=\"-1379.3\" font-family=\"Times,serif\" font-size=\"14.00\" fill=\"#000000\">class = Survived</text>\n</g>\n<!-- 75&#45;&gt;76 -->\n<g id=\"edge76\" class=\"edge\">\n<title>75&#45;&gt;76</title>\n<path fill=\"none\" stroke=\"#000000\" d=\"M734.1693,-1350.0213C744.889,-1356.9576 756.1994,-1364.2761 767.1673,-1371.373\"/>\n<polygon fill=\"#000000\" stroke=\"#000000\" points=\"765.575,-1374.5114 775.8721,-1377.0055 769.3778,-1368.6344 765.575,-1374.5114\"/>\n</g>\n<!-- 81 -->\n<g id=\"node82\" class=\"node\">\n<title>81</title>\n<polygon fill=\"#399de5\" fill-opacity=\"0.941176\" stroke=\"#000000\" points=\"887,-1353.5 776,-1353.5 776,-1270.5 887,-1270.5 887,-1353.5\"/>\n<text text-anchor=\"middle\" x=\"831.5\" y=\"-1338.3\" font-family=\"Times,serif\" font-size=\"14.00\" fill=\"#000000\">fare &lt;= 20.25</text>\n<text text-anchor=\"middle\" x=\"831.5\" y=\"-1323.3\" font-family=\"Times,serif\" font-size=\"14.00\" fill=\"#000000\">gini = 0.105</text>\n<text text-anchor=\"middle\" x=\"831.5\" y=\"-1308.3\" font-family=\"Times,serif\" font-size=\"14.00\" fill=\"#000000\">samples = 36</text>\n<text text-anchor=\"middle\" x=\"831.5\" y=\"-1293.3\" font-family=\"Times,serif\" font-size=\"14.00\" fill=\"#000000\">value = [2, 34]</text>\n<text text-anchor=\"middle\" x=\"831.5\" y=\"-1278.3\" font-family=\"Times,serif\" font-size=\"14.00\" fill=\"#000000\">class = Survived</text>\n</g>\n<!-- 75&#45;&gt;81 -->\n<g id=\"edge81\" class=\"edge\">\n<title>75&#45;&gt;81</title>\n<path fill=\"none\" stroke=\"#000000\" d=\"M734.1693,-1313.2723C744.4645,-1313.1377 755.3044,-1312.996 765.8626,-1312.858\"/>\n<polygon fill=\"#000000\" stroke=\"#000000\" points=\"765.9188,-1316.3577 775.8721,-1312.7272 765.8272,-1309.3583 765.9188,-1316.3577\"/>\n</g>\n<!-- 77 -->\n<g id=\"node78\" class=\"node\">\n<title>77</title>\n<polygon fill=\"#399de5\" fill-opacity=\"0.858824\" stroke=\"#000000\" points=\"1039.5,-1536.5 928.5,-1536.5 928.5,-1453.5 1039.5,-1453.5 1039.5,-1536.5\"/>\n<text text-anchor=\"middle\" x=\"984\" y=\"-1521.3\" font-family=\"Times,serif\" font-size=\"14.00\" fill=\"#000000\">fare &lt;= 11.425</text>\n<text text-anchor=\"middle\" x=\"984\" y=\"-1506.3\" font-family=\"Times,serif\" font-size=\"14.00\" fill=\"#000000\">gini = 0.219</text>\n<text text-anchor=\"middle\" x=\"984\" y=\"-1491.3\" font-family=\"Times,serif\" font-size=\"14.00\" fill=\"#000000\">samples = 8</text>\n<text text-anchor=\"middle\" x=\"984\" y=\"-1476.3\" font-family=\"Times,serif\" font-size=\"14.00\" fill=\"#000000\">value = [1, 7]</text>\n<text text-anchor=\"middle\" x=\"984\" y=\"-1461.3\" font-family=\"Times,serif\" font-size=\"14.00\" fill=\"#000000\">class = Survived</text>\n</g>\n<!-- 76&#45;&gt;77 -->\n<g id=\"edge77\" class=\"edge\">\n<title>76&#45;&gt;77</title>\n<path fill=\"none\" stroke=\"#000000\" d=\"M887.4194,-1443.0682C897.846,-1448.6746 908.8198,-1454.5752 919.4801,-1460.3074\"/>\n<polygon fill=\"#000000\" stroke=\"#000000\" points=\"917.8772,-1463.4193 928.3422,-1465.0725 921.1923,-1457.254 917.8772,-1463.4193\"/>\n</g>\n<!-- 80 -->\n<g id=\"node81\" class=\"node\">\n<title>80</title>\n<polygon fill=\"#399de5\" fill-opacity=\"0.800000\" stroke=\"#000000\" points=\"1039.5,-1435 928.5,-1435 928.5,-1367 1039.5,-1367 1039.5,-1435\"/>\n<text text-anchor=\"middle\" x=\"984\" y=\"-1419.8\" font-family=\"Times,serif\" font-size=\"14.00\" fill=\"#000000\">gini = 0.278</text>\n<text text-anchor=\"middle\" x=\"984\" y=\"-1404.8\" font-family=\"Times,serif\" font-size=\"14.00\" fill=\"#000000\">samples = 12</text>\n<text text-anchor=\"middle\" x=\"984\" y=\"-1389.8\" font-family=\"Times,serif\" font-size=\"14.00\" fill=\"#000000\">value = [2, 10]</text>\n<text text-anchor=\"middle\" x=\"984\" y=\"-1374.8\" font-family=\"Times,serif\" font-size=\"14.00\" fill=\"#000000\">class = Survived</text>\n</g>\n<!-- 76&#45;&gt;80 -->\n<g id=\"edge80\" class=\"edge\">\n<title>76&#45;&gt;80</title>\n<path fill=\"none\" stroke=\"#000000\" d=\"M887.4194,-1408.5998C897.429,-1407.8121 907.9428,-1406.9848 918.1994,-1406.1777\"/>\n<polygon fill=\"#000000\" stroke=\"#000000\" points=\"918.6476,-1409.6534 928.3422,-1405.3796 918.0985,-1402.675 918.6476,-1409.6534\"/>\n</g>\n<!-- 78 -->\n<g id=\"node79\" class=\"node\">\n<title>78</title>\n<polygon fill=\"#399de5\" fill-opacity=\"0.800000\" stroke=\"#000000\" points=\"1191.5,-1537 1080.5,-1537 1080.5,-1469 1191.5,-1469 1191.5,-1537\"/>\n<text text-anchor=\"middle\" x=\"1136\" y=\"-1521.8\" font-family=\"Times,serif\" font-size=\"14.00\" fill=\"#000000\">gini = 0.278</text>\n<text text-anchor=\"middle\" x=\"1136\" y=\"-1506.8\" font-family=\"Times,serif\" font-size=\"14.00\" fill=\"#000000\">samples = 6</text>\n<text text-anchor=\"middle\" x=\"1136\" y=\"-1491.8\" font-family=\"Times,serif\" font-size=\"14.00\" fill=\"#000000\">value = [1, 5]</text>\n<text text-anchor=\"middle\" x=\"1136\" y=\"-1476.8\" font-family=\"Times,serif\" font-size=\"14.00\" fill=\"#000000\">class = Survived</text>\n</g>\n<!-- 77&#45;&gt;78 -->\n<g id=\"edge78\" class=\"edge\">\n<title>77&#45;&gt;78</title>\n<path fill=\"none\" stroke=\"#000000\" d=\"M1039.7361,-1497.9335C1049.6493,-1498.4552 1060.0587,-1499.0031 1070.2198,-1499.5379\"/>\n<polygon fill=\"#000000\" stroke=\"#000000\" points=\"1070.1005,-1503.0364 1080.2706,-1500.0669 1070.4685,-1496.046 1070.1005,-1503.0364\"/>\n</g>\n<!-- 79 -->\n<g id=\"node80\" class=\"node\">\n<title>79</title>\n<polygon fill=\"#399de5\" stroke=\"#000000\" points=\"1191.5,-1451 1080.5,-1451 1080.5,-1383 1191.5,-1383 1191.5,-1451\"/>\n<text text-anchor=\"middle\" x=\"1136\" y=\"-1435.8\" font-family=\"Times,serif\" font-size=\"14.00\" fill=\"#000000\">gini = 0.0</text>\n<text text-anchor=\"middle\" x=\"1136\" y=\"-1420.8\" font-family=\"Times,serif\" font-size=\"14.00\" fill=\"#000000\">samples = 2</text>\n<text text-anchor=\"middle\" x=\"1136\" y=\"-1405.8\" font-family=\"Times,serif\" font-size=\"14.00\" fill=\"#000000\">value = [0, 2]</text>\n<text text-anchor=\"middle\" x=\"1136\" y=\"-1390.8\" font-family=\"Times,serif\" font-size=\"14.00\" fill=\"#000000\">class = Survived</text>\n</g>\n<!-- 77&#45;&gt;79 -->\n<g id=\"edge79\" class=\"edge\">\n<title>77&#45;&gt;79</title>\n<path fill=\"none\" stroke=\"#000000\" d=\"M1039.7361,-1466.3986C1049.9591,-1461.1526 1060.7097,-1455.6358 1071.1717,-1450.2672\"/>\n<polygon fill=\"#000000\" stroke=\"#000000\" points=\"1072.9716,-1453.2775 1080.2706,-1445.598 1069.7757,-1447.0496 1072.9716,-1453.2775\"/>\n</g>\n<!-- 82 -->\n<g id=\"node83\" class=\"node\">\n<title>82</title>\n<polygon fill=\"#399de5\" stroke=\"#000000\" points=\"1039.5,-1349 928.5,-1349 928.5,-1281 1039.5,-1281 1039.5,-1349\"/>\n<text text-anchor=\"middle\" x=\"984\" y=\"-1333.8\" font-family=\"Times,serif\" font-size=\"14.00\" fill=\"#000000\">gini = 0.0</text>\n<text text-anchor=\"middle\" x=\"984\" y=\"-1318.8\" font-family=\"Times,serif\" font-size=\"14.00\" fill=\"#000000\">samples = 11</text>\n<text text-anchor=\"middle\" x=\"984\" y=\"-1303.8\" font-family=\"Times,serif\" font-size=\"14.00\" fill=\"#000000\">value = [0, 11]</text>\n<text text-anchor=\"middle\" x=\"984\" y=\"-1288.8\" font-family=\"Times,serif\" font-size=\"14.00\" fill=\"#000000\">class = Survived</text>\n</g>\n<!-- 81&#45;&gt;82 -->\n<g id=\"edge82\" class=\"edge\">\n<title>81&#45;&gt;82</title>\n<path fill=\"none\" stroke=\"#000000\" d=\"M887.4194,-1313.1001C897.429,-1313.297 907.9428,-1313.5038 918.1994,-1313.7056\"/>\n<polygon fill=\"#000000\" stroke=\"#000000\" points=\"918.2753,-1317.2076 928.3422,-1313.9051 918.413,-1310.209 918.2753,-1317.2076\"/>\n</g>\n<!-- 83 -->\n<g id=\"node84\" class=\"node\">\n<title>83</title>\n<polygon fill=\"#399de5\" fill-opacity=\"0.913725\" stroke=\"#000000\" points=\"1039.5,-1262.5 928.5,-1262.5 928.5,-1179.5 1039.5,-1179.5 1039.5,-1262.5\"/>\n<text text-anchor=\"middle\" x=\"984\" y=\"-1247.3\" font-family=\"Times,serif\" font-size=\"14.00\" fill=\"#000000\">fare &lt;= 22.0</text>\n<text text-anchor=\"middle\" x=\"984\" y=\"-1232.3\" font-family=\"Times,serif\" font-size=\"14.00\" fill=\"#000000\">gini = 0.147</text>\n<text text-anchor=\"middle\" x=\"984\" y=\"-1217.3\" font-family=\"Times,serif\" font-size=\"14.00\" fill=\"#000000\">samples = 25</text>\n<text text-anchor=\"middle\" x=\"984\" y=\"-1202.3\" font-family=\"Times,serif\" font-size=\"14.00\" fill=\"#000000\">value = [2, 23]</text>\n<text text-anchor=\"middle\" x=\"984\" y=\"-1187.3\" font-family=\"Times,serif\" font-size=\"14.00\" fill=\"#000000\">class = Survived</text>\n</g>\n<!-- 81&#45;&gt;83 -->\n<g id=\"edge83\" class=\"edge\">\n<title>81&#45;&gt;83</title>\n<path fill=\"none\" stroke=\"#000000\" d=\"M887.4194,-1278.6317C897.846,-1272.4099 908.8198,-1265.8616 919.4801,-1259.5004\"/>\n<polygon fill=\"#000000\" stroke=\"#000000\" points=\"921.5484,-1262.342 928.3422,-1254.2122 917.9614,-1256.3309 921.5484,-1262.342\"/>\n</g>\n<!-- 84 -->\n<g id=\"node85\" class=\"node\">\n<title>84</title>\n<polygon fill=\"transparent\" stroke=\"#000000\" points=\"1183.5,-1344 1088.5,-1344 1088.5,-1276 1183.5,-1276 1183.5,-1344\"/>\n<text text-anchor=\"middle\" x=\"1136\" y=\"-1328.8\" font-family=\"Times,serif\" font-size=\"14.00\" fill=\"#000000\">gini = 0.5</text>\n<text text-anchor=\"middle\" x=\"1136\" y=\"-1313.8\" font-family=\"Times,serif\" font-size=\"14.00\" fill=\"#000000\">samples = 2</text>\n<text text-anchor=\"middle\" x=\"1136\" y=\"-1298.8\" font-family=\"Times,serif\" font-size=\"14.00\" fill=\"#000000\">value = [1, 1]</text>\n<text text-anchor=\"middle\" x=\"1136\" y=\"-1283.8\" font-family=\"Times,serif\" font-size=\"14.00\" fill=\"#000000\">class = Died</text>\n</g>\n<!-- 83&#45;&gt;84 -->\n<g id=\"edge84\" class=\"edge\">\n<title>83&#45;&gt;84</title>\n<path fill=\"none\" stroke=\"#000000\" d=\"M1039.7361,-1253.6349C1052.6783,-1261.2129 1066.4663,-1269.2862 1079.4434,-1276.8846\"/>\n<polygon fill=\"#000000\" stroke=\"#000000\" points=\"1077.8797,-1280.0248 1088.2777,-1282.0574 1081.4167,-1273.9841 1077.8797,-1280.0248\"/>\n</g>\n<!-- 85 -->\n<g id=\"node86\" class=\"node\">\n<title>85</title>\n<polygon fill=\"#399de5\" fill-opacity=\"0.952941\" stroke=\"#000000\" points=\"1191.5,-1257.5 1080.5,-1257.5 1080.5,-1174.5 1191.5,-1174.5 1191.5,-1257.5\"/>\n<text text-anchor=\"middle\" x=\"1136\" y=\"-1242.3\" font-family=\"Times,serif\" font-size=\"14.00\" fill=\"#000000\">fare &lt;= 26.125</text>\n<text text-anchor=\"middle\" x=\"1136\" y=\"-1227.3\" font-family=\"Times,serif\" font-size=\"14.00\" fill=\"#000000\">gini = 0.083</text>\n<text text-anchor=\"middle\" x=\"1136\" y=\"-1212.3\" font-family=\"Times,serif\" font-size=\"14.00\" fill=\"#000000\">samples = 23</text>\n<text text-anchor=\"middle\" x=\"1136\" y=\"-1197.3\" font-family=\"Times,serif\" font-size=\"14.00\" fill=\"#000000\">value = [1, 22]</text>\n<text text-anchor=\"middle\" x=\"1136\" y=\"-1182.3\" font-family=\"Times,serif\" font-size=\"14.00\" fill=\"#000000\">class = Survived</text>\n</g>\n<!-- 83&#45;&gt;85 -->\n<g id=\"edge85\" class=\"edge\">\n<title>83&#45;&gt;85</title>\n<path fill=\"none\" stroke=\"#000000\" d=\"M1039.7361,-1219.1666C1049.6493,-1218.8405 1060.0587,-1218.4981 1070.2198,-1218.1638\"/>\n<polygon fill=\"#000000\" stroke=\"#000000\" points=\"1070.3912,-1221.6602 1080.2706,-1217.8332 1070.1609,-1214.664 1070.3912,-1221.6602\"/>\n</g>\n<!-- 86 -->\n<g id=\"node87\" class=\"node\">\n<title>86</title>\n<polygon fill=\"#399de5\" fill-opacity=\"0.929412\" stroke=\"#000000\" points=\"1344,-1313.5 1233,-1313.5 1233,-1230.5 1344,-1230.5 1344,-1313.5\"/>\n<text text-anchor=\"middle\" x=\"1288.5\" y=\"-1298.3\" font-family=\"Times,serif\" font-size=\"14.00\" fill=\"#000000\">fare &lt;= 25.965</text>\n<text text-anchor=\"middle\" x=\"1288.5\" y=\"-1283.3\" font-family=\"Times,serif\" font-size=\"14.00\" fill=\"#000000\">gini = 0.124</text>\n<text text-anchor=\"middle\" x=\"1288.5\" y=\"-1268.3\" font-family=\"Times,serif\" font-size=\"14.00\" fill=\"#000000\">samples = 15</text>\n<text text-anchor=\"middle\" x=\"1288.5\" y=\"-1253.3\" font-family=\"Times,serif\" font-size=\"14.00\" fill=\"#000000\">value = [1, 14]</text>\n<text text-anchor=\"middle\" x=\"1288.5\" y=\"-1238.3\" font-family=\"Times,serif\" font-size=\"14.00\" fill=\"#000000\">class = Survived</text>\n</g>\n<!-- 85&#45;&gt;86 -->\n<g id=\"edge86\" class=\"edge\">\n<title>85&#45;&gt;86</title>\n<path fill=\"none\" stroke=\"#000000\" d=\"M1191.9194,-1236.5343C1202.1375,-1240.2866 1212.8811,-1244.2317 1223.3401,-1248.0724\"/>\n<polygon fill=\"#000000\" stroke=\"#000000\" points=\"1222.2486,-1251.4001 1232.8422,-1251.5617 1224.6616,-1244.8291 1222.2486,-1251.4001\"/>\n</g>\n<!-- 89 -->\n<g id=\"node90\" class=\"node\">\n<title>89</title>\n<polygon fill=\"#399de5\" stroke=\"#000000\" points=\"1344,-1212 1233,-1212 1233,-1144 1344,-1144 1344,-1212\"/>\n<text text-anchor=\"middle\" x=\"1288.5\" y=\"-1196.8\" font-family=\"Times,serif\" font-size=\"14.00\" fill=\"#000000\">gini = 0.0</text>\n<text text-anchor=\"middle\" x=\"1288.5\" y=\"-1181.8\" font-family=\"Times,serif\" font-size=\"14.00\" fill=\"#000000\">samples = 8</text>\n<text text-anchor=\"middle\" x=\"1288.5\" y=\"-1166.8\" font-family=\"Times,serif\" font-size=\"14.00\" fill=\"#000000\">value = [0, 8]</text>\n<text text-anchor=\"middle\" x=\"1288.5\" y=\"-1151.8\" font-family=\"Times,serif\" font-size=\"14.00\" fill=\"#000000\">class = Survived</text>\n</g>\n<!-- 85&#45;&gt;89 -->\n<g id=\"edge89\" class=\"edge\">\n<title>85&#45;&gt;89</title>\n<path fill=\"none\" stroke=\"#000000\" d=\"M1191.9194,-1202.066C1202.0332,-1199.5458 1212.6618,-1196.8974 1223.0199,-1194.3164\"/>\n<polygon fill=\"#000000\" stroke=\"#000000\" points=\"1223.9852,-1197.6829 1232.8422,-1191.8688 1222.2927,-1190.8906 1223.9852,-1197.6829\"/>\n</g>\n<!-- 87 -->\n<g id=\"node88\" class=\"node\">\n<title>87</title>\n<polygon fill=\"#399de5\" stroke=\"#000000\" points=\"1497,-1349 1386,-1349 1386,-1281 1497,-1281 1497,-1349\"/>\n<text text-anchor=\"middle\" x=\"1441.5\" y=\"-1333.8\" font-family=\"Times,serif\" font-size=\"14.00\" fill=\"#000000\">gini = 0.0</text>\n<text text-anchor=\"middle\" x=\"1441.5\" y=\"-1318.8\" font-family=\"Times,serif\" font-size=\"14.00\" fill=\"#000000\">samples = 5</text>\n<text text-anchor=\"middle\" x=\"1441.5\" y=\"-1303.8\" font-family=\"Times,serif\" font-size=\"14.00\" fill=\"#000000\">value = [0, 5]</text>\n<text text-anchor=\"middle\" x=\"1441.5\" y=\"-1288.8\" font-family=\"Times,serif\" font-size=\"14.00\" fill=\"#000000\">class = Survived</text>\n</g>\n<!-- 86&#45;&gt;87 -->\n<g id=\"edge87\" class=\"edge\">\n<title>86&#45;&gt;87</title>\n<path fill=\"none\" stroke=\"#000000\" d=\"M1344.1693,-1287.6456C1354.5706,-1290.5689 1365.528,-1293.6484 1376.1891,-1296.6446\"/>\n<polygon fill=\"#000000\" stroke=\"#000000\" points=\"1375.2981,-1300.0298 1385.8721,-1299.366 1377.1921,-1293.2909 1375.2981,-1300.0298\"/>\n</g>\n<!-- 88 -->\n<g id=\"node89\" class=\"node\">\n<title>88</title>\n<polygon fill=\"#399de5\" fill-opacity=\"0.890196\" stroke=\"#000000\" points=\"1497,-1263 1386,-1263 1386,-1195 1497,-1195 1497,-1263\"/>\n<text text-anchor=\"middle\" x=\"1441.5\" y=\"-1247.8\" font-family=\"Times,serif\" font-size=\"14.00\" fill=\"#000000\">gini = 0.18</text>\n<text text-anchor=\"middle\" x=\"1441.5\" y=\"-1232.8\" font-family=\"Times,serif\" font-size=\"14.00\" fill=\"#000000\">samples = 10</text>\n<text text-anchor=\"middle\" x=\"1441.5\" y=\"-1217.8\" font-family=\"Times,serif\" font-size=\"14.00\" fill=\"#000000\">value = [1, 9]</text>\n<text text-anchor=\"middle\" x=\"1441.5\" y=\"-1202.8\" font-family=\"Times,serif\" font-size=\"14.00\" fill=\"#000000\">class = Survived</text>\n</g>\n<!-- 86&#45;&gt;88 -->\n<g id=\"edge88\" class=\"edge\">\n<title>86&#45;&gt;88</title>\n<path fill=\"none\" stroke=\"#000000\" d=\"M1344.1693,-1256.3544C1354.5706,-1253.4311 1365.528,-1250.3516 1376.1891,-1247.3554\"/>\n<polygon fill=\"#000000\" stroke=\"#000000\" points=\"1377.1921,-1250.7091 1385.8721,-1244.634 1375.2981,-1243.9702 1377.1921,-1250.7091\"/>\n</g>\n<!-- 92 -->\n<g id=\"node93\" class=\"node\">\n<title>92</title>\n<polygon fill=\"#399de5\" stroke=\"#000000\" points=\"734,-1164 623,-1164 623,-1096 734,-1096 734,-1164\"/>\n<text text-anchor=\"middle\" x=\"678.5\" y=\"-1148.8\" font-family=\"Times,serif\" font-size=\"14.00\" fill=\"#000000\">gini = 0.0</text>\n<text text-anchor=\"middle\" x=\"678.5\" y=\"-1133.8\" font-family=\"Times,serif\" font-size=\"14.00\" fill=\"#000000\">samples = 69</text>\n<text text-anchor=\"middle\" x=\"678.5\" y=\"-1118.8\" font-family=\"Times,serif\" font-size=\"14.00\" fill=\"#000000\">value = [0, 69]</text>\n<text text-anchor=\"middle\" x=\"678.5\" y=\"-1103.8\" font-family=\"Times,serif\" font-size=\"14.00\" fill=\"#000000\">class = Survived</text>\n</g>\n<!-- 91&#45;&gt;92 -->\n<g id=\"edge92\" class=\"edge\">\n<title>91&#45;&gt;92</title>\n<path fill=\"none\" stroke=\"#000000\" d=\"M581.1693,-1126.8193C591.4645,-1127.1557 602.3044,-1127.5099 612.8626,-1127.855\"/>\n<polygon fill=\"#000000\" stroke=\"#000000\" points=\"612.7631,-1131.3535 622.8721,-1128.1821 612.9918,-1124.3572 612.7631,-1131.3535\"/>\n</g>\n<!-- 93 -->\n<g id=\"node94\" class=\"node\">\n<title>93</title>\n<polygon fill=\"#399de5\" fill-opacity=\"0.800000\" stroke=\"#000000\" points=\"734,-1077.5 623,-1077.5 623,-994.5 734,-994.5 734,-1077.5\"/>\n<text text-anchor=\"middle\" x=\"678.5\" y=\"-1062.3\" font-family=\"Times,serif\" font-size=\"14.00\" fill=\"#000000\">fare &lt;= 152.506</text>\n<text text-anchor=\"middle\" x=\"678.5\" y=\"-1047.3\" font-family=\"Times,serif\" font-size=\"14.00\" fill=\"#000000\">gini = 0.278</text>\n<text text-anchor=\"middle\" x=\"678.5\" y=\"-1032.3\" font-family=\"Times,serif\" font-size=\"14.00\" fill=\"#000000\">samples = 12</text>\n<text text-anchor=\"middle\" x=\"678.5\" y=\"-1017.3\" font-family=\"Times,serif\" font-size=\"14.00\" fill=\"#000000\">value = [2, 10]</text>\n<text text-anchor=\"middle\" x=\"678.5\" y=\"-1002.3\" font-family=\"Times,serif\" font-size=\"14.00\" fill=\"#000000\">class = Survived</text>\n</g>\n<!-- 91&#45;&gt;93 -->\n<g id=\"edge93\" class=\"edge\">\n<title>91&#45;&gt;93</title>\n<path fill=\"none\" stroke=\"#000000\" d=\"M581.1693,-1092.6172C591.889,-1086.3816 603.1994,-1079.8023 614.1673,-1073.4223\"/>\n<polygon fill=\"#000000\" stroke=\"#000000\" points=\"615.9881,-1076.4123 622.8721,-1068.3587 612.4683,-1070.3615 615.9881,-1076.4123\"/>\n</g>\n<!-- 94 -->\n<g id=\"node95\" class=\"node\">\n<title>94</title>\n<polygon fill=\"#e58139\" fill-opacity=\"0.498039\" stroke=\"#000000\" points=\"879,-1164.5 784,-1164.5 784,-1081.5 879,-1081.5 879,-1164.5\"/>\n<text text-anchor=\"middle\" x=\"831.5\" y=\"-1149.3\" font-family=\"Times,serif\" font-size=\"14.00\" fill=\"#000000\">who &lt;= 1.5</text>\n<text text-anchor=\"middle\" x=\"831.5\" y=\"-1134.3\" font-family=\"Times,serif\" font-size=\"14.00\" fill=\"#000000\">gini = 0.444</text>\n<text text-anchor=\"middle\" x=\"831.5\" y=\"-1119.3\" font-family=\"Times,serif\" font-size=\"14.00\" fill=\"#000000\">samples = 3</text>\n<text text-anchor=\"middle\" x=\"831.5\" y=\"-1104.3\" font-family=\"Times,serif\" font-size=\"14.00\" fill=\"#000000\">value = [2, 1]</text>\n<text text-anchor=\"middle\" x=\"831.5\" y=\"-1089.3\" font-family=\"Times,serif\" font-size=\"14.00\" fill=\"#000000\">class = Died</text>\n</g>\n<!-- 93&#45;&gt;94 -->\n<g id=\"edge94\" class=\"edge\">\n<title>93&#45;&gt;94</title>\n<path fill=\"none\" stroke=\"#000000\" d=\"M734.1693,-1067.6551C747.3595,-1075.1554 761.444,-1083.1642 774.6844,-1090.6931\"/>\n<polygon fill=\"#000000\" stroke=\"#000000\" points=\"773.2717,-1093.916 783.6946,-1095.8166 776.7318,-1087.831 773.2717,-1093.916\"/>\n</g>\n<!-- 97 -->\n<g id=\"node98\" class=\"node\">\n<title>97</title>\n<polygon fill=\"#399de5\" stroke=\"#000000\" points=\"887,-1063 776,-1063 776,-995 887,-995 887,-1063\"/>\n<text text-anchor=\"middle\" x=\"831.5\" y=\"-1047.8\" font-family=\"Times,serif\" font-size=\"14.00\" fill=\"#000000\">gini = 0.0</text>\n<text text-anchor=\"middle\" x=\"831.5\" y=\"-1032.8\" font-family=\"Times,serif\" font-size=\"14.00\" fill=\"#000000\">samples = 9</text>\n<text text-anchor=\"middle\" x=\"831.5\" y=\"-1017.8\" font-family=\"Times,serif\" font-size=\"14.00\" fill=\"#000000\">value = [0, 9]</text>\n<text text-anchor=\"middle\" x=\"831.5\" y=\"-1002.8\" font-family=\"Times,serif\" font-size=\"14.00\" fill=\"#000000\">class = Survived</text>\n</g>\n<!-- 93&#45;&gt;97 -->\n<g id=\"edge97\" class=\"edge\">\n<title>93&#45;&gt;97</title>\n<path fill=\"none\" stroke=\"#000000\" d=\"M734.1693,-1033.453C744.4645,-1032.982 755.3044,-1032.4861 765.8626,-1032.003\"/>\n<polygon fill=\"#000000\" stroke=\"#000000\" points=\"766.0426,-1035.4985 775.8721,-1031.5451 765.7226,-1028.5059 766.0426,-1035.4985\"/>\n</g>\n<!-- 95 -->\n<g id=\"node96\" class=\"node\">\n<title>95</title>\n<polygon fill=\"#e58139\" stroke=\"#000000\" points=\"1031.5,-1161 936.5,-1161 936.5,-1093 1031.5,-1093 1031.5,-1161\"/>\n<text text-anchor=\"middle\" x=\"984\" y=\"-1145.8\" font-family=\"Times,serif\" font-size=\"14.00\" fill=\"#000000\">gini = 0.0</text>\n<text text-anchor=\"middle\" x=\"984\" y=\"-1130.8\" font-family=\"Times,serif\" font-size=\"14.00\" fill=\"#000000\">samples = 1</text>\n<text text-anchor=\"middle\" x=\"984\" y=\"-1115.8\" font-family=\"Times,serif\" font-size=\"14.00\" fill=\"#000000\">value = [1, 0]</text>\n<text text-anchor=\"middle\" x=\"984\" y=\"-1100.8\" font-family=\"Times,serif\" font-size=\"14.00\" fill=\"#000000\">class = Died</text>\n</g>\n<!-- 94&#45;&gt;95 -->\n<g id=\"edge95\" class=\"edge\">\n<title>94&#45;&gt;95</title>\n<path fill=\"none\" stroke=\"#000000\" d=\"M879.3335,-1124.2547C894.2376,-1124.6456 910.832,-1125.0808 926.3349,-1125.4875\"/>\n<polygon fill=\"#000000\" stroke=\"#000000\" points=\"926.2478,-1128.9863 936.3362,-1125.7498 926.4314,-1121.9887 926.2478,-1128.9863\"/>\n</g>\n<!-- 96 -->\n<g id=\"node97\" class=\"node\">\n<title>96</title>\n<polygon fill=\"transparent\" stroke=\"#000000\" points=\"1031.5,-1075 936.5,-1075 936.5,-1007 1031.5,-1007 1031.5,-1075\"/>\n<text text-anchor=\"middle\" x=\"984\" y=\"-1059.8\" font-family=\"Times,serif\" font-size=\"14.00\" fill=\"#000000\">gini = 0.5</text>\n<text text-anchor=\"middle\" x=\"984\" y=\"-1044.8\" font-family=\"Times,serif\" font-size=\"14.00\" fill=\"#000000\">samples = 2</text>\n<text text-anchor=\"middle\" x=\"984\" y=\"-1029.8\" font-family=\"Times,serif\" font-size=\"14.00\" fill=\"#000000\">value = [1, 1]</text>\n<text text-anchor=\"middle\" x=\"984\" y=\"-1014.8\" font-family=\"Times,serif\" font-size=\"14.00\" fill=\"#000000\">class = Died</text>\n</g>\n<!-- 94&#45;&gt;96 -->\n<g id=\"edge96\" class=\"edge\">\n<title>94&#45;&gt;96</title>\n<path fill=\"none\" stroke=\"#000000\" d=\"M879.3335,-1097.2797C894.5215,-1089.113 911.4648,-1080.0025 927.2196,-1071.5311\"/>\n<polygon fill=\"#000000\" stroke=\"#000000\" points=\"929.1862,-1074.4476 936.3362,-1066.6291 925.8711,-1068.2823 929.1862,-1074.4476\"/>\n</g>\n<!-- 99 -->\n<g id=\"node100\" class=\"node\">\n<title>99</title>\n<polygon fill=\"#399de5\" fill-opacity=\"0.419608\" stroke=\"#000000\" points=\"581,-825.5 470,-825.5 470,-742.5 581,-742.5 581,-825.5\"/>\n<text text-anchor=\"middle\" x=\"525.5\" y=\"-810.3\" font-family=\"Times,serif\" font-size=\"14.00\" fill=\"#000000\">fare &lt;= 7.888</text>\n<text text-anchor=\"middle\" x=\"525.5\" y=\"-795.3\" font-family=\"Times,serif\" font-size=\"14.00\" fill=\"#000000\">gini = 0.465</text>\n<text text-anchor=\"middle\" x=\"525.5\" y=\"-780.3\" font-family=\"Times,serif\" font-size=\"14.00\" fill=\"#000000\">samples = 87</text>\n<text text-anchor=\"middle\" x=\"525.5\" y=\"-765.3\" font-family=\"Times,serif\" font-size=\"14.00\" fill=\"#000000\">value = [32, 55]</text>\n<text text-anchor=\"middle\" x=\"525.5\" y=\"-750.3\" font-family=\"Times,serif\" font-size=\"14.00\" fill=\"#000000\">class = Survived</text>\n</g>\n<!-- 98&#45;&gt;99 -->\n<g id=\"edge99\" class=\"edge\">\n<title>98&#45;&gt;99</title>\n<path fill=\"none\" stroke=\"#000000\" d=\"M427.7365,-784C438.115,-784 449.0607,-784 459.7228,-784\"/>\n<polygon fill=\"#000000\" stroke=\"#000000\" points=\"459.8307,-787.5001 469.8307,-784 459.8306,-780.5001 459.8307,-787.5001\"/>\n</g>\n<!-- 132 -->\n<g id=\"node133\" class=\"node\">\n<title>132</title>\n<polygon fill=\"#e58139\" fill-opacity=\"0.866667\" stroke=\"#000000\" points=\"577,-302.5 474,-302.5 474,-219.5 577,-219.5 577,-302.5\"/>\n<text text-anchor=\"middle\" x=\"525.5\" y=\"-287.3\" font-family=\"Times,serif\" font-size=\"14.00\" fill=\"#000000\">fare &lt;= 32.881</text>\n<text text-anchor=\"middle\" x=\"525.5\" y=\"-272.3\" font-family=\"Times,serif\" font-size=\"14.00\" fill=\"#000000\">gini = 0.208</text>\n<text text-anchor=\"middle\" x=\"525.5\" y=\"-257.3\" font-family=\"Times,serif\" font-size=\"14.00\" fill=\"#000000\">samples = 34</text>\n<text text-anchor=\"middle\" x=\"525.5\" y=\"-242.3\" font-family=\"Times,serif\" font-size=\"14.00\" fill=\"#000000\">value = [30, 4]</text>\n<text text-anchor=\"middle\" x=\"525.5\" y=\"-227.3\" font-family=\"Times,serif\" font-size=\"14.00\" fill=\"#000000\">class = Died</text>\n</g>\n<!-- 98&#45;&gt;132 -->\n<g id=\"edge132\" class=\"edge\">\n<title>98&#45;&gt;132</title>\n<path fill=\"none\" stroke=\"#000000\" d=\"M384.762,-742.0848C412.521,-647.196 480.1049,-416.1742 510.3877,-312.6584\"/>\n<polygon fill=\"#000000\" stroke=\"#000000\" points=\"513.8374,-313.3316 513.286,-302.7512 507.119,-311.3662 513.8374,-313.3316\"/>\n</g>\n<!-- 100 -->\n<g id=\"node101\" class=\"node\">\n<title>100</title>\n<polygon fill=\"#399de5\" fill-opacity=\"0.650980\" stroke=\"#000000\" points=\"734,-887.5 623,-887.5 623,-804.5 734,-804.5 734,-887.5\"/>\n<text text-anchor=\"middle\" x=\"678.5\" y=\"-872.3\" font-family=\"Times,serif\" font-size=\"14.00\" fill=\"#000000\">fare &lt;= 7.523</text>\n<text text-anchor=\"middle\" x=\"678.5\" y=\"-857.3\" font-family=\"Times,serif\" font-size=\"14.00\" fill=\"#000000\">gini = 0.383</text>\n<text text-anchor=\"middle\" x=\"678.5\" y=\"-842.3\" font-family=\"Times,serif\" font-size=\"14.00\" fill=\"#000000\">samples = 31</text>\n<text text-anchor=\"middle\" x=\"678.5\" y=\"-827.3\" font-family=\"Times,serif\" font-size=\"14.00\" fill=\"#000000\">value = [8, 23]</text>\n<text text-anchor=\"middle\" x=\"678.5\" y=\"-812.3\" font-family=\"Times,serif\" font-size=\"14.00\" fill=\"#000000\">class = Survived</text>\n</g>\n<!-- 99&#45;&gt;100 -->\n<g id=\"edge100\" class=\"edge\">\n<title>99&#45;&gt;100</title>\n<path fill=\"none\" stroke=\"#000000\" d=\"M581.1693,-806.5588C591.6767,-810.8167 602.7517,-815.3046 613.5154,-819.6664\"/>\n<polygon fill=\"#000000\" stroke=\"#000000\" points=\"612.2897,-822.9461 622.8721,-823.458 614.9187,-816.4585 612.2897,-822.9461\"/>\n</g>\n<!-- 113 -->\n<g id=\"node114\" class=\"node\">\n<title>113</title>\n<polygon fill=\"#399de5\" fill-opacity=\"0.250980\" stroke=\"#000000\" points=\"734,-763.5 623,-763.5 623,-680.5 734,-680.5 734,-763.5\"/>\n<text text-anchor=\"middle\" x=\"678.5\" y=\"-748.3\" font-family=\"Times,serif\" font-size=\"14.00\" fill=\"#000000\">fare &lt;= 21.55</text>\n<text text-anchor=\"middle\" x=\"678.5\" y=\"-733.3\" font-family=\"Times,serif\" font-size=\"14.00\" fill=\"#000000\">gini = 0.49</text>\n<text text-anchor=\"middle\" x=\"678.5\" y=\"-718.3\" font-family=\"Times,serif\" font-size=\"14.00\" fill=\"#000000\">samples = 56</text>\n<text text-anchor=\"middle\" x=\"678.5\" y=\"-703.3\" font-family=\"Times,serif\" font-size=\"14.00\" fill=\"#000000\">value = [24, 32]</text>\n<text text-anchor=\"middle\" x=\"678.5\" y=\"-688.3\" font-family=\"Times,serif\" font-size=\"14.00\" fill=\"#000000\">class = Survived</text>\n</g>\n<!-- 99&#45;&gt;113 -->\n<g id=\"edge113\" class=\"edge\">\n<title>99&#45;&gt;113</title>\n<path fill=\"none\" stroke=\"#000000\" d=\"M581.1693,-761.4412C591.6767,-757.1833 602.7517,-752.6954 613.5154,-748.3336\"/>\n<polygon fill=\"#000000\" stroke=\"#000000\" points=\"614.9187,-751.5415 622.8721,-744.542 612.2897,-745.0539 614.9187,-751.5415\"/>\n</g>\n<!-- 101 -->\n<g id=\"node102\" class=\"node\">\n<title>101</title>\n<polygon fill=\"#399de5\" stroke=\"#000000\" points=\"887,-974 776,-974 776,-906 887,-906 887,-974\"/>\n<text text-anchor=\"middle\" x=\"831.5\" y=\"-958.8\" font-family=\"Times,serif\" font-size=\"14.00\" fill=\"#000000\">gini = 0.0</text>\n<text text-anchor=\"middle\" x=\"831.5\" y=\"-943.8\" font-family=\"Times,serif\" font-size=\"14.00\" fill=\"#000000\">samples = 3</text>\n<text text-anchor=\"middle\" x=\"831.5\" y=\"-928.8\" font-family=\"Times,serif\" font-size=\"14.00\" fill=\"#000000\">value = [0, 3]</text>\n<text text-anchor=\"middle\" x=\"831.5\" y=\"-913.8\" font-family=\"Times,serif\" font-size=\"14.00\" fill=\"#000000\">class = Survived</text>\n</g>\n<!-- 100&#45;&gt;101 -->\n<g id=\"edge101\" class=\"edge\">\n<title>100&#45;&gt;101</title>\n<path fill=\"none\" stroke=\"#000000\" d=\"M734.1693,-880.2021C744.9564,-886.8294 756.3417,-893.8243 767.3742,-900.6025\"/>\n<polygon fill=\"#000000\" stroke=\"#000000\" points=\"765.7757,-903.7281 776.1283,-905.9808 769.4401,-897.7638 765.7757,-903.7281\"/>\n</g>\n<!-- 102 -->\n<g id=\"node103\" class=\"node\">\n<title>102</title>\n<polygon fill=\"#399de5\" fill-opacity=\"0.600000\" stroke=\"#000000\" points=\"887,-887.5 776,-887.5 776,-804.5 887,-804.5 887,-887.5\"/>\n<text text-anchor=\"middle\" x=\"831.5\" y=\"-872.3\" font-family=\"Times,serif\" font-size=\"14.00\" fill=\"#000000\">fare &lt;= 7.64</text>\n<text text-anchor=\"middle\" x=\"831.5\" y=\"-857.3\" font-family=\"Times,serif\" font-size=\"14.00\" fill=\"#000000\">gini = 0.408</text>\n<text text-anchor=\"middle\" x=\"831.5\" y=\"-842.3\" font-family=\"Times,serif\" font-size=\"14.00\" fill=\"#000000\">samples = 28</text>\n<text text-anchor=\"middle\" x=\"831.5\" y=\"-827.3\" font-family=\"Times,serif\" font-size=\"14.00\" fill=\"#000000\">value = [8, 20]</text>\n<text text-anchor=\"middle\" x=\"831.5\" y=\"-812.3\" font-family=\"Times,serif\" font-size=\"14.00\" fill=\"#000000\">class = Survived</text>\n</g>\n<!-- 100&#45;&gt;102 -->\n<g id=\"edge102\" class=\"edge\">\n<title>100&#45;&gt;102</title>\n<path fill=\"none\" stroke=\"#000000\" d=\"M734.1693,-846C744.4645,-846 755.3044,-846 765.8626,-846\"/>\n<polygon fill=\"#000000\" stroke=\"#000000\" points=\"765.8722,-849.5001 775.8721,-846 765.8721,-842.5001 765.8722,-849.5001\"/>\n</g>\n<!-- 103 -->\n<g id=\"node104\" class=\"node\">\n<title>103</title>\n<polygon fill=\"#e58139\" fill-opacity=\"0.498039\" stroke=\"#000000\" points=\"1031.5,-988.5 936.5,-988.5 936.5,-905.5 1031.5,-905.5 1031.5,-988.5\"/>\n<text text-anchor=\"middle\" x=\"984\" y=\"-973.3\" font-family=\"Times,serif\" font-size=\"14.00\" fill=\"#000000\">fare &lt;= 7.59</text>\n<text text-anchor=\"middle\" x=\"984\" y=\"-958.3\" font-family=\"Times,serif\" font-size=\"14.00\" fill=\"#000000\">gini = 0.444</text>\n<text text-anchor=\"middle\" x=\"984\" y=\"-943.3\" font-family=\"Times,serif\" font-size=\"14.00\" fill=\"#000000\">samples = 3</text>\n<text text-anchor=\"middle\" x=\"984\" y=\"-928.3\" font-family=\"Times,serif\" font-size=\"14.00\" fill=\"#000000\">value = [2, 1]</text>\n<text text-anchor=\"middle\" x=\"984\" y=\"-913.3\" font-family=\"Times,serif\" font-size=\"14.00\" fill=\"#000000\">class = Died</text>\n</g>\n<!-- 102&#45;&gt;103 -->\n<g id=\"edge103\" class=\"edge\">\n<title>102&#45;&gt;103</title>\n<path fill=\"none\" stroke=\"#000000\" d=\"M887.4194,-883.0352C900.5291,-891.7176 914.5036,-900.9729 927.6327,-909.6682\"/>\n<polygon fill=\"#000000\" stroke=\"#000000\" points=\"925.8508,-912.6861 936.1207,-915.2898 929.7161,-906.85 925.8508,-912.6861\"/>\n</g>\n<!-- 106 -->\n<g id=\"node107\" class=\"node\">\n<title>106</title>\n<polygon fill=\"#399de5\" fill-opacity=\"0.682353\" stroke=\"#000000\" points=\"1039.5,-887.5 928.5,-887.5 928.5,-804.5 1039.5,-804.5 1039.5,-887.5\"/>\n<text text-anchor=\"middle\" x=\"984\" y=\"-872.3\" font-family=\"Times,serif\" font-size=\"14.00\" fill=\"#000000\">fare &lt;= 7.867</text>\n<text text-anchor=\"middle\" x=\"984\" y=\"-857.3\" font-family=\"Times,serif\" font-size=\"14.00\" fill=\"#000000\">gini = 0.365</text>\n<text text-anchor=\"middle\" x=\"984\" y=\"-842.3\" font-family=\"Times,serif\" font-size=\"14.00\" fill=\"#000000\">samples = 25</text>\n<text text-anchor=\"middle\" x=\"984\" y=\"-827.3\" font-family=\"Times,serif\" font-size=\"14.00\" fill=\"#000000\">value = [6, 19]</text>\n<text text-anchor=\"middle\" x=\"984\" y=\"-812.3\" font-family=\"Times,serif\" font-size=\"14.00\" fill=\"#000000\">class = Survived</text>\n</g>\n<!-- 102&#45;&gt;106 -->\n<g id=\"edge106\" class=\"edge\">\n<title>102&#45;&gt;106</title>\n<path fill=\"none\" stroke=\"#000000\" d=\"M887.4194,-846C897.429,-846 907.9428,-846 918.1994,-846\"/>\n<polygon fill=\"#000000\" stroke=\"#000000\" points=\"918.3423,-849.5001 928.3422,-846 918.3422,-842.5001 918.3423,-849.5001\"/>\n</g>\n<!-- 104 -->\n<g id=\"node105\" class=\"node\">\n<title>104</title>\n<polygon fill=\"transparent\" stroke=\"#000000\" points=\"1183.5,-1151 1088.5,-1151 1088.5,-1083 1183.5,-1083 1183.5,-1151\"/>\n<text text-anchor=\"middle\" x=\"1136\" y=\"-1135.8\" font-family=\"Times,serif\" font-size=\"14.00\" fill=\"#000000\">gini = 0.5</text>\n<text text-anchor=\"middle\" x=\"1136\" y=\"-1120.8\" font-family=\"Times,serif\" font-size=\"14.00\" fill=\"#000000\">samples = 2</text>\n<text text-anchor=\"middle\" x=\"1136\" y=\"-1105.8\" font-family=\"Times,serif\" font-size=\"14.00\" fill=\"#000000\">value = [1, 1]</text>\n<text text-anchor=\"middle\" x=\"1136\" y=\"-1090.8\" font-family=\"Times,serif\" font-size=\"14.00\" fill=\"#000000\">class = Died</text>\n</g>\n<!-- 103&#45;&gt;104 -->\n<g id=\"edge104\" class=\"edge\">\n<title>103&#45;&gt;104</title>\n<path fill=\"none\" stroke=\"#000000\" d=\"M1031.5864,-985.8086C1035.3173,-989.7371 1038.8521,-993.8242 1042,-998 1064.4986,-1027.8455 1054.2781,-1045.1173 1078,-1074 1078.9696,-1075.1806 1079.9784,-1076.3462 1081.0203,-1077.4956\"/>\n<polygon fill=\"#000000\" stroke=\"#000000\" points=\"1078.7834,-1080.2098 1088.3163,-1084.8331 1083.7472,-1075.2741 1078.7834,-1080.2098\"/>\n</g>\n<!-- 105 -->\n<g id=\"node106\" class=\"node\">\n<title>105</title>\n<polygon fill=\"#e58139\" stroke=\"#000000\" points=\"1183.5,-1065 1088.5,-1065 1088.5,-997 1183.5,-997 1183.5,-1065\"/>\n<text text-anchor=\"middle\" x=\"1136\" y=\"-1049.8\" font-family=\"Times,serif\" font-size=\"14.00\" fill=\"#000000\">gini = 0.0</text>\n<text text-anchor=\"middle\" x=\"1136\" y=\"-1034.8\" font-family=\"Times,serif\" font-size=\"14.00\" fill=\"#000000\">samples = 1</text>\n<text text-anchor=\"middle\" x=\"1136\" y=\"-1019.8\" font-family=\"Times,serif\" font-size=\"14.00\" fill=\"#000000\">value = [1, 0]</text>\n<text text-anchor=\"middle\" x=\"1136\" y=\"-1004.8\" font-family=\"Times,serif\" font-size=\"14.00\" fill=\"#000000\">class = Died</text>\n</g>\n<!-- 103&#45;&gt;105 -->\n<g id=\"edge105\" class=\"edge\">\n<title>103&#45;&gt;105</title>\n<path fill=\"none\" stroke=\"#000000\" d=\"M1031.6767,-973.3477C1046.8149,-981.7135 1063.7026,-991.0462 1079.4058,-999.7242\"/>\n<polygon fill=\"#000000\" stroke=\"#000000\" points=\"1078.0471,-1002.9723 1088.4925,-1004.7458 1081.433,-996.8456 1078.0471,-1002.9723\"/>\n</g>\n<!-- 107 -->\n<g id=\"node108\" class=\"node\">\n<title>107</title>\n<polygon fill=\"#399de5\" fill-opacity=\"0.623529\" stroke=\"#000000\" points=\"1191.5,-978.5 1080.5,-978.5 1080.5,-895.5 1191.5,-895.5 1191.5,-978.5\"/>\n<text text-anchor=\"middle\" x=\"1136\" y=\"-963.3\" font-family=\"Times,serif\" font-size=\"14.00\" fill=\"#000000\">fare &lt;= 7.742</text>\n<text text-anchor=\"middle\" x=\"1136\" y=\"-948.3\" font-family=\"Times,serif\" font-size=\"14.00\" fill=\"#000000\">gini = 0.397</text>\n<text text-anchor=\"middle\" x=\"1136\" y=\"-933.3\" font-family=\"Times,serif\" font-size=\"14.00\" fill=\"#000000\">samples = 22</text>\n<text text-anchor=\"middle\" x=\"1136\" y=\"-918.3\" font-family=\"Times,serif\" font-size=\"14.00\" fill=\"#000000\">value = [6, 16]</text>\n<text text-anchor=\"middle\" x=\"1136\" y=\"-903.3\" font-family=\"Times,serif\" font-size=\"14.00\" fill=\"#000000\">class = Survived</text>\n</g>\n<!-- 106&#45;&gt;107 -->\n<g id=\"edge107\" class=\"edge\">\n<title>106&#45;&gt;107</title>\n<path fill=\"none\" stroke=\"#000000\" d=\"M1039.7361,-879.3683C1050.0623,-885.5505 1060.927,-892.055 1071.4886,-898.378\"/>\n<polygon fill=\"#000000\" stroke=\"#000000\" points=\"1069.8929,-901.502 1080.2706,-903.6357 1073.4886,-895.496 1069.8929,-901.502\"/>\n</g>\n<!-- 112 -->\n<g id=\"node113\" class=\"node\">\n<title>112</title>\n<polygon fill=\"#399de5\" stroke=\"#000000\" points=\"1191.5,-877 1080.5,-877 1080.5,-809 1191.5,-809 1191.5,-877\"/>\n<text text-anchor=\"middle\" x=\"1136\" y=\"-861.8\" font-family=\"Times,serif\" font-size=\"14.00\" fill=\"#000000\">gini = 0.0</text>\n<text text-anchor=\"middle\" x=\"1136\" y=\"-846.8\" font-family=\"Times,serif\" font-size=\"14.00\" fill=\"#000000\">samples = 3</text>\n<text text-anchor=\"middle\" x=\"1136\" y=\"-831.8\" font-family=\"Times,serif\" font-size=\"14.00\" fill=\"#000000\">value = [0, 3]</text>\n<text text-anchor=\"middle\" x=\"1136\" y=\"-816.8\" font-family=\"Times,serif\" font-size=\"14.00\" fill=\"#000000\">class = Survived</text>\n</g>\n<!-- 106&#45;&gt;112 -->\n<g id=\"edge112\" class=\"edge\">\n<title>106&#45;&gt;112</title>\n<path fill=\"none\" stroke=\"#000000\" d=\"M1039.7361,-844.8999C1049.6493,-844.7043 1060.0587,-844.4988 1070.2198,-844.2983\"/>\n<polygon fill=\"#000000\" stroke=\"#000000\" points=\"1070.3417,-847.7967 1080.2706,-844.0999 1070.2035,-840.798 1070.3417,-847.7967\"/>\n</g>\n<!-- 108 -->\n<g id=\"node109\" class=\"node\">\n<title>108</title>\n<polygon fill=\"#399de5\" stroke=\"#000000\" points=\"1344,-1071 1233,-1071 1233,-1003 1344,-1003 1344,-1071\"/>\n<text text-anchor=\"middle\" x=\"1288.5\" y=\"-1055.8\" font-family=\"Times,serif\" font-size=\"14.00\" fill=\"#000000\">gini = 0.0</text>\n<text text-anchor=\"middle\" x=\"1288.5\" y=\"-1040.8\" font-family=\"Times,serif\" font-size=\"14.00\" fill=\"#000000\">samples = 2</text>\n<text text-anchor=\"middle\" x=\"1288.5\" y=\"-1025.8\" font-family=\"Times,serif\" font-size=\"14.00\" fill=\"#000000\">value = [0, 2]</text>\n<text text-anchor=\"middle\" x=\"1288.5\" y=\"-1010.8\" font-family=\"Times,serif\" font-size=\"14.00\" fill=\"#000000\">class = Survived</text>\n</g>\n<!-- 107&#45;&gt;108 -->\n<g id=\"edge108\" class=\"edge\">\n<title>107&#45;&gt;108</title>\n<path fill=\"none\" stroke=\"#000000\" d=\"M1191.9194,-973.6685C1203.6849,-981.3835 1216.147,-989.5554 1228.0694,-997.3734\"/>\n<polygon fill=\"#000000\" stroke=\"#000000\" points=\"1226.356,-1000.4352 1236.6377,-1002.9919 1230.1945,-994.5815 1226.356,-1000.4352\"/>\n</g>\n<!-- 109 -->\n<g id=\"node110\" class=\"node\">\n<title>109</title>\n<polygon fill=\"#399de5\" fill-opacity=\"0.572549\" stroke=\"#000000\" points=\"1344,-984.5 1233,-984.5 1233,-901.5 1344,-901.5 1344,-984.5\"/>\n<text text-anchor=\"middle\" x=\"1288.5\" y=\"-969.3\" font-family=\"Times,serif\" font-size=\"14.00\" fill=\"#000000\">fare &lt;= 7.763</text>\n<text text-anchor=\"middle\" x=\"1288.5\" y=\"-954.3\" font-family=\"Times,serif\" font-size=\"14.00\" fill=\"#000000\">gini = 0.42</text>\n<text text-anchor=\"middle\" x=\"1288.5\" y=\"-939.3\" font-family=\"Times,serif\" font-size=\"14.00\" fill=\"#000000\">samples = 20</text>\n<text text-anchor=\"middle\" x=\"1288.5\" y=\"-924.3\" font-family=\"Times,serif\" font-size=\"14.00\" fill=\"#000000\">value = [6, 14]</text>\n<text text-anchor=\"middle\" x=\"1288.5\" y=\"-909.3\" font-family=\"Times,serif\" font-size=\"14.00\" fill=\"#000000\">class = Survived</text>\n</g>\n<!-- 107&#45;&gt;109 -->\n<g id=\"edge109\" class=\"edge\">\n<title>107&#45;&gt;109</title>\n<path fill=\"none\" stroke=\"#000000\" d=\"M1191.9194,-939.2001C1201.929,-939.5939 1212.4428,-940.0076 1222.6994,-940.4111\"/>\n<polygon fill=\"#000000\" stroke=\"#000000\" points=\"1222.7123,-943.9142 1232.8422,-940.8102 1222.9876,-936.9197 1222.7123,-943.9142\"/>\n</g>\n<!-- 110 -->\n<g id=\"node111\" class=\"node\">\n<title>110</title>\n<polygon fill=\"#399de5\" fill-opacity=\"0.666667\" stroke=\"#000000\" points=\"1497,-1098 1386,-1098 1386,-1030 1497,-1030 1497,-1098\"/>\n<text text-anchor=\"middle\" x=\"1441.5\" y=\"-1082.8\" font-family=\"Times,serif\" font-size=\"14.00\" fill=\"#000000\">gini = 0.375</text>\n<text text-anchor=\"middle\" x=\"1441.5\" y=\"-1067.8\" font-family=\"Times,serif\" font-size=\"14.00\" fill=\"#000000\">samples = 12</text>\n<text text-anchor=\"middle\" x=\"1441.5\" y=\"-1052.8\" font-family=\"Times,serif\" font-size=\"14.00\" fill=\"#000000\">value = [3, 9]</text>\n<text text-anchor=\"middle\" x=\"1441.5\" y=\"-1037.8\" font-family=\"Times,serif\" font-size=\"14.00\" fill=\"#000000\">class = Survived</text>\n</g>\n<!-- 109&#45;&gt;110 -->\n<g id=\"edge110\" class=\"edge\">\n<title>109&#45;&gt;110</title>\n<path fill=\"none\" stroke=\"#000000\" d=\"M1338.0993,-984.8199C1352.4525,-996.6809 1368.2335,-1009.4935 1383,-1021 1384.1807,-1021.92 1385.3777,-1022.8472 1386.587,-1023.7789\"/>\n<polygon fill=\"#000000\" stroke=\"#000000\" points=\"1384.6288,-1026.6872 1394.7036,-1029.9658 1388.8724,-1021.1201 1384.6288,-1026.6872\"/>\n</g>\n<!-- 111 -->\n<g id=\"node112\" class=\"node\">\n<title>111</title>\n<polygon fill=\"#399de5\" fill-opacity=\"0.400000\" stroke=\"#000000\" points=\"1497,-1012 1386,-1012 1386,-944 1497,-944 1497,-1012\"/>\n<text text-anchor=\"middle\" x=\"1441.5\" y=\"-996.8\" font-family=\"Times,serif\" font-size=\"14.00\" fill=\"#000000\">gini = 0.469</text>\n<text text-anchor=\"middle\" x=\"1441.5\" y=\"-981.8\" font-family=\"Times,serif\" font-size=\"14.00\" fill=\"#000000\">samples = 8</text>\n<text text-anchor=\"middle\" x=\"1441.5\" y=\"-966.8\" font-family=\"Times,serif\" font-size=\"14.00\" fill=\"#000000\">value = [3, 5]</text>\n<text text-anchor=\"middle\" x=\"1441.5\" y=\"-951.8\" font-family=\"Times,serif\" font-size=\"14.00\" fill=\"#000000\">class = Survived</text>\n</g>\n<!-- 109&#45;&gt;111 -->\n<g id=\"edge111\" class=\"edge\">\n<title>109&#45;&gt;111</title>\n<path fill=\"none\" stroke=\"#000000\" d=\"M1344.1693,-955.7348C1354.4645,-958.0899 1365.3044,-960.5696 1375.8626,-962.9849\"/>\n<polygon fill=\"#000000\" stroke=\"#000000\" points=\"1375.3434,-966.4565 1385.8721,-965.2747 1376.9045,-959.6327 1375.3434,-966.4565\"/>\n</g>\n<!-- 114 -->\n<g id=\"node115\" class=\"node\">\n<title>114</title>\n<polygon fill=\"#399de5\" fill-opacity=\"0.141176\" stroke=\"#000000\" points=\"887,-763.5 776,-763.5 776,-680.5 887,-680.5 887,-763.5\"/>\n<text text-anchor=\"middle\" x=\"831.5\" y=\"-748.3\" font-family=\"Times,serif\" font-size=\"14.00\" fill=\"#000000\">fare &lt;= 20.8</text>\n<text text-anchor=\"middle\" x=\"831.5\" y=\"-733.3\" font-family=\"Times,serif\" font-size=\"14.00\" fill=\"#000000\">gini = 0.497</text>\n<text text-anchor=\"middle\" x=\"831.5\" y=\"-718.3\" font-family=\"Times,serif\" font-size=\"14.00\" fill=\"#000000\">samples = 52</text>\n<text text-anchor=\"middle\" x=\"831.5\" y=\"-703.3\" font-family=\"Times,serif\" font-size=\"14.00\" fill=\"#000000\">value = [24, 28]</text>\n<text text-anchor=\"middle\" x=\"831.5\" y=\"-688.3\" font-family=\"Times,serif\" font-size=\"14.00\" fill=\"#000000\">class = Survived</text>\n</g>\n<!-- 113&#45;&gt;114 -->\n<g id=\"edge114\" class=\"edge\">\n<title>113&#45;&gt;114</title>\n<path fill=\"none\" stroke=\"#000000\" d=\"M734.1693,-722C744.4645,-722 755.3044,-722 765.8626,-722\"/>\n<polygon fill=\"#000000\" stroke=\"#000000\" points=\"765.8722,-725.5001 775.8721,-722 765.8721,-718.5001 765.8722,-725.5001\"/>\n</g>\n<!-- 131 -->\n<g id=\"node132\" class=\"node\">\n<title>131</title>\n<polygon fill=\"#399de5\" stroke=\"#000000\" points=\"887,-662 776,-662 776,-594 887,-594 887,-662\"/>\n<text text-anchor=\"middle\" x=\"831.5\" y=\"-646.8\" font-family=\"Times,serif\" font-size=\"14.00\" fill=\"#000000\">gini = 0.0</text>\n<text text-anchor=\"middle\" x=\"831.5\" y=\"-631.8\" font-family=\"Times,serif\" font-size=\"14.00\" fill=\"#000000\">samples = 4</text>\n<text text-anchor=\"middle\" x=\"831.5\" y=\"-616.8\" font-family=\"Times,serif\" font-size=\"14.00\" fill=\"#000000\">value = [0, 4]</text>\n<text text-anchor=\"middle\" x=\"831.5\" y=\"-601.8\" font-family=\"Times,serif\" font-size=\"14.00\" fill=\"#000000\">class = Survived</text>\n</g>\n<!-- 113&#45;&gt;131 -->\n<g id=\"edge131\" class=\"edge\">\n<title>113&#45;&gt;131</title>\n<path fill=\"none\" stroke=\"#000000\" d=\"M734.1693,-687.7979C744.9564,-681.1706 756.3417,-674.1757 767.3742,-667.3975\"/>\n<polygon fill=\"#000000\" stroke=\"#000000\" points=\"769.4401,-670.2362 776.1283,-662.0192 765.7757,-664.2719 769.4401,-670.2362\"/>\n</g>\n<!-- 115 -->\n<g id=\"node116\" class=\"node\">\n<title>115</title>\n<polygon fill=\"#399de5\" fill-opacity=\"0.250980\" stroke=\"#000000\" points=\"1039.5,-763.5 928.5,-763.5 928.5,-680.5 1039.5,-680.5 1039.5,-763.5\"/>\n<text text-anchor=\"middle\" x=\"984\" y=\"-748.3\" font-family=\"Times,serif\" font-size=\"14.00\" fill=\"#000000\">who &lt;= 1.5</text>\n<text text-anchor=\"middle\" x=\"984\" y=\"-733.3\" font-family=\"Times,serif\" font-size=\"14.00\" fill=\"#000000\">gini = 0.49</text>\n<text text-anchor=\"middle\" x=\"984\" y=\"-718.3\" font-family=\"Times,serif\" font-size=\"14.00\" fill=\"#000000\">samples = 49</text>\n<text text-anchor=\"middle\" x=\"984\" y=\"-703.3\" font-family=\"Times,serif\" font-size=\"14.00\" fill=\"#000000\">value = [21, 28]</text>\n<text text-anchor=\"middle\" x=\"984\" y=\"-688.3\" font-family=\"Times,serif\" font-size=\"14.00\" fill=\"#000000\">class = Survived</text>\n</g>\n<!-- 114&#45;&gt;115 -->\n<g id=\"edge115\" class=\"edge\">\n<title>114&#45;&gt;115</title>\n<path fill=\"none\" stroke=\"#000000\" d=\"M887.4194,-722C897.429,-722 907.9428,-722 918.1994,-722\"/>\n<polygon fill=\"#000000\" stroke=\"#000000\" points=\"918.3423,-725.5001 928.3422,-722 918.3422,-718.5001 918.3423,-725.5001\"/>\n</g>\n<!-- 130 -->\n<g id=\"node131\" class=\"node\">\n<title>130</title>\n<polygon fill=\"#e58139\" stroke=\"#000000\" points=\"1031.5,-662 936.5,-662 936.5,-594 1031.5,-594 1031.5,-662\"/>\n<text text-anchor=\"middle\" x=\"984\" y=\"-646.8\" font-family=\"Times,serif\" font-size=\"14.00\" fill=\"#000000\">gini = 0.0</text>\n<text text-anchor=\"middle\" x=\"984\" y=\"-631.8\" font-family=\"Times,serif\" font-size=\"14.00\" fill=\"#000000\">samples = 3</text>\n<text text-anchor=\"middle\" x=\"984\" y=\"-616.8\" font-family=\"Times,serif\" font-size=\"14.00\" fill=\"#000000\">value = [3, 0]</text>\n<text text-anchor=\"middle\" x=\"984\" y=\"-601.8\" font-family=\"Times,serif\" font-size=\"14.00\" fill=\"#000000\">class = Died</text>\n</g>\n<!-- 114&#45;&gt;130 -->\n<g id=\"edge130\" class=\"edge\">\n<title>114&#45;&gt;130</title>\n<path fill=\"none\" stroke=\"#000000\" d=\"M887.4194,-687.5316C900.4042,-679.5279 914.2375,-671.0011 927.2574,-662.9758\"/>\n<polygon fill=\"#000000\" stroke=\"#000000\" points=\"929.4445,-665.7392 936.1207,-657.5125 925.7714,-659.7802 929.4445,-665.7392\"/>\n</g>\n<!-- 116 -->\n<g id=\"node117\" class=\"node\">\n<title>116</title>\n<polygon fill=\"#e58139\" fill-opacity=\"0.164706\" stroke=\"#000000\" points=\"1191,-763.5 1081,-763.5 1081,-680.5 1191,-680.5 1191,-763.5\"/>\n<text text-anchor=\"middle\" x=\"1136\" y=\"-748.3\" font-family=\"Times,serif\" font-size=\"14.00\" fill=\"#000000\">fare &lt;= 15.0</text>\n<text text-anchor=\"middle\" x=\"1136\" y=\"-733.3\" font-family=\"Times,serif\" font-size=\"14.00\" fill=\"#000000\">gini = 0.496</text>\n<text text-anchor=\"middle\" x=\"1136\" y=\"-718.3\" font-family=\"Times,serif\" font-size=\"14.00\" fill=\"#000000\">samples = 33</text>\n<text text-anchor=\"middle\" x=\"1136\" y=\"-703.3\" font-family=\"Times,serif\" font-size=\"14.00\" fill=\"#000000\">value = [18, 15]</text>\n<text text-anchor=\"middle\" x=\"1136\" y=\"-688.3\" font-family=\"Times,serif\" font-size=\"14.00\" fill=\"#000000\">class = Died</text>\n</g>\n<!-- 115&#45;&gt;116 -->\n<g id=\"edge116\" class=\"edge\">\n<title>115&#45;&gt;116</title>\n<path fill=\"none\" stroke=\"#000000\" d=\"M1039.7361,-722C1049.7764,-722 1060.3256,-722 1070.6105,-722\"/>\n<polygon fill=\"#000000\" stroke=\"#000000\" points=\"1070.7786,-725.5001 1080.7786,-722 1070.7785,-718.5001 1070.7786,-725.5001\"/>\n</g>\n<!-- 123 -->\n<g id=\"node124\" class=\"node\">\n<title>123</title>\n<polygon fill=\"#399de5\" fill-opacity=\"0.768627\" stroke=\"#000000\" points=\"1191.5,-571.5 1080.5,-571.5 1080.5,-488.5 1191.5,-488.5 1191.5,-571.5\"/>\n<text text-anchor=\"middle\" x=\"1136\" y=\"-556.3\" font-family=\"Times,serif\" font-size=\"14.00\" fill=\"#000000\">fare &lt;= 10.798</text>\n<text text-anchor=\"middle\" x=\"1136\" y=\"-541.3\" font-family=\"Times,serif\" font-size=\"14.00\" fill=\"#000000\">gini = 0.305</text>\n<text text-anchor=\"middle\" x=\"1136\" y=\"-526.3\" font-family=\"Times,serif\" font-size=\"14.00\" fill=\"#000000\">samples = 16</text>\n<text text-anchor=\"middle\" x=\"1136\" y=\"-511.3\" font-family=\"Times,serif\" font-size=\"14.00\" fill=\"#000000\">value = [3, 13]</text>\n<text text-anchor=\"middle\" x=\"1136\" y=\"-496.3\" font-family=\"Times,serif\" font-size=\"14.00\" fill=\"#000000\">class = Survived</text>\n</g>\n<!-- 115&#45;&gt;123 -->\n<g id=\"edge123\" class=\"edge\">\n<title>115&#45;&gt;123</title>\n<path fill=\"none\" stroke=\"#000000\" d=\"M1033.3117,-680.3122C1036.3384,-677.247 1039.263,-674.1284 1042,-671 1066.4723,-643.0281 1089.682,-608.3276 1106.916,-580.3506\"/>\n<polygon fill=\"#000000\" stroke=\"#000000\" points=\"1110.0817,-581.8815 1112.2955,-571.5205 1104.1037,-578.2396 1110.0817,-581.8815\"/>\n</g>\n<!-- 117 -->\n<g id=\"node118\" class=\"node\">\n<title>117</title>\n<polygon fill=\"#e58139\" fill-opacity=\"0.462745\" stroke=\"#000000\" points=\"1340,-853.5 1237,-853.5 1237,-770.5 1340,-770.5 1340,-853.5\"/>\n<text text-anchor=\"middle\" x=\"1288.5\" y=\"-838.3\" font-family=\"Times,serif\" font-size=\"14.00\" fill=\"#000000\">fare &lt;= 13.438</text>\n<text text-anchor=\"middle\" x=\"1288.5\" y=\"-823.3\" font-family=\"Times,serif\" font-size=\"14.00\" fill=\"#000000\">gini = 0.455</text>\n<text text-anchor=\"middle\" x=\"1288.5\" y=\"-808.3\" font-family=\"Times,serif\" font-size=\"14.00\" fill=\"#000000\">samples = 20</text>\n<text text-anchor=\"middle\" x=\"1288.5\" y=\"-793.3\" font-family=\"Times,serif\" font-size=\"14.00\" fill=\"#000000\">value = [13, 7]</text>\n<text text-anchor=\"middle\" x=\"1288.5\" y=\"-778.3\" font-family=\"Times,serif\" font-size=\"14.00\" fill=\"#000000\">class = Died</text>\n</g>\n<!-- 116&#45;&gt;117 -->\n<g id=\"edge117\" class=\"edge\">\n<title>116&#45;&gt;117</title>\n<path fill=\"none\" stroke=\"#000000\" d=\"M1191.056,-754.4921C1203.0702,-761.5824 1215.847,-769.1228 1228.058,-776.3293\"/>\n<polygon fill=\"#000000\" stroke=\"#000000\" points=\"1226.4396,-779.4382 1236.8306,-781.5066 1229.9974,-773.4098 1226.4396,-779.4382\"/>\n</g>\n<!-- 120 -->\n<g id=\"node121\" class=\"node\">\n<title>120</title>\n<polygon fill=\"#399de5\" fill-opacity=\"0.376471\" stroke=\"#000000\" points=\"1344,-752.5 1233,-752.5 1233,-669.5 1344,-669.5 1344,-752.5\"/>\n<text text-anchor=\"middle\" x=\"1288.5\" y=\"-737.3\" font-family=\"Times,serif\" font-size=\"14.00\" fill=\"#000000\">fare &lt;= 17.6</text>\n<text text-anchor=\"middle\" x=\"1288.5\" y=\"-722.3\" font-family=\"Times,serif\" font-size=\"14.00\" fill=\"#000000\">gini = 0.473</text>\n<text text-anchor=\"middle\" x=\"1288.5\" y=\"-707.3\" font-family=\"Times,serif\" font-size=\"14.00\" fill=\"#000000\">samples = 13</text>\n<text text-anchor=\"middle\" x=\"1288.5\" y=\"-692.3\" font-family=\"Times,serif\" font-size=\"14.00\" fill=\"#000000\">value = [5, 8]</text>\n<text text-anchor=\"middle\" x=\"1288.5\" y=\"-677.3\" font-family=\"Times,serif\" font-size=\"14.00\" fill=\"#000000\">class = Survived</text>\n</g>\n<!-- 116&#45;&gt;120 -->\n<g id=\"edge120\" class=\"edge\">\n<title>116&#45;&gt;120</title>\n<path fill=\"none\" stroke=\"#000000\" d=\"M1191.056,-718.0287C1201.3359,-717.2872 1212.1741,-716.5055 1222.7385,-715.7435\"/>\n<polygon fill=\"#000000\" stroke=\"#000000\" points=\"1223.0339,-719.2313 1232.7562,-715.0209 1222.5302,-712.2495 1223.0339,-719.2313\"/>\n</g>\n<!-- 118 -->\n<g id=\"node119\" class=\"node\">\n<title>118</title>\n<polygon fill=\"#e58139\" fill-opacity=\"0.125490\" stroke=\"#000000\" points=\"1489,-926 1394,-926 1394,-858 1489,-858 1489,-926\"/>\n<text text-anchor=\"middle\" x=\"1441.5\" y=\"-910.8\" font-family=\"Times,serif\" font-size=\"14.00\" fill=\"#000000\">gini = 0.498</text>\n<text text-anchor=\"middle\" x=\"1441.5\" y=\"-895.8\" font-family=\"Times,serif\" font-size=\"14.00\" fill=\"#000000\">samples = 15</text>\n<text text-anchor=\"middle\" x=\"1441.5\" y=\"-880.8\" font-family=\"Times,serif\" font-size=\"14.00\" fill=\"#000000\">value = [8, 7]</text>\n<text text-anchor=\"middle\" x=\"1441.5\" y=\"-865.8\" font-family=\"Times,serif\" font-size=\"14.00\" fill=\"#000000\">class = Died</text>\n</g>\n<!-- 117&#45;&gt;118 -->\n<g id=\"edge118\" class=\"edge\">\n<title>117&#45;&gt;118</title>\n<path fill=\"none\" stroke=\"#000000\" d=\"M1340.2988,-839.0844C1354.6572,-846.592 1370.3162,-854.7797 1384.9318,-862.4218\"/>\n<polygon fill=\"#000000\" stroke=\"#000000\" points=\"1383.3927,-865.5666 1393.8762,-867.0987 1386.6363,-859.3634 1383.3927,-865.5666\"/>\n</g>\n<!-- 119 -->\n<g id=\"node120\" class=\"node\">\n<title>119</title>\n<polygon fill=\"#e58139\" stroke=\"#000000\" points=\"1489,-840 1394,-840 1394,-772 1489,-772 1489,-840\"/>\n<text text-anchor=\"middle\" x=\"1441.5\" y=\"-824.8\" font-family=\"Times,serif\" font-size=\"14.00\" fill=\"#000000\">gini = 0.0</text>\n<text text-anchor=\"middle\" x=\"1441.5\" y=\"-809.8\" font-family=\"Times,serif\" font-size=\"14.00\" fill=\"#000000\">samples = 5</text>\n<text text-anchor=\"middle\" x=\"1441.5\" y=\"-794.8\" font-family=\"Times,serif\" font-size=\"14.00\" fill=\"#000000\">value = [5, 0]</text>\n<text text-anchor=\"middle\" x=\"1441.5\" y=\"-779.8\" font-family=\"Times,serif\" font-size=\"14.00\" fill=\"#000000\">class = Died</text>\n</g>\n<!-- 117&#45;&gt;119 -->\n<g id=\"edge119\" class=\"edge\">\n<title>117&#45;&gt;119</title>\n<path fill=\"none\" stroke=\"#000000\" d=\"M1340.2988,-809.9687C1354.2509,-809.4215 1369.4309,-808.8262 1383.6884,-808.2671\"/>\n<polygon fill=\"#000000\" stroke=\"#000000\" points=\"1384.0211,-811.7569 1393.8762,-807.8676 1383.7467,-804.7622 1384.0211,-811.7569\"/>\n</g>\n<!-- 121 -->\n<g id=\"node122\" class=\"node\">\n<title>121</title>\n<polygon fill=\"#399de5\" fill-opacity=\"0.666667\" stroke=\"#000000\" points=\"1497,-754 1386,-754 1386,-686 1497,-686 1497,-754\"/>\n<text text-anchor=\"middle\" x=\"1441.5\" y=\"-738.8\" font-family=\"Times,serif\" font-size=\"14.00\" fill=\"#000000\">gini = 0.375</text>\n<text text-anchor=\"middle\" x=\"1441.5\" y=\"-723.8\" font-family=\"Times,serif\" font-size=\"14.00\" fill=\"#000000\">samples = 8</text>\n<text text-anchor=\"middle\" x=\"1441.5\" y=\"-708.8\" font-family=\"Times,serif\" font-size=\"14.00\" fill=\"#000000\">value = [2, 6]</text>\n<text text-anchor=\"middle\" x=\"1441.5\" y=\"-693.8\" font-family=\"Times,serif\" font-size=\"14.00\" fill=\"#000000\">class = Survived</text>\n</g>\n<!-- 120&#45;&gt;121 -->\n<g id=\"edge121\" class=\"edge\">\n<title>120&#45;&gt;121</title>\n<path fill=\"none\" stroke=\"#000000\" d=\"M1344.1693,-714.2747C1354.4645,-714.8803 1365.3044,-715.5179 1375.8626,-716.139\"/>\n<polygon fill=\"#000000\" stroke=\"#000000\" points=\"1375.6838,-719.6344 1385.8721,-716.7278 1376.0949,-712.6465 1375.6838,-719.6344\"/>\n</g>\n<!-- 122 -->\n<g id=\"node123\" class=\"node\">\n<title>122</title>\n<polygon fill=\"#e58139\" fill-opacity=\"0.333333\" stroke=\"#000000\" points=\"1489,-668 1394,-668 1394,-600 1489,-600 1489,-668\"/>\n<text text-anchor=\"middle\" x=\"1441.5\" y=\"-652.8\" font-family=\"Times,serif\" font-size=\"14.00\" fill=\"#000000\">gini = 0.48</text>\n<text text-anchor=\"middle\" x=\"1441.5\" y=\"-637.8\" font-family=\"Times,serif\" font-size=\"14.00\" fill=\"#000000\">samples = 5</text>\n<text text-anchor=\"middle\" x=\"1441.5\" y=\"-622.8\" font-family=\"Times,serif\" font-size=\"14.00\" fill=\"#000000\">value = [3, 2]</text>\n<text text-anchor=\"middle\" x=\"1441.5\" y=\"-607.8\" font-family=\"Times,serif\" font-size=\"14.00\" fill=\"#000000\">class = Died</text>\n</g>\n<!-- 120&#45;&gt;122 -->\n<g id=\"edge122\" class=\"edge\">\n<title>120&#45;&gt;122</title>\n<path fill=\"none\" stroke=\"#000000\" d=\"M1344.1693,-682.9834C1357.3595,-676.3452 1371.444,-669.2569 1384.6844,-662.5935\"/>\n<polygon fill=\"#000000\" stroke=\"#000000\" points=\"1386.3355,-665.6808 1393.6946,-658.0589 1383.1886,-659.428 1386.3355,-665.6808\"/>\n</g>\n<!-- 124 -->\n<g id=\"node125\" class=\"node\">\n<title>124</title>\n<polygon fill=\"transparent\" stroke=\"#000000\" points=\"1336,-571.5 1241,-571.5 1241,-488.5 1336,-488.5 1336,-571.5\"/>\n<text text-anchor=\"middle\" x=\"1288.5\" y=\"-556.3\" font-family=\"Times,serif\" font-size=\"14.00\" fill=\"#000000\">fare &lt;= 9.246</text>\n<text text-anchor=\"middle\" x=\"1288.5\" y=\"-541.3\" font-family=\"Times,serif\" font-size=\"14.00\" fill=\"#000000\">gini = 0.5</text>\n<text text-anchor=\"middle\" x=\"1288.5\" y=\"-526.3\" font-family=\"Times,serif\" font-size=\"14.00\" fill=\"#000000\">samples = 2</text>\n<text text-anchor=\"middle\" x=\"1288.5\" y=\"-511.3\" font-family=\"Times,serif\" font-size=\"14.00\" fill=\"#000000\">value = [1, 1]</text>\n<text text-anchor=\"middle\" x=\"1288.5\" y=\"-496.3\" font-family=\"Times,serif\" font-size=\"14.00\" fill=\"#000000\">class = Died</text>\n</g>\n<!-- 123&#45;&gt;124 -->\n<g id=\"edge124\" class=\"edge\">\n<title>123&#45;&gt;124</title>\n<path fill=\"none\" stroke=\"#000000\" d=\"M1191.9194,-530C1204.4048,-530 1217.6747,-530 1230.2516,-530\"/>\n<polygon fill=\"#000000\" stroke=\"#000000\" points=\"1230.6208,-533.5001 1240.6207,-530 1230.6207,-526.5001 1230.6208,-533.5001\"/>\n</g>\n<!-- 127 -->\n<g id=\"node128\" class=\"node\">\n<title>127</title>\n<polygon fill=\"#399de5\" fill-opacity=\"0.831373\" stroke=\"#000000\" points=\"1344,-435.5 1233,-435.5 1233,-352.5 1344,-352.5 1344,-435.5\"/>\n<text text-anchor=\"middle\" x=\"1288.5\" y=\"-420.3\" font-family=\"Times,serif\" font-size=\"14.00\" fill=\"#000000\">fare &lt;= 13.935</text>\n<text text-anchor=\"middle\" x=\"1288.5\" y=\"-405.3\" font-family=\"Times,serif\" font-size=\"14.00\" fill=\"#000000\">gini = 0.245</text>\n<text text-anchor=\"middle\" x=\"1288.5\" y=\"-390.3\" font-family=\"Times,serif\" font-size=\"14.00\" fill=\"#000000\">samples = 14</text>\n<text text-anchor=\"middle\" x=\"1288.5\" y=\"-375.3\" font-family=\"Times,serif\" font-size=\"14.00\" fill=\"#000000\">value = [2, 12]</text>\n<text text-anchor=\"middle\" x=\"1288.5\" y=\"-360.3\" font-family=\"Times,serif\" font-size=\"14.00\" fill=\"#000000\">class = Survived</text>\n</g>\n<!-- 123&#45;&gt;127 -->\n<g id=\"edge127\" class=\"edge\">\n<title>123&#45;&gt;127</title>\n<path fill=\"none\" stroke=\"#000000\" d=\"M1182.5837,-488.4565C1198.9149,-473.8923 1217.3972,-457.4097 1234.2983,-442.3372\"/>\n<polygon fill=\"#000000\" stroke=\"#000000\" points=\"1236.8053,-444.7912 1241.939,-435.5232 1232.1462,-439.5669 1236.8053,-444.7912\"/>\n</g>\n<!-- 125 -->\n<g id=\"node126\" class=\"node\">\n<title>125</title>\n<polygon fill=\"#399de5\" stroke=\"#000000\" points=\"1497,-582 1386,-582 1386,-514 1497,-514 1497,-582\"/>\n<text text-anchor=\"middle\" x=\"1441.5\" y=\"-566.8\" font-family=\"Times,serif\" font-size=\"14.00\" fill=\"#000000\">gini = 0.0</text>\n<text text-anchor=\"middle\" x=\"1441.5\" y=\"-551.8\" font-family=\"Times,serif\" font-size=\"14.00\" fill=\"#000000\">samples = 1</text>\n<text text-anchor=\"middle\" x=\"1441.5\" y=\"-536.8\" font-family=\"Times,serif\" font-size=\"14.00\" fill=\"#000000\">value = [0, 1]</text>\n<text text-anchor=\"middle\" x=\"1441.5\" y=\"-521.8\" font-family=\"Times,serif\" font-size=\"14.00\" fill=\"#000000\">class = Survived</text>\n</g>\n<!-- 124&#45;&gt;125 -->\n<g id=\"edge125\" class=\"edge\">\n<title>124&#45;&gt;125</title>\n<path fill=\"none\" stroke=\"#000000\" d=\"M1336.0715,-535.5966C1348.654,-537.0769 1362.4611,-538.7013 1375.819,-540.2728\"/>\n<polygon fill=\"#000000\" stroke=\"#000000\" points=\"1375.5782,-543.7685 1385.9186,-541.461 1376.3961,-536.8165 1375.5782,-543.7685\"/>\n</g>\n<!-- 126 -->\n<g id=\"node127\" class=\"node\">\n<title>126</title>\n<polygon fill=\"#e58139\" stroke=\"#000000\" points=\"1489,-496 1394,-496 1394,-428 1489,-428 1489,-496\"/>\n<text text-anchor=\"middle\" x=\"1441.5\" y=\"-480.8\" font-family=\"Times,serif\" font-size=\"14.00\" fill=\"#000000\">gini = 0.0</text>\n<text text-anchor=\"middle\" x=\"1441.5\" y=\"-465.8\" font-family=\"Times,serif\" font-size=\"14.00\" fill=\"#000000\">samples = 1</text>\n<text text-anchor=\"middle\" x=\"1441.5\" y=\"-450.8\" font-family=\"Times,serif\" font-size=\"14.00\" fill=\"#000000\">value = [1, 0]</text>\n<text text-anchor=\"middle\" x=\"1441.5\" y=\"-435.8\" font-family=\"Times,serif\" font-size=\"14.00\" fill=\"#000000\">class = Died</text>\n</g>\n<!-- 124&#45;&gt;126 -->\n<g id=\"edge126\" class=\"edge\">\n<title>124&#45;&gt;126</title>\n<path fill=\"none\" stroke=\"#000000\" d=\"M1336.0715,-508.8571C1351.4707,-502.013 1368.7041,-494.3537 1384.7035,-487.2429\"/>\n<polygon fill=\"#000000\" stroke=\"#000000\" points=\"1386.2413,-490.3896 1393.9579,-483.1298 1383.3983,-483.9929 1386.2413,-490.3896\"/>\n</g>\n<!-- 128 -->\n<g id=\"node129\" class=\"node\">\n<title>128</title>\n<polygon fill=\"#399de5\" stroke=\"#000000\" points=\"1497,-410 1386,-410 1386,-342 1497,-342 1497,-410\"/>\n<text text-anchor=\"middle\" x=\"1441.5\" y=\"-394.8\" font-family=\"Times,serif\" font-size=\"14.00\" fill=\"#000000\">gini = 0.0</text>\n<text text-anchor=\"middle\" x=\"1441.5\" y=\"-379.8\" font-family=\"Times,serif\" font-size=\"14.00\" fill=\"#000000\">samples = 6</text>\n<text text-anchor=\"middle\" x=\"1441.5\" y=\"-364.8\" font-family=\"Times,serif\" font-size=\"14.00\" fill=\"#000000\">value = [0, 6]</text>\n<text text-anchor=\"middle\" x=\"1441.5\" y=\"-349.8\" font-family=\"Times,serif\" font-size=\"14.00\" fill=\"#000000\">class = Survived</text>\n</g>\n<!-- 127&#45;&gt;128 -->\n<g id=\"edge128\" class=\"edge\">\n<title>127&#45;&gt;128</title>\n<path fill=\"none\" stroke=\"#000000\" d=\"M1344.1693,-387.4507C1354.4645,-386.2395 1365.3044,-384.9642 1375.8626,-383.722\"/>\n<polygon fill=\"#000000\" stroke=\"#000000\" points=\"1376.3496,-387.189 1385.8721,-382.5445 1375.5316,-380.2369 1376.3496,-387.189\"/>\n</g>\n<!-- 129 -->\n<g id=\"node130\" class=\"node\">\n<title>129</title>\n<polygon fill=\"#399de5\" fill-opacity=\"0.666667\" stroke=\"#000000\" points=\"1497,-324 1386,-324 1386,-256 1497,-256 1497,-324\"/>\n<text text-anchor=\"middle\" x=\"1441.5\" y=\"-308.8\" font-family=\"Times,serif\" font-size=\"14.00\" fill=\"#000000\">gini = 0.375</text>\n<text text-anchor=\"middle\" x=\"1441.5\" y=\"-293.8\" font-family=\"Times,serif\" font-size=\"14.00\" fill=\"#000000\">samples = 8</text>\n<text text-anchor=\"middle\" x=\"1441.5\" y=\"-278.8\" font-family=\"Times,serif\" font-size=\"14.00\" fill=\"#000000\">value = [2, 6]</text>\n<text text-anchor=\"middle\" x=\"1441.5\" y=\"-263.8\" font-family=\"Times,serif\" font-size=\"14.00\" fill=\"#000000\">class = Survived</text>\n</g>\n<!-- 127&#45;&gt;129 -->\n<g id=\"edge129\" class=\"edge\">\n<title>127&#45;&gt;129</title>\n<path fill=\"none\" stroke=\"#000000\" d=\"M1344.1693,-356.1594C1356.8555,-347.5361 1370.369,-338.3505 1383.1631,-329.6538\"/>\n<polygon fill=\"#000000\" stroke=\"#000000\" points=\"1385.1482,-332.5366 1391.4509,-324.0203 1381.213,-326.7474 1385.1482,-332.5366\"/>\n</g>\n<!-- 133 -->\n<g id=\"node134\" class=\"node\">\n<title>133</title>\n<polygon fill=\"#e58139\" fill-opacity=\"0.764706\" stroke=\"#000000\" points=\"730,-302.5 627,-302.5 627,-219.5 730,-219.5 730,-302.5\"/>\n<text text-anchor=\"middle\" x=\"678.5\" y=\"-287.3\" font-family=\"Times,serif\" font-size=\"14.00\" fill=\"#000000\">fare &lt;= 31.331</text>\n<text text-anchor=\"middle\" x=\"678.5\" y=\"-272.3\" font-family=\"Times,serif\" font-size=\"14.00\" fill=\"#000000\">gini = 0.308</text>\n<text text-anchor=\"middle\" x=\"678.5\" y=\"-257.3\" font-family=\"Times,serif\" font-size=\"14.00\" fill=\"#000000\">samples = 21</text>\n<text text-anchor=\"middle\" x=\"678.5\" y=\"-242.3\" font-family=\"Times,serif\" font-size=\"14.00\" fill=\"#000000\">value = [17, 4]</text>\n<text text-anchor=\"middle\" x=\"678.5\" y=\"-227.3\" font-family=\"Times,serif\" font-size=\"14.00\" fill=\"#000000\">class = Died</text>\n</g>\n<!-- 132&#45;&gt;133 -->\n<g id=\"edge133\" class=\"edge\">\n<title>132&#45;&gt;133</title>\n<path fill=\"none\" stroke=\"#000000\" d=\"M577.2988,-261C589.8855,-261 603.4715,-261 616.478,-261\"/>\n<polygon fill=\"#000000\" stroke=\"#000000\" points=\"616.7546,-264.5001 626.7545,-261 616.7545,-257.5001 616.7546,-264.5001\"/>\n</g>\n<!-- 144 -->\n<g id=\"node145\" class=\"node\">\n<title>144</title>\n<polygon fill=\"#e58139\" stroke=\"#000000\" points=\"729.5,-201 627.5,-201 627.5,-133 729.5,-133 729.5,-201\"/>\n<text text-anchor=\"middle\" x=\"678.5\" y=\"-185.8\" font-family=\"Times,serif\" font-size=\"14.00\" fill=\"#000000\">gini = 0.0</text>\n<text text-anchor=\"middle\" x=\"678.5\" y=\"-170.8\" font-family=\"Times,serif\" font-size=\"14.00\" fill=\"#000000\">samples = 13</text>\n<text text-anchor=\"middle\" x=\"678.5\" y=\"-155.8\" font-family=\"Times,serif\" font-size=\"14.00\" fill=\"#000000\">value = [13, 0]</text>\n<text text-anchor=\"middle\" x=\"678.5\" y=\"-140.8\" font-family=\"Times,serif\" font-size=\"14.00\" fill=\"#000000\">class = Died</text>\n</g>\n<!-- 132&#45;&gt;144 -->\n<g id=\"edge144\" class=\"edge\">\n<title>132&#45;&gt;144</title>\n<path fill=\"none\" stroke=\"#000000\" d=\"M577.2988,-229.1759C590.5262,-221.0493 604.8572,-212.2446 618.4595,-203.8876\"/>\n<polygon fill=\"#000000\" stroke=\"#000000\" points=\"620.5857,-206.6891 627.274,-198.4722 616.9214,-200.7248 620.5857,-206.6891\"/>\n</g>\n<!-- 134 -->\n<g id=\"node135\" class=\"node\">\n<title>134</title>\n<polygon fill=\"#e58139\" fill-opacity=\"0.937255\" stroke=\"#000000\" points=\"883,-302.5 780,-302.5 780,-219.5 883,-219.5 883,-302.5\"/>\n<text text-anchor=\"middle\" x=\"831.5\" y=\"-287.3\" font-family=\"Times,serif\" font-size=\"14.00\" fill=\"#000000\">fare &lt;= 24.808</text>\n<text text-anchor=\"middle\" x=\"831.5\" y=\"-272.3\" font-family=\"Times,serif\" font-size=\"14.00\" fill=\"#000000\">gini = 0.111</text>\n<text text-anchor=\"middle\" x=\"831.5\" y=\"-257.3\" font-family=\"Times,serif\" font-size=\"14.00\" fill=\"#000000\">samples = 17</text>\n<text text-anchor=\"middle\" x=\"831.5\" y=\"-242.3\" font-family=\"Times,serif\" font-size=\"14.00\" fill=\"#000000\">value = [16, 1]</text>\n<text text-anchor=\"middle\" x=\"831.5\" y=\"-227.3\" font-family=\"Times,serif\" font-size=\"14.00\" fill=\"#000000\">class = Died</text>\n</g>\n<!-- 133&#45;&gt;134 -->\n<g id=\"edge134\" class=\"edge\">\n<title>133&#45;&gt;134</title>\n<path fill=\"none\" stroke=\"#000000\" d=\"M730.2988,-261C742.8855,-261 756.4715,-261 769.478,-261\"/>\n<polygon fill=\"#000000\" stroke=\"#000000\" points=\"769.7546,-264.5001 779.7545,-261 769.7545,-257.5001 769.7546,-264.5001\"/>\n</g>\n<!-- 141 -->\n<g id=\"node142\" class=\"node\">\n<title>141</title>\n<polygon fill=\"#399de5\" fill-opacity=\"0.666667\" stroke=\"#000000\" points=\"887,-161.5 776,-161.5 776,-78.5 887,-78.5 887,-161.5\"/>\n<text text-anchor=\"middle\" x=\"831.5\" y=\"-146.3\" font-family=\"Times,serif\" font-size=\"14.00\" fill=\"#000000\">who &lt;= 1.5</text>\n<text text-anchor=\"middle\" x=\"831.5\" y=\"-131.3\" font-family=\"Times,serif\" font-size=\"14.00\" fill=\"#000000\">gini = 0.375</text>\n<text text-anchor=\"middle\" x=\"831.5\" y=\"-116.3\" font-family=\"Times,serif\" font-size=\"14.00\" fill=\"#000000\">samples = 4</text>\n<text text-anchor=\"middle\" x=\"831.5\" y=\"-101.3\" font-family=\"Times,serif\" font-size=\"14.00\" fill=\"#000000\">value = [1, 3]</text>\n<text text-anchor=\"middle\" x=\"831.5\" y=\"-86.3\" font-family=\"Times,serif\" font-size=\"14.00\" fill=\"#000000\">class = Survived</text>\n</g>\n<!-- 133&#45;&gt;141 -->\n<g id=\"edge141\" class=\"edge\">\n<title>133&#45;&gt;141</title>\n<path fill=\"none\" stroke=\"#000000\" d=\"M726.5393,-219.4212C730.0954,-216.2513 733.6139,-213.0857 737,-210 751.5455,-196.745 767.0995,-182.1238 781.3031,-168.5895\"/>\n<polygon fill=\"#000000\" stroke=\"#000000\" points=\"783.7816,-171.0622 788.5951,-161.6239 778.9464,-166.0004 783.7816,-171.0622\"/>\n</g>\n<!-- 135 -->\n<g id=\"node136\" class=\"node\">\n<title>135</title>\n<polygon fill=\"#e58139\" fill-opacity=\"0.666667\" stroke=\"#000000\" points=\"1031.5,-341.5 936.5,-341.5 936.5,-258.5 1031.5,-258.5 1031.5,-341.5\"/>\n<text text-anchor=\"middle\" x=\"984\" y=\"-326.3\" font-family=\"Times,serif\" font-size=\"14.00\" fill=\"#000000\">who &lt;= 1.5</text>\n<text text-anchor=\"middle\" x=\"984\" y=\"-311.3\" font-family=\"Times,serif\" font-size=\"14.00\" fill=\"#000000\">gini = 0.375</text>\n<text text-anchor=\"middle\" x=\"984\" y=\"-296.3\" font-family=\"Times,serif\" font-size=\"14.00\" fill=\"#000000\">samples = 4</text>\n<text text-anchor=\"middle\" x=\"984\" y=\"-281.3\" font-family=\"Times,serif\" font-size=\"14.00\" fill=\"#000000\">value = [3, 1]</text>\n<text text-anchor=\"middle\" x=\"984\" y=\"-266.3\" font-family=\"Times,serif\" font-size=\"14.00\" fill=\"#000000\">class = Died</text>\n</g>\n<!-- 134&#45;&gt;135 -->\n<g id=\"edge135\" class=\"edge\">\n<title>134&#45;&gt;135</title>\n<path fill=\"none\" stroke=\"#000000\" d=\"M883.1295,-274.2036C897.1008,-277.7766 912.3074,-281.6655 926.5759,-285.3145\"/>\n<polygon fill=\"#000000\" stroke=\"#000000\" points=\"925.722,-288.7087 936.2775,-287.7955 927.4564,-281.927 925.722,-288.7087\"/>\n</g>\n<!-- 140 -->\n<g id=\"node141\" class=\"node\">\n<title>140</title>\n<polygon fill=\"#e58139\" stroke=\"#000000\" points=\"1035,-240 933,-240 933,-172 1035,-172 1035,-240\"/>\n<text text-anchor=\"middle\" x=\"984\" y=\"-224.8\" font-family=\"Times,serif\" font-size=\"14.00\" fill=\"#000000\">gini = 0.0</text>\n<text text-anchor=\"middle\" x=\"984\" y=\"-209.8\" font-family=\"Times,serif\" font-size=\"14.00\" fill=\"#000000\">samples = 13</text>\n<text text-anchor=\"middle\" x=\"984\" y=\"-194.8\" font-family=\"Times,serif\" font-size=\"14.00\" fill=\"#000000\">value = [13, 0]</text>\n<text text-anchor=\"middle\" x=\"984\" y=\"-179.8\" font-family=\"Times,serif\" font-size=\"14.00\" fill=\"#000000\">class = Died</text>\n</g>\n<!-- 134&#45;&gt;140 -->\n<g id=\"edge140\" class=\"edge\">\n<title>134&#45;&gt;140</title>\n<path fill=\"none\" stroke=\"#000000\" d=\"M883.1295,-242.3795C896.0625,-237.7151 910.0541,-232.669 923.3802,-227.8629\"/>\n<polygon fill=\"#000000\" stroke=\"#000000\" points=\"924.7219,-231.0997 932.9414,-224.4146 922.347,-224.5149 924.7219,-231.0997\"/>\n</g>\n<!-- 136 -->\n<g id=\"node137\" class=\"node\">\n<title>136</title>\n<polygon fill=\"#e58139\" fill-opacity=\"0.498039\" stroke=\"#000000\" points=\"1183.5,-341.5 1088.5,-341.5 1088.5,-258.5 1183.5,-258.5 1183.5,-341.5\"/>\n<text text-anchor=\"middle\" x=\"1136\" y=\"-326.3\" font-family=\"Times,serif\" font-size=\"14.00\" fill=\"#000000\">fare &lt;= 23.8</text>\n<text text-anchor=\"middle\" x=\"1136\" y=\"-311.3\" font-family=\"Times,serif\" font-size=\"14.00\" fill=\"#000000\">gini = 0.444</text>\n<text text-anchor=\"middle\" x=\"1136\" y=\"-296.3\" font-family=\"Times,serif\" font-size=\"14.00\" fill=\"#000000\">samples = 3</text>\n<text text-anchor=\"middle\" x=\"1136\" y=\"-281.3\" font-family=\"Times,serif\" font-size=\"14.00\" fill=\"#000000\">value = [2, 1]</text>\n<text text-anchor=\"middle\" x=\"1136\" y=\"-266.3\" font-family=\"Times,serif\" font-size=\"14.00\" fill=\"#000000\">class = Died</text>\n</g>\n<!-- 135&#45;&gt;136 -->\n<g id=\"edge136\" class=\"edge\">\n<title>135&#45;&gt;136</title>\n<path fill=\"none\" stroke=\"#000000\" d=\"M1031.6767,-300C1046.3905,-300 1062.757,-300 1078.0822,-300\"/>\n<polygon fill=\"#000000\" stroke=\"#000000\" points=\"1078.4925,-303.5001 1088.4925,-300 1078.4924,-296.5001 1078.4925,-303.5001\"/>\n</g>\n<!-- 139 -->\n<g id=\"node140\" class=\"node\">\n<title>139</title>\n<polygon fill=\"#e58139\" stroke=\"#000000\" points=\"1183.5,-240 1088.5,-240 1088.5,-172 1183.5,-172 1183.5,-240\"/>\n<text text-anchor=\"middle\" x=\"1136\" y=\"-224.8\" font-family=\"Times,serif\" font-size=\"14.00\" fill=\"#000000\">gini = 0.0</text>\n<text text-anchor=\"middle\" x=\"1136\" y=\"-209.8\" font-family=\"Times,serif\" font-size=\"14.00\" fill=\"#000000\">samples = 1</text>\n<text text-anchor=\"middle\" x=\"1136\" y=\"-194.8\" font-family=\"Times,serif\" font-size=\"14.00\" fill=\"#000000\">value = [1, 0]</text>\n<text text-anchor=\"middle\" x=\"1136\" y=\"-179.8\" font-family=\"Times,serif\" font-size=\"14.00\" fill=\"#000000\">class = Died</text>\n</g>\n<!-- 135&#45;&gt;139 -->\n<g id=\"edge139\" class=\"edge\">\n<title>135&#45;&gt;139</title>\n<path fill=\"none\" stroke=\"#000000\" d=\"M1031.6767,-270.5157C1046.9564,-261.0664 1064.0185,-250.5149 1079.8457,-240.727\"/>\n<polygon fill=\"#000000\" stroke=\"#000000\" points=\"1081.8283,-243.6162 1088.4925,-235.3797 1078.1465,-237.6626 1081.8283,-243.6162\"/>\n</g>\n<!-- 137 -->\n<g id=\"node138\" class=\"node\">\n<title>137</title>\n<polygon fill=\"#e58139\" stroke=\"#000000\" points=\"1336,-334 1241,-334 1241,-266 1336,-266 1336,-334\"/>\n<text text-anchor=\"middle\" x=\"1288.5\" y=\"-318.8\" font-family=\"Times,serif\" font-size=\"14.00\" fill=\"#000000\">gini = 0.0</text>\n<text text-anchor=\"middle\" x=\"1288.5\" y=\"-303.8\" font-family=\"Times,serif\" font-size=\"14.00\" fill=\"#000000\">samples = 1</text>\n<text text-anchor=\"middle\" x=\"1288.5\" y=\"-288.8\" font-family=\"Times,serif\" font-size=\"14.00\" fill=\"#000000\">value = [1, 0]</text>\n<text text-anchor=\"middle\" x=\"1288.5\" y=\"-273.8\" font-family=\"Times,serif\" font-size=\"14.00\" fill=\"#000000\">class = Died</text>\n</g>\n<!-- 136&#45;&gt;137 -->\n<g id=\"edge137\" class=\"edge\">\n<title>136&#45;&gt;137</title>\n<path fill=\"none\" stroke=\"#000000\" d=\"M1183.8335,-300C1198.7376,-300 1215.332,-300 1230.8349,-300\"/>\n<polygon fill=\"#000000\" stroke=\"#000000\" points=\"1230.8362,-303.5001 1240.8362,-300 1230.8362,-296.5001 1230.8362,-303.5001\"/>\n</g>\n<!-- 138 -->\n<g id=\"node139\" class=\"node\">\n<title>138</title>\n<polygon fill=\"transparent\" stroke=\"#000000\" points=\"1336,-248 1241,-248 1241,-180 1336,-180 1336,-248\"/>\n<text text-anchor=\"middle\" x=\"1288.5\" y=\"-232.8\" font-family=\"Times,serif\" font-size=\"14.00\" fill=\"#000000\">gini = 0.5</text>\n<text text-anchor=\"middle\" x=\"1288.5\" y=\"-217.8\" font-family=\"Times,serif\" font-size=\"14.00\" fill=\"#000000\">samples = 2</text>\n<text text-anchor=\"middle\" x=\"1288.5\" y=\"-202.8\" font-family=\"Times,serif\" font-size=\"14.00\" fill=\"#000000\">value = [1, 1]</text>\n<text text-anchor=\"middle\" x=\"1288.5\" y=\"-187.8\" font-family=\"Times,serif\" font-size=\"14.00\" fill=\"#000000\">class = Died</text>\n</g>\n<!-- 136&#45;&gt;138 -->\n<g id=\"edge138\" class=\"edge\">\n<title>136&#45;&gt;138</title>\n<path fill=\"none\" stroke=\"#000000\" d=\"M1183.8335,-273.025C1199.0215,-264.46 1215.9648,-254.9051 1231.7196,-246.0204\"/>\n<polygon fill=\"#000000\" stroke=\"#000000\" points=\"1233.845,-248.8401 1240.8362,-240.8793 1230.4065,-242.7428 1233.845,-248.8401\"/>\n</g>\n<!-- 142 -->\n<g id=\"node143\" class=\"node\">\n<title>142</title>\n<polygon fill=\"#399de5\" stroke=\"#000000\" points=\"1039.5,-154 928.5,-154 928.5,-86 1039.5,-86 1039.5,-154\"/>\n<text text-anchor=\"middle\" x=\"984\" y=\"-138.8\" font-family=\"Times,serif\" font-size=\"14.00\" fill=\"#000000\">gini = 0.0</text>\n<text text-anchor=\"middle\" x=\"984\" y=\"-123.8\" font-family=\"Times,serif\" font-size=\"14.00\" fill=\"#000000\">samples = 1</text>\n<text text-anchor=\"middle\" x=\"984\" y=\"-108.8\" font-family=\"Times,serif\" font-size=\"14.00\" fill=\"#000000\">value = [0, 1]</text>\n<text text-anchor=\"middle\" x=\"984\" y=\"-93.8\" font-family=\"Times,serif\" font-size=\"14.00\" fill=\"#000000\">class = Survived</text>\n</g>\n<!-- 141&#45;&gt;142 -->\n<g id=\"edge142\" class=\"edge\">\n<title>141&#45;&gt;142</title>\n<path fill=\"none\" stroke=\"#000000\" d=\"M887.4194,-120C897.429,-120 907.9428,-120 918.1994,-120\"/>\n<polygon fill=\"#000000\" stroke=\"#000000\" points=\"918.3423,-123.5001 928.3422,-120 918.3422,-116.5001 918.3423,-123.5001\"/>\n</g>\n<!-- 143 -->\n<g id=\"node144\" class=\"node\">\n<title>143</title>\n<polygon fill=\"#399de5\" fill-opacity=\"0.498039\" stroke=\"#000000\" points=\"1039.5,-68 928.5,-68 928.5,0 1039.5,0 1039.5,-68\"/>\n<text text-anchor=\"middle\" x=\"984\" y=\"-52.8\" font-family=\"Times,serif\" font-size=\"14.00\" fill=\"#000000\">gini = 0.444</text>\n<text text-anchor=\"middle\" x=\"984\" y=\"-37.8\" font-family=\"Times,serif\" font-size=\"14.00\" fill=\"#000000\">samples = 3</text>\n<text text-anchor=\"middle\" x=\"984\" y=\"-22.8\" font-family=\"Times,serif\" font-size=\"14.00\" fill=\"#000000\">value = [1, 2]</text>\n<text text-anchor=\"middle\" x=\"984\" y=\"-7.8\" font-family=\"Times,serif\" font-size=\"14.00\" fill=\"#000000\">class = Survived</text>\n</g>\n<!-- 141&#45;&gt;143 -->\n<g id=\"edge143\" class=\"edge\">\n<title>141&#45;&gt;143</title>\n<path fill=\"none\" stroke=\"#000000\" d=\"M887.4194,-88.4651C897.846,-82.5852 908.8198,-76.3967 919.4801,-70.385\"/>\n<polygon fill=\"#000000\" stroke=\"#000000\" points=\"921.3511,-73.3481 928.3422,-65.3873 917.9126,-67.2508 921.3511,-73.3481\"/>\n</g>\n</g>\n</svg>\n"
          },
          "metadata": {
            "tags": []
          },
          "execution_count": 288
        }
      ]
    }
  ]
}