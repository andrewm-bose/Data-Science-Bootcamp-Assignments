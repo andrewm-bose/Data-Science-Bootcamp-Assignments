{
  "nbformat": 4,
  "nbformat_minor": 0,
  "metadata": {
    "colab": {
      "name": "MyExercises-Codewars.ipynb",
      "version": "0.3.2",
      "provenance": [],
      "include_colab_link": true
    },
    "kernelspec": {
      "name": "python3",
      "display_name": "Python 3"
    }
  },
  "cells": [
    {
      "cell_type": "markdown",
      "metadata": {
        "id": "view-in-github",
        "colab_type": "text"
      },
      "source": [
        "<a href=\"https://colab.research.google.com/github/andrewm-bose/Data-Science-Bootcamp-Assignments/blob/master/MyExercises_Codewars.ipynb\" target=\"_parent\"><img src=\"https://colab.research.google.com/assets/colab-badge.svg\" alt=\"Open In Colab\"/></a>"
      ]
    },
    {
      "metadata": {
        "id": "RhDnT0N_Wmfs",
        "colab_type": "code",
        "colab": {}
      },
      "cell_type": "code",
      "source": [
        "def abbrevName(name):\n",
        "    names = name.rsplit(' ')\n",
        "    initials = str(name[0].capitalize()) +'.'+ str(name[(name.find(' ')+1)].capitalize())\n",
        "    return initials\n",
        "    \n",
        "print(abbrevName(\"sam harris\"))\n",
        "print(abbrevName(\"Sam Harris\"))\n",
        "print(abbrevName(\"Patrick Feenan\"))\n",
        "print(abbrevName(\"evan Cole\"))\n",
        "print(abbrevName(\"p Favuzzi\"))\n",
        "print(abbrevName(\"David mendieta\"))"
      ],
      "execution_count": 0,
      "outputs": []
    },
    {
      "metadata": {
        "id": "9EwCayj-cRPG",
        "colab_type": "text"
      },
      "cell_type": "markdown",
      "source": [
        "Given a non-empty array of integers, return the result of multiplying the values together in order. Example:\n",
        "\n",
        "[1, 2, 3, 4] => 1 * 2 * 3 * 4 = 24"
      ]
    },
    {
      "metadata": {
        "id": "Oh8N2cAAcR2c",
        "colab_type": "code",
        "colab": {}
      },
      "cell_type": "code",
      "source": [
        "from functools import reduce\n",
        "def grow(arr):\n",
        "    return reduce(lambda i,j: i*j,arr)\n",
        "  "
      ],
      "execution_count": 0,
      "outputs": []
    },
    {
      "metadata": {
        "id": "robuWT1McZsQ",
        "colab_type": "code",
        "outputId": "6b01efa4-8ac4-46ea-a00a-8fbd77212d2b",
        "colab": {
          "base_uri": "https://localhost:8080/",
          "height": 72
        }
      },
      "cell_type": "code",
      "source": [
        "\n",
        "tests = [\n",
        "    [6 , [1, 2, 3]],\n",
        "    [16, [4, 1, 1, 1, 4]],\n",
        "    [64, [2, 2, 2, 2, 2, 2]],\n",
        "]\n",
        "\n",
        "for exp, inp in tests:\n",
        "    print((grow(inp), exp))"
      ],
      "execution_count": 0,
      "outputs": [
        {
          "output_type": "stream",
          "text": [
            "(6, 6)\n",
            "(16, 16)\n",
            "(64, 64)\n"
          ],
          "name": "stdout"
        }
      ]
    },
    {
      "metadata": {
        "id": "cpDwYMjxnQ7C",
        "colab_type": "text"
      },
      "cell_type": "markdown",
      "source": [
        ""
      ]
    },
    {
      "metadata": {
        "id": "qzNWxio-cut8",
        "colab_type": "text"
      },
      "cell_type": "markdown",
      "source": [
        "Description:\n",
        "Remove n exclamation marks in the sentence from left to right. n is positive integer.\n",
        "\n",
        "Examples\n",
        "\n",
        "remove(\"Hi!\",1) === \"Hi\"\n",
        "\n",
        "remove(\"Hi!\",100) === \"Hi\"\n",
        "\n",
        "remove(\"Hi!!!\",1) === \"Hi!!\"\n",
        "\n",
        "remove(\"Hi!!!\",100) === \"Hi\"\n",
        "\n",
        "remove(\"!Hi\",1) === \"Hi\"\n",
        "\n",
        "remove(\"!Hi!\",1) === \"Hi!\"\n",
        "\n",
        "remove(\"!Hi!\",100) === \"Hi\"\n",
        "\n",
        "remove(\"!!!Hi !!hi!!! !hi\",1) === \"!!Hi !!hi!!! !hi\"\n",
        "\n",
        "remove(\"!!!Hi !!hi!!! !hi\",3) === \"Hi !!hi!!! !hi\"\n",
        "\n",
        "remove(\"!!!Hi !!hi!!! !hi\",5) === \"Hi hi!!! !hi\"\n",
        "\n",
        "remove(\"!!!Hi !!hi!!! !hi\",100) === \"Hi hi hi\"\n",
        "Note\n",
        "Please don't post issue about difficulty or duplicate."
      ]
    },
    {
      "metadata": {
        "id": "cquH53zadclG",
        "colab_type": "code",
        "outputId": "fbc73250-8175-4d77-c5fe-8325d0a1d905",
        "colab": {
          "base_uri": "https://localhost:8080/",
          "height": 217
        }
      },
      "cell_type": "code",
      "source": [
        "def remove(s, n):\n",
        "  for i in range(n):\n",
        "    s_lst = list(s)\n",
        "    if '!' in s:\n",
        "      s_lst[s.find('!')] = ''\n",
        "      s = ''.join(s_lst)\n",
        "    else:\n",
        "      break\n",
        "  return s\n",
        "  \n",
        "print(1,remove(\"Hi!\",1), ' === \"Hi\"')\n",
        "print(2,remove(\"Hi!\",100), ' === \"Hi\"')\n",
        "print(3,remove(\"Hi!!!\",1), ' === \"Hi!!\"')\n",
        "print(4,remove(\"Hi!!!\",100), ' === \"Hi\"')\n",
        "print(5,remove(\"!Hi\",1), ' === \"Hi\"')\n",
        "print(6,remove(\"!Hi!\",1), ' === \"Hi!\"')\n",
        "print(7,remove(\"!Hi!\",100), ' === \"Hi\"')\n",
        "print(8,remove(\"!!!Hi !!hi!!! !hi\",1), ' === \"!!Hi !!hi!!! !hi\"')\n",
        "print(9,remove(\"!!!Hi !!hi!!! !hi\",3), ' === \"Hi !!hi!!! !hi\"')\n",
        "print(10,remove(\"!!!Hi !!hi!!! !hi\",5), '=== \"Hi hi!!! !hi\"')\n",
        "print(11,remove(\"!!!Hi !!hi!!! !hi\",100),'=== \"Hi hi hi\"')\n"
      ],
      "execution_count": 0,
      "outputs": [
        {
          "output_type": "stream",
          "text": [
            "1 Hi  === \"Hi\"\n",
            "2 Hi  === \"Hi\"\n",
            "3 Hi!!  === \"Hi!!\"\n",
            "4 Hi  === \"Hi\"\n",
            "5 Hi  === \"Hi\"\n",
            "6 Hi!  === \"Hi!\"\n",
            "7 Hi  === \"Hi\"\n",
            "8 !!Hi !!hi!!! !hi  === \"!!Hi !!hi!!! !hi\"\n",
            "9 Hi !!hi!!! !hi  === \"Hi !!hi!!! !hi\"\n",
            "10 Hi hi!!! !hi === \"Hi hi!!! !hi\"\n",
            "11 Hi hi hi === \"Hi hi hi\"\n"
          ],
          "name": "stdout"
        }
      ]
    },
    {
      "metadata": {
        "id": "lL_1sdH2FaAJ",
        "colab_type": "text"
      },
      "cell_type": "markdown",
      "source": [
        "Sum Array\n",
        "Write a method sum (sum_array in python, SumArray in C#) that takes an array of numbers and returns the sum of the numbers. These may be integers or decimals for Ruby and any instance of Num for Haskell. The numbers can also be negative. If the array does not contain any numbers then you should return 0.\n",
        "\n",
        "Examples\n",
        "print sum_array([1 2 3])\n",
        "> 6\n",
        "print sum_array([])\n",
        "> 0\n",
        "Assumptions\n",
        "You can assume that you are only given numbers.\n",
        "You cannot assume the size of the array.\n",
        "You can assume that you do get an array and if the array is empty, return 0."
      ]
    },
    {
      "metadata": {
        "id": "vE80TNzEFfU1",
        "colab_type": "code",
        "outputId": "e1b855bd-ac37-4cfb-d603-c1908c9f95e1",
        "colab": {
          "base_uri": "https://localhost:8080/",
          "height": 108
        }
      },
      "cell_type": "code",
      "source": [
        "from functools import reduce\n",
        "def sum_array(a):\n",
        "\n",
        "    return reduce(lambda x,y: x+y, a) if a != [] else 0\n",
        "\n",
        "print(sum_array([]), 0)\n",
        "print(sum_array([1, 2, 3]), 6)\n",
        "print(sum_array([1.1, 2.2, 3.3]), 6.6)\n",
        "print(sum_array([4, 5, 6]), 15)\n",
        "print(sum_array(range(101)), 5050)"
      ],
      "execution_count": 0,
      "outputs": [
        {
          "output_type": "stream",
          "text": [
            "0 0\n",
            "6 6\n",
            "6.6 6.6\n",
            "15 15\n",
            "5050 5050\n"
          ],
          "name": "stdout"
        }
      ]
    },
    {
      "metadata": {
        "id": "L2n0CqQnHVWG",
        "colab_type": "text"
      },
      "cell_type": "markdown",
      "source": [
        "Write a function, gooseFilter/goose_filter/GooseFilter, that takes an array of strings as an argument and returns a filtered array containing the same elements but with the 'geese' removed.\n",
        "\n",
        "The geese are any strings in the following array, which is pre-populated in your solution:\n",
        "\n",
        "geese = [\"African\", \"Roman Tufted\", \"Toulouse\", \"Pilgrim\", \"Steinbacher\"]\n",
        "For example, if this array were passed as an argument:\n",
        "\n",
        "[\"Mallard\", \"Hook Bill\", \"African\", \"Crested\", \"Pilgrim\", \"Toulouse\", \"Blue Swedish\"]\n",
        "Your function would return the following array:\n",
        "\n",
        "[\"Mallard\", \"Hook Bill\", \"Crested\", \"Blue Swedish\"]\n",
        "The elements in the returned array should be in the same order as in the initial array passed to your function, albeit with the 'geese' removed. Note that all of the strings will be in the same case as those provided, and some elements may be repeated."
      ]
    },
    {
      "metadata": {
        "id": "EIjh7YqqHZzb",
        "colab_type": "code",
        "outputId": "9a2675df-4ef4-49cb-b0de-e508e44b205a",
        "colab": {
          "base_uri": "https://localhost:8080/",
          "height": 126
        }
      },
      "cell_type": "code",
      "source": [
        "geese = [\"African\", \"Roman Tufted\", \"Toulouse\", \"Pilgrim\", \"Steinbacher\"]\n",
        "\n",
        "def goose_filter(birds):\n",
        "  b = birds\n",
        "  remove = []\n",
        "  [remove.append(bird) if bird in geese else remove for bird in birds] \n",
        "  [b.remove(bird) for bird in remove]\n",
        "  return b\n",
        "\n",
        "    \n",
        "print(goose_filter([\"Mallard\", \"Hook Bill\", \"African\", \"Crested\", \"Pilgrim\", \"Toulouse\", \"Blue Swedish\"]),'\\n', [\"Mallard\", \"Hook Bill\", \"Crested\", \"Blue Swedish\"])\n",
        "print(goose_filter([\"Mallard\", \"Barbary\", \"Hook Bill\", \"Blue Swedish\", \"Crested\"]),'\\n',[\"Mallard\", \"Barbary\", \"Hook Bill\", \"Blue Swedish\", \"Crested\"])\n",
        "print(goose_filter([\"African\", \"Roman Tufted\", \"Toulouse\", \"Pilgrim\", \"Steinbacher\"]),'\\n',[])"
      ],
      "execution_count": 0,
      "outputs": [
        {
          "output_type": "stream",
          "text": [
            "['Mallard', 'Hook Bill', 'Crested', 'Blue Swedish'] \n",
            " ['Mallard', 'Hook Bill', 'Crested', 'Blue Swedish']\n",
            "['Mallard', 'Barbary', 'Hook Bill', 'Blue Swedish', 'Crested'] \n",
            " ['Mallard', 'Barbary', 'Hook Bill', 'Blue Swedish', 'Crested']\n",
            "[] \n",
            " []\n"
          ],
          "name": "stdout"
        }
      ]
    },
    {
      "metadata": {
        "id": "LU9NwFdmcUZD",
        "colab_type": "code",
        "outputId": "692fd523-e135-48a0-d97b-ed87bb8671e7",
        "colab": {
          "base_uri": "https://localhost:8080/",
          "height": 126
        }
      },
      "cell_type": "code",
      "source": [
        "#BETTER VERSION\n",
        "geese = [\"African\", \"Roman Tufted\", \"Toulouse\", \"Pilgrim\", \"Steinbacher\"]\n",
        "\n",
        "def goose_filter(birds):\n",
        "  return [bird for bird in birds if bird not in geese]\n",
        "\n",
        "print(goose_filter([\"Mallard\", \"Hook Bill\", \"African\", \"Crested\", \"Pilgrim\", \"Toulouse\", \"Blue Swedish\"]),'\\n', [\"Mallard\", \"Hook Bill\", \"Crested\", \"Blue Swedish\"])\n",
        "print(goose_filter([\"Mallard\", \"Barbary\", \"Hook Bill\", \"Blue Swedish\", \"Crested\"]),'\\n',[\"Mallard\", \"Barbary\", \"Hook Bill\", \"Blue Swedish\", \"Crested\"])\n",
        "print(goose_filter([\"African\", \"Roman Tufted\", \"Toulouse\", \"Pilgrim\", \"Steinbacher\"]),'\\n',[])"
      ],
      "execution_count": 0,
      "outputs": [
        {
          "output_type": "stream",
          "text": [
            "['Mallard', 'Hook Bill', 'Crested', 'Blue Swedish'] \n",
            " ['Mallard', 'Hook Bill', 'Crested', 'Blue Swedish']\n",
            "['Mallard', 'Barbary', 'Hook Bill', 'Blue Swedish', 'Crested'] \n",
            " ['Mallard', 'Barbary', 'Hook Bill', 'Blue Swedish', 'Crested']\n",
            "[] \n",
            " []\n"
          ],
          "name": "stdout"
        }
      ]
    },
    {
      "metadata": {
        "id": "3o4GaJ3DceZF",
        "colab_type": "code",
        "colab": {}
      },
      "cell_type": "code",
      "source": [
        ""
      ],
      "execution_count": 0,
      "outputs": []
    },
    {
      "metadata": {
        "id": "Yp44JPVNcraO",
        "colab_type": "text"
      },
      "cell_type": "markdown",
      "source": [
        "Suzuki is a monk who climbs a large staircase to the monastery as part of a ritual. Some days he climbs more stairs than others depending on the number of students he must train in the morning. He is curious how many stairs might be climbed over the next 20 years and has spent a year marking down his daily progress.\n",
        "\n",
        "The sum of all the stairs logged in a year will be used for estimating the number he might climb in 20.\n",
        "\n",
        "20_year_estimate = one_year_total * 20\n",
        "\n",
        "You will receive the following data structure representing the stairs Suzuki logged in a year. You will have all data for the entire year so regardless of how it is logged the problem should be simple to solve.\n",
        "\n",
        "stairs = [sunday,monday,tuesday,wednesday,thursday,friday,saturday]\n",
        "Make sure your solution takes into account all of the nesting within the stairs array.\n",
        "\n",
        "Each weekday in the stairs array is an array.\n",
        "\n",
        "sunday = [6737, 7244, 5776, 9826, 7057, 9247, 5842, 5484, 6543, 5153, 6832, 8274, 7148, 6152, 5940, 8040, 9174, 7555, 7682, 5252, 8793, 8837, 7320, 8478, 6063, 5751, 9716, 5085, 7315, 7859, 6628, 5425, 6331, 7097, 6249, 8381, 5936, 8496, 6934, 8347, 7036, 6421, 6510, 5821, 8602, 5312, 7836, 8032, 9871, 5990, 6309, 7825]\n",
        "Your function should return the 20 year estimate of the stairs climbed using the formula above."
      ]
    },
    {
      "metadata": {
        "id": "k1Li6WskcsIx",
        "colab_type": "code",
        "outputId": "a85b2b7e-f1f9-40e0-c04e-195b924d9753",
        "colab": {
          "base_uri": "https://localhost:8080/",
          "height": 35
        }
      },
      "cell_type": "code",
      "source": [
        "from functools import reduce\n",
        " \n",
        "def stairs_in_20(stairs):\n",
        "  output = 0\n",
        "  for i in stairs:\n",
        "    output = output + sum(i)\n",
        "  return output*20\n",
        "\n",
        "#def stairs_in_20(stairs):\n",
        "#    return sum(sum(day) for day in stairs) * 20\n",
        "    \n",
        "\n",
        "sunday = [6737, 7244, 5776, 9826, 7057, 9247, 5842, 5484, 6543, 5153, 6832, 8274,\n",
        "          7148, 6152, 5940, 8040, 9174, 7555, 7682, 5252, 8793, 8837, 7320, 8478, 6063, \n",
        "          5751, 9716, 5085, 7315, 7859, 6628, 5425, 6331, 7097, 6249, 8381, 5936, 8496, \n",
        "          6934, 8347, 7036, 6421, 6510, 5821, 8602, 5312, 7836, 8032, 9871, 5990, 6309, 7825]\n",
        "\n",
        "monday = [9175, 7883, 7596, 8635, 9274, 9675, 5603, 6863, 6442, 9500, 7468, 9719,\n",
        "          6648, 8180, 7944, 5190, 6209, 7175, 5984, 9737, 5548, 6803, 9254, 5932, 7360, 9221, \n",
        "          5702, 5252, 7041, 7287, 5185, 9139, 7187, 8855, 9310, 9105, 9769, 9679, 7842,\n",
        "          7466, 7321, 6785, 8770, 8108, 7985, 5186, 9021, 9098, 6099, 5828, 7217, 9387]\n",
        "\n",
        "tuesday = [8646, 6945, 6364, 9563, 5627, 5068, 9157, 9439, 5681, 8674, 6379, 8292,\n",
        "           7552, 5370, 7579, 9851, 8520, 5881, 7138, 7890, 6016, 5630, 5985, 9758, 8415, 7313,\n",
        "           7761, 9853, 7937, 9268, 7888, 6589, 9366, 9867, 5093, 6684, 8793, 8116, 8493, \n",
        "           5265, 5815, 7191, 9515, 7825, 9508, 6878, 7180, 8756, 5717, 7555, 9447, 7703]\n",
        "\n",
        "wednesday = [6353, 9605, 5464, 9752, 9915, 7446, 9419, 6520, 7438, 6512, 7102, \n",
        "             5047, 6601, 8303, 9118, 5093, 8463, 7116, 7378, 9738, 9998, 7125, 6445, 6031, 8710,\n",
        "             5182, 9142, 9415, 9710, 7342, 9425, 7927, 9030, 7742, 8394, 9652, 5783, 7698, \n",
        "             9492, 6973, 6531, 7698, 8994, 8058, 6406, 5738, 7500, 8357, 7378, 9598, 5405, 9493]\n",
        "\n",
        "thursday = [6149, 6439, 9899, 5897, 8589, 7627, 6348, 9625, 9490, 5502, 5723, 8197,\n",
        "            9866, 6609, 6308, 7163, 9726, 7222, 7549, 6203, 5876, 8836, 6442, 6752, 8695, 8402,\n",
        "            9638, 9925, 5508, 8636, 5226, 9941, 8936, 5047, 6445, 8063, 6083, 7383, 7548, 5066, \n",
        "            7107, 6911, 9302, 5202, 7487, 5593, 8620, 8858, 5360, 6638, 8012, 8701]\n",
        "\n",
        "friday = [5000, 5642, 9143, 7731, 8477, 8000, 7411, 8813, 8288, 5637, 6244, 6589, 6362, \n",
        "         6200, 6781, 8371, 7082, 5348, 8842, 9513, 5896, 6628, 8164, 8473, 5663, 9501, \n",
        "         9177, 8384, 8229, 8781, 9160, 6955, 9407, 7443, 8934, 8072, 8942, 6859, 5617,\n",
        "         5078, 8910, 6732, 9848, 8951, 9407, 6699, 9842, 7455, 8720, 5725, 6960, 5127]\n",
        "\n",
        "saturday = [5448, 8041, 6573, 8104, 6208, 5912, 7927, 8909, 7000, 5059, 6412, 6354, 8943, \n",
        "            5460, 9979, 5379, 8501, 6831, 7022, 7575, 5828, 5354, 5115, 9625, 7795, 7003, \n",
        "            5524, 9870, 6591, 8616, 5163, 6656, 8150, 8826, 6875, 5242, 9585, 9649, 9838, \n",
        "            7150, 6567, 8524, 7613, 7809, 5562, 7799, 7179, 5184, 7960, 9455, 5633, 9085]\n",
        "\n",
        "\n",
        "stairs = [sunday,monday,tuesday,wednesday,thursday,friday,saturday]\n",
        "print(stairs_in_20(stairs), 54636040)"
      ],
      "execution_count": 0,
      "outputs": [
        {
          "output_type": "stream",
          "text": [
            "54636040 54636040\n"
          ],
          "name": "stdout"
        }
      ]
    },
    {
      "metadata": {
        "id": "rkhgXPlG8k5d",
        "colab_type": "text"
      },
      "cell_type": "markdown",
      "source": [
        "Our football team finished the championship. The result of each match look like \"x:y\". Results of all matches are recorded in the collection.\n",
        "\n",
        "For example: [\"3:1\", \"2:2\", \"0:1\", ...]\n",
        "\n",
        "Write a function that takes such collection and counts the points of our team in the championship. Rules for counting points for each match:\n",
        "\n",
        "if x>y - 3 points\n",
        "if x<y - 0 point\n",
        "if x=y - 1 point\n",
        "Notes:\n",
        "\n",
        "there are 10 matches in the championship\n",
        "0 <= x <= 4\n",
        "0 <= y <= 4"
      ]
    },
    {
      "metadata": {
        "id": "SK8ohHqY80VX",
        "colab_type": "code",
        "outputId": "52918f90-dcc2-4aca-e453-bc04378e5d2c",
        "colab": {
          "base_uri": "https://localhost:8080/",
          "height": 108
        }
      },
      "cell_type": "code",
      "source": [
        "def points(games):\n",
        "  points = 0\n",
        "  for i in games:\n",
        "    x = i[0]\n",
        "    y = i[2]\n",
        "    if x>y:\n",
        "      points += 3\n",
        "    elif x==y:\n",
        "      points +=1\n",
        "  return points\n",
        "  #return sum(3 if x > y else 0 if x < y else 1 for x, y in (score.split(\":\") for score in games))\n",
        "\n",
        "print(points(['1:0','2:0','3:0','4:0','2:1','3:1','4:1','3:2','4:2','4:3']), 30)\n",
        "print(points(['1:1','2:2','3:3','4:4','2:2','3:3','4:4','3:3','4:4','4:4']), 10)\n",
        "print(points(['0:1','0:2','0:3','0:4','1:2','1:3','1:4','2:3','2:4','3:4']), 0)\n",
        "print(points(['1:0','2:0','3:0','4:0','2:1','1:3','1:4','2:3','2:4','3:4']), 15)\n",
        "print(points(['1:0','2:0','3:0','4:4','2:2','3:3','1:4','2:3','2:4','3:4']), 12)"
      ],
      "execution_count": 0,
      "outputs": [
        {
          "output_type": "stream",
          "text": [
            "30 30\n",
            "10 10\n",
            "0 0\n",
            "15 15\n",
            "12 12\n"
          ],
          "name": "stdout"
        }
      ]
    },
    {
      "metadata": {
        "id": "MuHMYEEL9OEy",
        "colab_type": "text"
      },
      "cell_type": "markdown",
      "source": [
        "Your job is to find the gravitational force between two spherical objects (obj1 , obj2).\n",
        "\n",
        "input\n",
        "Two arrays are give :\n",
        "\n",
        "arr_val (value array), consists of 3 elements\n",
        "1st element : mass of obj 1\n",
        "2nd element : mass of obj 2\n",
        "3rd element : distance between their centers\n",
        "arr_unit (unit array), consists of 3 elements\n",
        "1st element : unit for mass of obj 1\n",
        "2nd element : unit for mass of obj 2\n",
        "3rd element : unit for distance between their centers\n",
        "mass units are :\n",
        "\n",
        "kilogram (kg)\n",
        "gram (g)\n",
        "milligram (mg)\n",
        "microgram (μg)\n",
        "pound (lb)\n",
        "distance units are :\n",
        "\n",
        "meter (m)\n",
        "centimeter (cm)\n",
        "millimeter (mm)\n",
        "micrometer (μm)\n",
        "feet (ft)\n",
        "Note\n",
        "value of G = 6.67 x 10-11N.kg–2.m2\n",
        "\n",
        "1ft = 0.3048m\n",
        "\n",
        "1lb = 0.453592kg\n",
        "\n",
        "return value must be Newton for force (obviously)\n",
        "\n",
        "μ copy this from here to use it in your solution"
      ]
    },
    {
      "metadata": {
        "id": "lhgM_9q19Tfm",
        "colab_type": "code",
        "outputId": "8dd66af2-a8e4-4911-faa7-37988cd85f7b",
        "colab": {
          "base_uri": "https://localhost:8080/",
          "height": 90
        }
      },
      "cell_type": "code",
      "source": [
        "G = 6.67*10**-11 #Nm2/kg2\n",
        "def solution(arr_val, arr_unit) :\n",
        "\n",
        "    #Unit Conversion Table\n",
        "    m_dict = {'kg':1, 'g':10**3, 'mg':10**6, 'μg':10**9, 'lb':1/0.453592}\n",
        "    d_dict = {'m':1, 'cm':100, 'mm':1000, 'μm':10**6, 'ft':1/0.3048}\n",
        "    \n",
        "    #CONVERT UNITS TO kg,kg,m   \n",
        "    m1 = arr_val[0] /m_dict[arr_unit[0]]\n",
        "    m2 = arr_val[1] /m_dict[arr_unit[1]]\n",
        "    dist = (arr_val[2] /d_dict[arr_unit[2]])\n",
        "    F = G*m1*m2/dist**2\n",
        "    return F\n",
        "    \n",
        "    \n",
        "print(solution([1000, 1000, 100], [\"g\", \"kg\", \"m\"]), 6.67e-12)\n",
        "print(solution([1000, 1000, 100], [\"g\", \"kg\", \"ft\"]), 6.67e-12/(0.3048**2))\n",
        "print(solution([1000, 1000, 100], [\"kg\", \"kg\", \"m\"]), 6.667e-9)\n",
        "print(solution([1000, 1000, 100], [\"kg\", \"kg\", \"cm\"]), 0.0000667)"
      ],
      "execution_count": 0,
      "outputs": [
        {
          "output_type": "stream",
          "text": [
            "6.67e-12 6.67e-12\n",
            "7.179528247945383e-11 7.179528247945384e-11\n",
            "6.6699999999999995e-09 6.667e-09\n",
            "6.67e-05 6.67e-05\n"
          ],
          "name": "stdout"
        }
      ]
    },
    {
      "metadata": {
        "id": "07b2O3kWX6A_",
        "colab_type": "code",
        "outputId": "d84f2dd8-2335-48c6-f79c-4df30b93ac48",
        "colab": {
          "base_uri": "https://localhost:8080/",
          "height": 90
        }
      },
      "cell_type": "code",
      "source": [
        "units = {\"kg\": 1, \"g\": 1e-3, \"mg\": 1e-6, \"μg\": 1e-9, \"lb\": 0.453592,\n",
        "         \"m\": 1, \"cm\": 1e-2, \"mm\": 1e-3, \"μm\": 1e-6, \"ft\": 0.3048,\n",
        "         \"G\": 6.67e-11}\n",
        "\n",
        "def solution(v, u):\n",
        "    m1, m2, r = (v[i] * units[u[i]] for i in range(3))\n",
        "    return units[\"G\"] * m1 * m2 / r**2\n",
        "  \n",
        "print(solution([1000, 1000, 100], [\"g\", \"kg\", \"m\"]), 6.67e-12)\n",
        "print(solution([1000, 1000, 100], [\"g\", \"kg\", \"ft\"]), 6.67e-12/(0.3048**2))\n",
        "print(solution([1000, 1000, 100], [\"kg\", \"kg\", \"m\"]), 6.667e-9)\n",
        "print(solution([1000, 1000, 100], [\"kg\", \"kg\", \"cm\"]), 0.0000667)"
      ],
      "execution_count": 0,
      "outputs": [
        {
          "output_type": "stream",
          "text": [
            "6.67e-12 6.67e-12\n",
            "7.179528247945384e-11 7.179528247945384e-11\n",
            "6.6699999999999995e-09 6.667e-09\n",
            "6.67e-05 6.67e-05\n"
          ],
          "name": "stdout"
        }
      ]
    },
    {
      "metadata": {
        "id": "m6AQOT7vk6P6",
        "colab_type": "text"
      },
      "cell_type": "markdown",
      "source": [
        "A wolf in sheep's clothing\n",
        "Wolves have been reintroduced to Great Britain. You are a sheep farmer, and are now plagued by wolves which pretend to be sheep. Fortunately, you are good at spotting them.\n",
        "\n",
        "Warn the sheep in front of the wolf that it is about to be eaten. Remember that you are standing at the front of the queue which is at the end of the array:\n",
        "\n",
        "[sheep, sheep, sheep, sheep, sheep, wolf, sheep, sheep]      (YOU ARE HERE AT THE FRONT OF THE QUEUE)\n",
        "   7      6      5      4      3            2      1\n",
        "If the wolf is the closest animal to you, return \"Pls go away and stop eating my sheep\". Otherwise, return \"Oi! Sheep number N! You are about to be eaten by a wolf!\" where N is the sheep's position in the queue.\n",
        "\n",
        "Note: there will always be exactly one wolf in the array.\n",
        "\n",
        "Examples\n",
        "warn_the_sheep([\"sheep\", \"sheep\", \"sheep\", \"wolf\", \"sheep\"]) == 'Oi! Sheep number 1! You are about to be eaten by a wolf!'\n",
        "\n",
        "warn_the_sheep(['sheep', 'sheep', 'wolf']) == 'Pls go away and stop eating my sheep'\n",
        "F"
      ]
    },
    {
      "metadata": {
        "id": "mUSrc69-lB0M",
        "colab_type": "code",
        "outputId": "e49f974d-0c2b-494a-9794-b516da654597",
        "colab": {
          "base_uri": "https://localhost:8080/",
          "height": 108
        }
      },
      "cell_type": "code",
      "source": [
        "def warn_the_sheep(queue):\n",
        "    reorder = queue\n",
        "    reorder.reverse()\n",
        "    n = reorder.index('wolf')\n",
        "    say = ['Pls go away and stop eating my sheep','Oi! Sheep number ' + \n",
        "           str(int(n)) + '! You are about to be eaten by a wolf!']\n",
        "    return say[0] if n else say[1]\n",
        "      \n",
        "  \n",
        "print(warn_the_sheep(['sheep', 'sheep', 'sheep', 'sheep', 'sheep', 'wolf', 'sheep', 'sheep']), '||Oi! Sheep number 2! You are about to be eaten by a wolf!')\n",
        "print(warn_the_sheep(['sheep', 'wolf', 'sheep', 'sheep', 'sheep', 'sheep', 'sheep']), '||Oi! Sheep number 5! You are about to be eaten by a wolf!')\n",
        "print(warn_the_sheep(['wolf', 'sheep', 'sheep', 'sheep', 'sheep', 'sheep', 'sheep']), '||Oi! Sheep number 6! You are about to be eaten by a wolf!')\n",
        "print(warn_the_sheep(['sheep', 'wolf', 'sheep']), '||Oi! Sheep number 1! You are about to be eaten by a wolf!')\n",
        "print(warn_the_sheep(['sheep', 'sheep', 'wolf']), '||Pls go away and stop eating my sheep')"
      ],
      "execution_count": 0,
      "outputs": [
        {
          "output_type": "stream",
          "text": [
            "Pls go away and stop eating my sheep ||Oi! Sheep number 2! You are about to be eaten by a wolf!\n",
            "Pls go away and stop eating my sheep ||Oi! Sheep number 5! You are about to be eaten by a wolf!\n",
            "Pls go away and stop eating my sheep ||Oi! Sheep number 6! You are about to be eaten by a wolf!\n",
            "Pls go away and stop eating my sheep ||Oi! Sheep number 1! You are about to be eaten by a wolf!\n",
            "Oi! Sheep number 0! You are about to be eaten by a wolf! ||Pls go away and stop eating my sheep\n"
          ],
          "name": "stdout"
        }
      ]
    },
    {
      "metadata": {
        "id": "7HLYpmyS9zI5",
        "colab_type": "text"
      },
      "cell_type": "markdown",
      "source": [
        "Complete the function which takes two arguments and returns all numbers which are divisible by given divisor. First argument is an array of numbers and the second is the divisor.\n",
        "\n",
        "Example\n",
        "divisible_by([1, 2, 3, 4, 5, 6], 2) == [2, 4, 6]"
      ]
    },
    {
      "metadata": {
        "id": "nYdhyw7P90A1",
        "colab_type": "code",
        "outputId": "4b2e555f-2292-4297-9d41-6157661e711d",
        "colab": {
          "base_uri": "https://localhost:8080/",
          "height": 108
        }
      },
      "cell_type": "code",
      "source": [
        "def divisible_by(numbers, divisor):\n",
        "  return [i for i in numbers if not i%divisor]\n",
        "  \n",
        "  Test.describe(\"Fixed tests\")\n",
        "print(divisible_by([1,2,3,4,5,6], 2), [2,4,6])\n",
        "print(divisible_by([1,2,3,4,5,6], 3), [3,6])\n",
        "print(divisible_by([0,1,2,3,4,5,6], 4), [0,4])\n",
        "print(divisible_by([0], 4), [0])\n",
        "print(divisible_by([1,3,5], 2), [])"
      ],
      "execution_count": 0,
      "outputs": [
        {
          "output_type": "stream",
          "text": [
            "[2, 4, 6] [2, 4, 6]\n",
            "[3, 6] [3, 6]\n",
            "[0, 4] [0, 4]\n",
            "[0] [0]\n",
            "[] []\n"
          ],
          "name": "stdout"
        }
      ]
    },
    {
      "metadata": {
        "id": "y1jnG4eF_9pZ",
        "colab_type": "text"
      },
      "cell_type": "markdown",
      "source": [
        "Given a sequence of items and a specific item in that sequence, return the item immediately following the item specified. If the item occurs more than once in a sequence, return the item after the first occurence. This should work for a sequence of any type.\n",
        "\n",
        "When the item isn't present or nothing follows it, the function should return nil in Clojure and Elixir, Nothing in Haskell, undefined in JavaScript, None in Python.\n",
        "\n",
        "next_item([1, 2, 3, 4, 5, 6, 7], 3) # => 4\n",
        "next_item(['Joe', 'Bob', 'Sally'], 'Bob') # => \"Sally\""
      ]
    },
    {
      "metadata": {
        "id": "wNQbgDBxAqdE",
        "colab_type": "code",
        "outputId": "1bea2a75-a983-4678-f2e7-29f9614dad0a",
        "colab": {
          "base_uri": "https://localhost:8080/",
          "height": 108
        }
      },
      "cell_type": "code",
      "source": [
        "def next_item(xs, item):\n",
        "    lst = list(xs)\n",
        "    return None if item not in lst \\\n",
        "       or lst.index(item) == len(lst)-1 \\\n",
        "       else lst[lst.index(item) +1 ]  \n",
        "    \n",
        "print(next_item([1, 2, 3, 4, 5, 6, 7, 8], 5), 6)\n",
        "print(next_item(['a', 'b', 'c'], 'd'), None)\n",
        "print(next_item(['a', 'b', 'c'], 'c'), None)\n",
        "print(next_item('testing', 't'), 'e')\n",
        "print(next_item(iter(range(1, 30000)), 12), 13)"
      ],
      "execution_count": 0,
      "outputs": [
        {
          "output_type": "stream",
          "text": [
            "6 6\n",
            "None None\n",
            "None None\n",
            "e e\n",
            "13 13\n"
          ],
          "name": "stdout"
        }
      ]
    },
    {
      "metadata": {
        "id": "C9LvYpBBjjQF",
        "colab_type": "text"
      },
      "cell_type": "markdown",
      "source": [
        "Given 2 elevators (named \"left\" and \"right\") in a building with 3 floors (numbered 0 to 2), write a function elevator accepting 3 arguments (in order):\n",
        "\n",
        "left - The current floor of the left elevator\n",
        "right - The current floor of the right elevator\n",
        "call - The called floor, i.e. the floor you want to reach\n",
        "It should return the name of the elevator closest to the called floor (\"left\"/\"right\").\n",
        "\n",
        "In the case where both elevators are equally distant from the called floor, choose the elevator to the right.\n",
        "\n",
        "You can assume that the inputs will always be valid integers between 0-2.\n",
        "\n",
        "Examples:\n",
        "\n",
        "elevator(0, 1, 0) # => \"left\"\n",
        "elevator(0, 1, 1) # => \"right\"\n",
        "elevator(0, 1, 2) # => \"right\"\n",
        "elevator(0, 0, 0) # => \"right\"\n",
        "elevator(0, 2, 1) # => \"right\""
      ]
    },
    {
      "metadata": {
        "id": "wzPwoJxijkC4",
        "colab_type": "code",
        "outputId": "d4bb54ce-873c-42fd-a9ac-ee113a8d91b0",
        "colab": {
          "base_uri": "https://localhost:8080/",
          "height": 108
        }
      },
      "cell_type": "code",
      "source": [
        "def elevator(left, right, call):\n",
        "    return 'right' if abs(right - call) <= abs(left - call) else 'left'\n",
        "  \n",
        "\n",
        "print(elevator(0, 1, 0), \"left\")\n",
        "print(elevator(0, 1, 1), \"right\")\n",
        "print(elevator(0, 1, 2), \"right\")\n",
        "print(elevator(0, 0, 0), \"right\")\n",
        "print(elevator(0, 2, 1), \"right\")"
      ],
      "execution_count": 0,
      "outputs": [
        {
          "output_type": "stream",
          "text": [
            "left left\n",
            "right right\n",
            "right right\n",
            "right right\n",
            "right right\n"
          ],
          "name": "stdout"
        }
      ]
    },
    {
      "metadata": {
        "id": "Tp6YtwMCoa1V",
        "colab_type": "text"
      },
      "cell_type": "markdown",
      "source": [
        "You get an array of numbers, return the sum of all of the positives ones.\n",
        "\n",
        "Example [1,-4,7,12] => 1 + 7 + 12 = 20\n",
        "\n",
        "Note: if there is nothing to sum, the sum is default to 0."
      ]
    },
    {
      "metadata": {
        "id": "C0S0qPbvobe1",
        "colab_type": "code",
        "outputId": "079975e7-5edd-45f0-d653-2a133cfc16c8",
        "colab": {
          "base_uri": "https://localhost:8080/",
          "height": 108
        }
      },
      "cell_type": "code",
      "source": [
        "def positive_sum(arr):\n",
        "  return sum(i for i in arr if i >0)\n",
        "  \n",
        "\n",
        "print(positive_sum([1,2,3,4,5]),15)\n",
        "print(positive_sum([1,-2,3,4,5]),13)\n",
        "print(positive_sum([-1,2,3,4,-5]),9)\n",
        "print(positive_sum([]),0)\n",
        "print(positive_sum([-1,-2,-3,-4,-5]),0)"
      ],
      "execution_count": 0,
      "outputs": [
        {
          "output_type": "stream",
          "text": [
            "15 15\n",
            "13 13\n",
            "9 9\n",
            "0 0\n",
            "0 0\n"
          ],
          "name": "stdout"
        }
      ]
    },
    {
      "metadata": {
        "id": "yGNDATv7cLnd",
        "colab_type": "text"
      },
      "cell_type": "markdown",
      "source": [
        ""
      ]
    }
  ]
}