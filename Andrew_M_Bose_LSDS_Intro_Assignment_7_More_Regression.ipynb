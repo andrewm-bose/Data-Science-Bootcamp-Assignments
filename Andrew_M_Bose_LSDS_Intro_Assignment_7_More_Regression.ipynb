{
  "nbformat": 4,
  "nbformat_minor": 0,
  "metadata": {
    "colab": {
      "name": "Andrew M Bose  - LSDS Intro Assignment 7 - More Regression.ipynb",
      "version": "0.3.2",
      "provenance": [],
      "collapsed_sections": []
    },
    "kernelspec": {
      "display_name": "Python 3",
      "language": "python",
      "name": "python3"
    }
  },
  "cells": [
    {
      "metadata": {
        "id": "T9H4rAOJmyXO",
        "colab_type": "text"
      },
      "cell_type": "markdown",
      "source": [
        "# <Anonymized BootCamp>, Intro to Data Science, Day 7 — More Regression!\n",
        "\n",
        "## Assignment\n",
        "\n",
        "### 1. Experiment with Nearest Neighbor parameter\n",
        "\n",
        "Using the same 10 training data points from the lesson, train a `KNeighborsRegressor` model with `n_neighbors=1`.\n",
        "\n",
        "Use both `carat` and `cut` features.\n",
        "\n",
        "Calculate the mean absolute error on the training data and on the test data."
      ]
    },
    {
      "metadata": {
        "id": "CKsxHHzmmyXP",
        "colab_type": "code",
        "colab": {}
      },
      "cell_type": "code",
      "source": [
        "%matplotlib inline\n",
        "import matplotlib.pyplot as plt\n",
        "import pandas as pd\n",
        "from sklearn.neighbors import KNeighborsRegressor as knr\n",
        "from sklearn.metrics import mean_absolute_error\n",
        "\n",
        "\n",
        "columns = ['carat', 'cut', 'price']\n",
        "\n",
        "train = pd.DataFrame(columns=columns, \n",
        "        data=[[0.3, 'Ideal', 422],\n",
        "        [0.31, 'Ideal', 489],\n",
        "        [0.42, 'Premium', 737],\n",
        "        [0.5, 'Ideal', 1415],\n",
        "        [0.51, 'Premium', 1177],\n",
        "        [0.7, 'Fair', 1865],\n",
        "        [0.73, 'Fair', 2351],\n",
        "        [1.01, 'Good', 3768],\n",
        "        [1.18, 'Very Good', 3965],\n",
        "        [1.18, 'Ideal', 4838]])\n",
        "\n",
        "test  = pd.DataFrame(columns=columns, \n",
        "        data=[[0.3, 'Ideal', 432],\n",
        "        [0.34, 'Ideal', 687],\n",
        "        [0.37, 'Premium', 1124],\n",
        "        [0.4, 'Good', 720],\n",
        "        [0.51, 'Ideal', 1397],\n",
        "        [0.51, 'Very Good', 1284],\n",
        "        [0.59, 'Ideal', 1437],\n",
        "        [0.7, 'Ideal', 3419],\n",
        "        [0.9, 'Premium', 3484],\n",
        "        [0.9, 'Fair', 2964]])\n",
        "\n",
        "cut_ranks = {'Fair': 1, 'Good': 2, 'Very Good': 3, 'Premium': 4, 'Ideal': 5}\n",
        "train.cut = train.cut.map(cut_ranks)\n",
        "test.cut = test.cut.map(cut_ranks)"
      ],
      "execution_count": 0,
      "outputs": []
    },
    {
      "metadata": {
        "id": "4MrRasT_myXT",
        "colab_type": "code",
        "outputId": "720c2647-b3a3-4852-8318-86cc4b102788",
        "colab": {
          "base_uri": "https://localhost:8080/",
          "height": 204
        }
      },
      "cell_type": "code",
      "source": [
        "#WHAT DOES TRAIN.CUT AND TEST.CUT LOOK LIKE?\n",
        "print(' ' , ['train','test'])\n",
        "for i in range(max(len(train.cut), len(test.cut))):\n",
        "  print(i, [train.cut[i], test.cut[i]])"
      ],
      "execution_count": 2,
      "outputs": [
        {
          "output_type": "stream",
          "text": [
            "  ['train', 'test']\n",
            "0 [5, 5]\n",
            "1 [5, 5]\n",
            "2 [4, 4]\n",
            "3 [5, 2]\n",
            "4 [4, 5]\n",
            "5 [1, 3]\n",
            "6 [1, 5]\n",
            "7 [2, 5]\n",
            "8 [3, 4]\n",
            "9 [5, 1]\n"
          ],
          "name": "stdout"
        }
      ]
    },
    {
      "metadata": {
        "id": "6TalJhNKca5o",
        "colab_type": "code",
        "outputId": "30b8fdba-7b90-4042-b535-d057975370e4",
        "colab": {
          "base_uri": "https://localhost:8080/",
          "height": 68
        }
      },
      "cell_type": "code",
      "source": [
        "#CREATE NEAREST NEIGHBORS MODEL, K=1\n",
        "model = knr(n_neighbors = 1)\n",
        "features = ['carat', 'cut']\n",
        "target = 'price'\n",
        "model.fit(train[features], train[target])"
      ],
      "execution_count": 3,
      "outputs": [
        {
          "output_type": "execute_result",
          "data": {
            "text/plain": [
              "KNeighborsRegressor(algorithm='auto', leaf_size=30, metric='minkowski',\n",
              "          metric_params=None, n_jobs=None, n_neighbors=1, p=2,\n",
              "          weights='uniform')"
            ]
          },
          "metadata": {
            "tags": []
          },
          "execution_count": 3
        }
      ]
    },
    {
      "metadata": {
        "id": "0irv_oKsd10E",
        "colab_type": "code",
        "outputId": "acd3c661-0f23-4a80-9c2d-43e1266c5a52",
        "colab": {
          "base_uri": "https://localhost:8080/",
          "height": 238
        }
      },
      "cell_type": "code",
      "source": [
        "#WHAT DOES ACTUAL & PREDICTED TRAIN.PRICE VALUES LOOK LIKE (BASED ON CARAT & CUT)?\n",
        "y_true = train[target]\n",
        "y_pred = model.predict(train[features])\n",
        "train_error = mean_absolute_error(y_true, y_pred)\n",
        "\n",
        "print(' ' , ['Act','Pred'])\n",
        "for i in range(len(y_true)):\n",
        "  print(i, [y_true[i], y_pred[i]] ) \n",
        "print('')\n",
        "print('Train Error: ' +str(train_error))"
      ],
      "execution_count": 4,
      "outputs": [
        {
          "output_type": "stream",
          "text": [
            "  ['Act', 'Pred']\n",
            "0 [422, 422.0]\n",
            "1 [489, 489.0]\n",
            "2 [737, 737.0]\n",
            "3 [1415, 1415.0]\n",
            "4 [1177, 1177.0]\n",
            "5 [1865, 1865.0]\n",
            "6 [2351, 2351.0]\n",
            "7 [3768, 3768.0]\n",
            "8 [3965, 3965.0]\n",
            "9 [4838, 4838.0]\n",
            "\n",
            "Train Error: 0.0\n"
          ],
          "name": "stdout"
        }
      ]
    },
    {
      "metadata": {
        "id": "0c9xj1dufDXf",
        "colab_type": "text"
      },
      "cell_type": "markdown",
      "source": [
        "**Andrew: This is makes sense to me because for each training data point, because k=1, the model is going to predict the value for that data point using just that same data point.**"
      ]
    },
    {
      "metadata": {
        "id": "kD7GTBIMfUho",
        "colab_type": "code",
        "outputId": "ca5ff827-710f-4ff3-e1b6-943021608d77",
        "colab": {
          "base_uri": "https://localhost:8080/",
          "height": 238
        }
      },
      "cell_type": "code",
      "source": [
        "#WHAT DOES ACTUAL & PREDICTED TEST.PRICE VALUES LOOK LIKE (BASED ON CARAT & CUT)?\n",
        "y_true = test[target]\n",
        "y_pred = model.predict(test[features])\n",
        "test_error = mean_absolute_error(y_true, y_pred)\n",
        "\n",
        "print(' ' , ['Act','Pred'])\n",
        "for i in range(len(y_true)):\n",
        "  print(i, [y_true[i], y_pred[i]])\n",
        "print('')\n",
        "print('Test Error: ' +str(test_error))"
      ],
      "execution_count": 5,
      "outputs": [
        {
          "output_type": "stream",
          "text": [
            "  ['Act', 'Pred']\n",
            "0 [432, 422.0]\n",
            "1 [687, 489.0]\n",
            "2 [1124, 737.0]\n",
            "3 [720, 3768.0]\n",
            "4 [1397, 1415.0]\n",
            "5 [1284, 3965.0]\n",
            "6 [1437, 1415.0]\n",
            "7 [3419, 1415.0]\n",
            "8 [3484, 1177.0]\n",
            "9 [2964, 2351.0]\n",
            "\n",
            "Test Error: 1128.8\n"
          ],
          "name": "stdout"
        }
      ]
    },
    {
      "metadata": {
        "id": "NQQveVK9myXV",
        "colab_type": "text"
      },
      "cell_type": "markdown",
      "source": [
        "How does the train error and test error compare to the previous `KNeighborsRegressor` model from the lesson? (The previous model used `n_neighbors=2` and only the `carat` feature.)\n",
        "\n",
        "Is this new model overfitting or underfitting? Why do you think this is happening here? \n",
        "\n"
      ]
    },
    {
      "metadata": {
        "id": "ByethwmLjFvW",
        "colab_type": "text"
      },
      "cell_type": "markdown",
      "source": [
        "**Andrew:  *Note suprisingly, since the model \"overfitted\" the training data, there is a large amount of test error in spite of the 0.0 train error. As I mentioned above, this is because for each training data point, because k=1, the model is going to predict the value for that data point using just that same data point. The model is too rigid.**"
      ]
    },
    {
      "metadata": {
        "id": "zQJDW1-QmyXW",
        "colab_type": "text"
      },
      "cell_type": "markdown",
      "source": [
        "### 2. More data, two features, linear regression\n",
        "\n",
        "Use the following code to load data for diamonds under $5,000, and split the data into train and test sets. The training data has almost 30,000 rows, and the test data has almost 10,000 rows."
      ]
    },
    {
      "metadata": {
        "id": "IDXEn8lvmyXW",
        "colab_type": "code",
        "outputId": "ee148cf0-e157-4503-c52e-2b01d4999f79",
        "colab": {
          "base_uri": "https://localhost:8080/",
          "height": 34
        }
      },
      "cell_type": "code",
      "source": [
        "import seaborn as sns\n",
        "from sklearn.linear_model import LinearRegression\n",
        "from sklearn.model_selection import train_test_split as tts\n",
        "\n",
        "df = sns.load_dataset('diamonds')\n",
        "df = df[df.price < 5000]\n",
        "train, test = tts(df.copy(), random_state=0)\n",
        "train.shape, test.shape\n"
      ],
      "execution_count": 6,
      "outputs": [
        {
          "output_type": "execute_result",
          "data": {
            "text/plain": [
              "((29409, 10), (9804, 10))"
            ]
          },
          "metadata": {
            "tags": []
          },
          "execution_count": 6
        }
      ]
    },
    {
      "metadata": {
        "id": "kiqZyifNEuU9",
        "colab_type": "code",
        "outputId": "3d9262e8-3f17-4c5c-b086-2101c4568067",
        "colab": {
          "base_uri": "https://localhost:8080/",
          "height": 119
        }
      },
      "cell_type": "code",
      "source": [
        "#REMINDER OF WHAT THE TRAIN DATA LOOKS LIKE\n",
        "print(train.head())"
      ],
      "execution_count": 7,
      "outputs": [
        {
          "output_type": "stream",
          "text": [
            "       carat        cut color clarity  depth  table  price     x     y     z\n",
            "43601   0.31  Very Good     E     SI1   61.2   58.0    507  4.34  4.38  2.67\n",
            "52706   0.74       Fair     H     VS2   66.1   61.0   2553  5.60  5.57  3.69\n",
            "1986    0.81  Very Good     G     SI1   62.3   59.0   3095  5.93  5.98  3.71\n",
            "48617   0.70       Fair     G     SI2   61.5   66.0   1999  5.55  5.60  3.43\n",
            "10947   0.87      Ideal     G     VS2   61.8   56.0   4899  6.11  6.13  3.78\n"
          ],
          "name": "stdout"
        }
      ]
    },
    {
      "metadata": {
        "id": "1VZ7PH6nmyXZ",
        "colab_type": "text"
      },
      "cell_type": "markdown",
      "source": [
        "Then, train a Linear Regression model with the `carat` and `cut` features. Calculate the mean absolute error on the training data and on the test data."
      ]
    },
    {
      "metadata": {
        "id": "eOA5W-LNqAOO",
        "colab_type": "code",
        "colab": {}
      },
      "cell_type": "code",
      "source": [
        "#MAP CUT RANKS TO INTEGERS\n",
        "\n",
        "cut_ranks = {'Fair': 1, 'Good': 2, 'Very Good': 3, 'Premium': 4, 'Ideal': 5}\n",
        "train.cut = train.cut.map(cut_ranks)\n",
        "test.cut = test.cut.map(cut_ranks)"
      ],
      "execution_count": 0,
      "outputs": []
    },
    {
      "metadata": {
        "id": "XCTsEqZtmyXZ",
        "colab_type": "code",
        "outputId": "ceb5a7e2-284b-4c3b-bbd2-2d95bbaf3a61",
        "colab": {
          "base_uri": "https://localhost:8080/",
          "height": 51
        }
      },
      "cell_type": "code",
      "source": [
        "#CREATE LINEAR REGRESSION MODEL \n",
        "model = LinearRegression()\n",
        "features = ['carat', 'cut']\n",
        "target = 'price'\n",
        "\n",
        "model.fit(train[features], train[target])\n"
      ],
      "execution_count": 9,
      "outputs": [
        {
          "output_type": "execute_result",
          "data": {
            "text/plain": [
              "LinearRegression(copy_X=True, fit_intercept=True, n_jobs=None,\n",
              "         normalize=False)"
            ]
          },
          "metadata": {
            "tags": []
          },
          "execution_count": 9
        }
      ]
    },
    {
      "metadata": {
        "id": "UJuTqCDQDITN",
        "colab_type": "code",
        "outputId": "eb4c2d24-f886-4dd5-ced3-b209b252b7e8",
        "colab": {
          "base_uri": "https://localhost:8080/",
          "height": 119
        }
      },
      "cell_type": "code",
      "source": [
        "#CHECK WHAT THE TRAIN DATA LOOKS LIKE NOW\n",
        "print(train.head())"
      ],
      "execution_count": 10,
      "outputs": [
        {
          "output_type": "stream",
          "text": [
            "       carat  cut color clarity  depth  table  price     x     y     z\n",
            "43601   0.31    3     E     SI1   61.2   58.0    507  4.34  4.38  2.67\n",
            "52706   0.74    1     H     VS2   66.1   61.0   2553  5.60  5.57  3.69\n",
            "1986    0.81    3     G     SI1   62.3   59.0   3095  5.93  5.98  3.71\n",
            "48617   0.70    1     G     SI2   61.5   66.0   1999  5.55  5.60  3.43\n",
            "10947   0.87    5     G     VS2   61.8   56.0   4899  6.11  6.13  3.78\n"
          ],
          "name": "stdout"
        }
      ]
    },
    {
      "metadata": {
        "id": "_UvrtY1HB4Il",
        "colab_type": "code",
        "outputId": "397283fd-e11b-4e6b-e207-e856b5e41a52",
        "colab": {
          "base_uri": "https://localhost:8080/",
          "height": 51
        }
      },
      "cell_type": "code",
      "source": [
        "#CALCULATE TRAIN ABSOLUTE ERROR - PRICE VS CARAT,CUT\n",
        "y_train_true = train[target]\n",
        "y_train_pred = model.predict(train[features])\n",
        "train_error = mean_absolute_error(y_train_true, y_train_pred)\n",
        "\n",
        "#CALCULATE TEST ABSOLUTE ERROR - PRICE VS CARAT,CUT\n",
        "y_test_true = test[target]\n",
        "y_test_pred = model.predict(test[features])\n",
        "test_error = mean_absolute_error(y_test_true, y_test_pred)\n",
        "\n",
        "print(\"Train Error: \" + str(train_error))\n",
        "print(\"Test Error: \" + str(test_error))"
      ],
      "execution_count": 11,
      "outputs": [
        {
          "output_type": "stream",
          "text": [
            "Train Error: 309.46586653861294\n",
            "Test Error: 309.5202765379711\n"
          ],
          "name": "stdout"
        }
      ]
    },
    {
      "metadata": {
        "id": "1ZHKvD7dFtcB",
        "colab_type": "text"
      },
      "cell_type": "markdown",
      "source": [
        "**Andrew: I'm impressed how close those errors are to each other! This makes sense to me since it's based on so much data.**"
      ]
    },
    {
      "metadata": {
        "id": "4jLEcukVmyXb",
        "colab_type": "text"
      },
      "cell_type": "markdown",
      "source": [
        "Use this model to predict the price of a half carat diamond with \"very good\" cut"
      ]
    },
    {
      "metadata": {
        "id": "m1pDzeLZmyXb",
        "colab_type": "code",
        "outputId": "3c9ab0e7-9056-4e8e-a8e6-717b05ed6c5f",
        "colab": {
          "base_uri": "https://localhost:8080/",
          "height": 34
        }
      },
      "cell_type": "code",
      "source": [
        "#PREDICT PRICE BASED ON CARAT AND CUT QUALITY  - ONE INSTANCE\n",
        "carat = 0.5\n",
        "cut_str = 'Very Good'\n",
        "cut = cut_ranks[cut_str]\n",
        "print('Predicted price for ' + str(carat) + ' carat & ' + str(cut_str) \n",
        "      + ' cut quality: $' + str(model.predict([[carat,cut]])))"
      ],
      "execution_count": 12,
      "outputs": [
        {
          "output_type": "stream",
          "text": [
            "Predicted price for 0.5 carat & Very Good cut quality: $[1489.45526366]\n"
          ],
          "name": "stdout"
        }
      ]
    },
    {
      "metadata": {
        "id": "tJNHIJ2Ltnwc",
        "colab_type": "code",
        "outputId": "0f8f649f-c5f9-4fd7-86ef-9af7a95158bb",
        "colab": {
          "base_uri": "https://localhost:8080/",
          "height": 374
        }
      },
      "cell_type": "code",
      "source": [
        "#SANITY CHECK FOR ME, IS THE ABOVE A REASONABLE PREDICTION?\n",
        "\n",
        "#filter by carart\n",
        "f_carat = df[df.carat == carat]\n",
        "\n",
        "#filter by cut\n",
        "f_cut = f_carat[f_carat.cut == 'Very Good']\n",
        "f_cut = f_cut.sort_values(by='carat')\n",
        "print(f_cut.head(20))\n"
      ],
      "execution_count": 13,
      "outputs": [
        {
          "output_type": "stream",
          "text": [
            "       carat        cut color clarity  depth  table  price     x     y     z\n",
            "3343     0.5  Very Good     D      IF   62.9   59.0   3378  4.99  5.09  3.17\n",
            "44856    0.5  Very Good     D     VS2   63.4   57.0   1627  5.05  5.08  3.21\n",
            "44855    0.5  Very Good     D     VS2   62.8   60.0   1627  5.02  5.08  3.17\n",
            "44820    0.5  Very Good     G     VS1   62.1   55.0   1624  5.06  5.22  3.19\n",
            "44818    0.5  Very Good     E     VS2   62.9   59.0   1624  5.06  5.09  3.19\n",
            "44810    0.5  Very Good     G     VS1   61.0   59.0   1624  5.09  5.14  3.12\n",
            "44805    0.5  Very Good     E     VS2   61.3   59.0   1624  5.05  5.10  3.11\n",
            "44803    0.5  Very Good     E     VS2   61.8   58.0   1624  5.05  5.11  3.14\n",
            "44865    0.5  Very Good     D     VS2   61.2   56.0   1628  5.14  5.16  3.15\n",
            "44802    0.5  Very Good     E     VS2   61.3   58.0   1624  5.06  5.12  3.12\n",
            "44798    0.5  Very Good     G     VS1   59.4   60.0   1624  5.13  5.17  3.06\n",
            "44796    0.5  Very Good     E     VS2   61.5   56.0   1624  5.07  5.11  3.13\n",
            "44794    0.5  Very Good     E     VS2   62.8   57.0   1624  5.04  5.12  3.19\n",
            "44792    0.5  Very Good     E     VS2   61.1   61.0   1624  5.11  5.13  3.13\n",
            "44790    0.5  Very Good     E     VS2   61.4   59.0   1624  5.09  5.13  3.14\n",
            "44784    0.5  Very Good     E     VS2   61.2   63.0   1623  5.14  5.09  3.13\n",
            "44720    0.5  Very Good     F     VS2   61.4   59.0   1615  5.10  5.12  3.14\n",
            "44799    0.5  Very Good     E     VS2   62.7   54.0   1624  5.07  5.10  3.19\n",
            "44886    0.5  Very Good     E     VS2   60.0   63.0   1629  5.12  5.08  3.06\n",
            "44893    0.5  Very Good     E     VS2   63.5   54.0   1629  5.08  5.03  3.21\n"
          ],
          "name": "stdout"
        }
      ]
    },
    {
      "metadata": {
        "id": "eB-7wzRjmyXe",
        "colab_type": "text"
      },
      "cell_type": "markdown",
      "source": [
        "### 3. More data, more features, any model"
      ]
    },
    {
      "metadata": {
        "id": "OCauk9z2myXf",
        "colab_type": "text"
      },
      "cell_type": "markdown",
      "source": [
        "You choose what features and model type to use! Try to get a better mean absolute error on the test set than your model from the last question."
      ]
    },
    {
      "metadata": {
        "id": "nWVpkz8dmyXf",
        "colab_type": "text"
      },
      "cell_type": "markdown",
      "source": [
        "Refer to [this documentation](https://ggplot2.tidyverse.org/reference/diamonds.html) for more explanation of the features.\n",
        "\n",
        "Besides `cut`, there are two more ordinal features, which you'd need to encode as numbers if you want to use in your model:"
      ]
    },
    {
      "metadata": {
        "id": "54K95PyEmyXf",
        "colab_type": "code",
        "outputId": "17c749c8-ba43-4ade-8d90-9364ebb6218e",
        "colab": {
          "base_uri": "https://localhost:8080/",
          "height": 173
        }
      },
      "cell_type": "code",
      "source": [
        "train.describe(include=['object'])"
      ],
      "execution_count": 14,
      "outputs": [
        {
          "output_type": "execute_result",
          "data": {
            "text/html": [
              "<div>\n",
              "<style scoped>\n",
              "    .dataframe tbody tr th:only-of-type {\n",
              "        vertical-align: middle;\n",
              "    }\n",
              "\n",
              "    .dataframe tbody tr th {\n",
              "        vertical-align: top;\n",
              "    }\n",
              "\n",
              "    .dataframe thead th {\n",
              "        text-align: right;\n",
              "    }\n",
              "</style>\n",
              "<table border=\"1\" class=\"dataframe\">\n",
              "  <thead>\n",
              "    <tr style=\"text-align: right;\">\n",
              "      <th></th>\n",
              "      <th>color</th>\n",
              "      <th>clarity</th>\n",
              "    </tr>\n",
              "  </thead>\n",
              "  <tbody>\n",
              "    <tr>\n",
              "      <th>count</th>\n",
              "      <td>29409</td>\n",
              "      <td>29409</td>\n",
              "    </tr>\n",
              "    <tr>\n",
              "      <th>unique</th>\n",
              "      <td>7</td>\n",
              "      <td>8</td>\n",
              "    </tr>\n",
              "    <tr>\n",
              "      <th>top</th>\n",
              "      <td>E</td>\n",
              "      <td>SI1</td>\n",
              "    </tr>\n",
              "    <tr>\n",
              "      <th>freq</th>\n",
              "      <td>6090</td>\n",
              "      <td>6948</td>\n",
              "    </tr>\n",
              "  </tbody>\n",
              "</table>\n",
              "</div>"
            ],
            "text/plain": [
              "        color clarity\n",
              "count   29409   29409\n",
              "unique      7       8\n",
              "top         E     SI1\n",
              "freq     6090    6948"
            ]
          },
          "metadata": {
            "tags": []
          },
          "execution_count": 14
        }
      ]
    },
    {
      "metadata": {
        "id": "rupiO55bpeip",
        "colab_type": "code",
        "colab": {}
      },
      "cell_type": "code",
      "source": [
        "#CONVERT CLARITY AND COLOR TO INTEGERS FOR TRAIN DATA\n",
        "clarity_rank = {\"IF\":0,\"VVS1\":1, \"VVS2\":2,\"VS1\":3, \"VS2\":4,\"SI1\":5, \"SI2\":6, \"I1\":7}\n",
        "color_rank = {\"J\":7, \"I\":6, \"H\":5, \"G\":4, \"F\":3, \"E\":2, \"D\":1 }\n",
        "\n",
        "train.clarity = train.clarity.map(clarity_rank) \n",
        "train.color = train.color.map(color_rank)\n",
        "\n",
        "#CONVERT CLARITY AND COLOR TO INTEGERS FOR THE TEST DATA\n",
        "test.clarity = test.clarity.map(clarity_rank)\n",
        "test.color = test.color.map(color_rank)"
      ],
      "execution_count": 0,
      "outputs": []
    },
    {
      "metadata": {
        "id": "e-UP4RpmWIYb",
        "colab_type": "code",
        "outputId": "f9be4a35-f37f-4f78-b276-02b77fadd99d",
        "colab": {
          "base_uri": "https://localhost:8080/",
          "height": 595
        }
      },
      "cell_type": "code",
      "source": [
        "#CHECKPOINT - DOES THE DATA LOOK RIGHT?\n",
        "print(test.head())\n",
        "print(test.isnull().sum())\n",
        "print(train.head())\n",
        "print(train.isnull().sum())"
      ],
      "execution_count": 16,
      "outputs": [
        {
          "output_type": "stream",
          "text": [
            "       carat  cut  color  clarity  depth  table  price     x     y     z\n",
            "9742    1.20    5      7        6   61.7   56.0   4659  6.79  6.87  4.21\n",
            "9374    0.32    5      6        1   62.5   55.0    589  4.37  4.40  2.74\n",
            "10683   1.01    5      3        6   62.7   57.0   4843  6.36  6.39  4.00\n",
            "4589    1.01    2      7        4   62.8   58.0   3655  6.30  6.35  3.97\n",
            "2196    0.90    2      2        6   63.4   62.0   3139  6.00  6.02  3.81\n",
            "carat      0\n",
            "cut        0\n",
            "color      0\n",
            "clarity    0\n",
            "depth      0\n",
            "table      0\n",
            "price      0\n",
            "x          0\n",
            "y          0\n",
            "z          0\n",
            "dtype: int64\n",
            "       carat  cut  color  clarity  depth  table  price     x     y     z\n",
            "43601   0.31    3      2        5   61.2   58.0    507  4.34  4.38  2.67\n",
            "52706   0.74    1      5        4   66.1   61.0   2553  5.60  5.57  3.69\n",
            "1986    0.81    3      4        5   62.3   59.0   3095  5.93  5.98  3.71\n",
            "48617   0.70    1      4        6   61.5   66.0   1999  5.55  5.60  3.43\n",
            "10947   0.87    5      4        4   61.8   56.0   4899  6.11  6.13  3.78\n",
            "carat      0\n",
            "cut        0\n",
            "color      0\n",
            "clarity    0\n",
            "depth      0\n",
            "table      0\n",
            "price      0\n",
            "x          0\n",
            "y          0\n",
            "z          0\n",
            "dtype: int64\n"
          ],
          "name": "stdout"
        }
      ]
    },
    {
      "metadata": {
        "id": "zQASMmiHUg-n",
        "colab_type": "code",
        "outputId": "eb9c9c0b-72ee-40dd-8fc4-1fee8ec5ef94",
        "colab": {
          "base_uri": "https://localhost:8080/",
          "height": 629
        }
      },
      "cell_type": "code",
      "source": [
        "from sklearn.pipeline import make_pipeline\n",
        "from sklearn.preprocessing import PolynomialFeatures\n",
        "\n",
        "#CREATE MODEL - DEFINE FEATURES & MODEL\n",
        "features3 = ['carat','clarity']\n",
        "\n",
        "for n in range(1,13):      #CHOOSE N-DEGREES HERE\n",
        "  target3 = ['price']\n",
        "  model3 = make_pipeline(PolynomialFeatures(degree=n), LinearRegression())\n",
        "  #model3 = make_pipeline(knr(n_neighbors=n))\n",
        "  model3.fit(train[features3],train[target3])\n",
        "\n",
        "#CALCULATE TRAINING ERROR\n",
        "  y3_train_true = train[target3]\n",
        "  y3_train_pred = model3.predict(train[features3])\n",
        "  train3_error = mean_absolute_error(y3_train_true, y3_train_pred)\n",
        "\n",
        "#CALCULATE TEST ERROR\n",
        "  y3_test_true = test[target3]\n",
        "  y3_test_pred = model3.predict(test[features3])\n",
        "  test3_error = mean_absolute_error(y3_test_true, y3_test_pred)\n",
        "  \n",
        "  print('Poly degree = ' + str(n))\n",
        "  print('Train error: ' + str(train3_error))\n",
        "  print('Test error: ' + str(test3_error))"
      ],
      "execution_count": 17,
      "outputs": [
        {
          "output_type": "stream",
          "text": [
            "Poly degree = 1\n",
            "Train error: 275.2655373468392\n",
            "Test error: 277.1366277761029\n",
            "Poly degree = 2\n",
            "Train error: 265.95922717693406\n",
            "Test error: 269.0307649852026\n",
            "Poly degree = 3\n",
            "Train error: 231.54625637823963\n",
            "Test error: 234.00827371362365\n",
            "Poly degree = 4\n",
            "Train error: 229.59751922966666\n",
            "Test error: 232.48735358760447\n",
            "Poly degree = 5\n",
            "Train error: 225.40781623187647\n",
            "Test error: 228.57704872190365\n",
            "Poly degree = 6\n",
            "Train error: 224.0968923233701\n",
            "Test error: 227.43857181456644\n",
            "Poly degree = 7\n",
            "Train error: 222.9775461213722\n",
            "Test error: 226.1173117594289\n",
            "Poly degree = 8\n",
            "Train error: 221.3747324243301\n",
            "Test error: 224.31572911086545\n",
            "Poly degree = 9\n",
            "Train error: 219.90953983237884\n",
            "Test error: 223.18580451511133\n",
            "Poly degree = 10\n",
            "Train error: 220.0088266401906\n",
            "Test error: 223.11644305630296\n",
            "Poly degree = 11\n",
            "Train error: 223.63519368882405\n",
            "Test error: 227.82317593280703\n",
            "Poly degree = 12\n",
            "Train error: 219.85686920928777\n",
            "Test error: 223.39862746179094\n"
          ],
          "name": "stdout"
        }
      ]
    },
    {
      "metadata": {
        "id": "Zy1RcjHVqDhB",
        "colab_type": "text"
      },
      "cell_type": "markdown",
      "source": [
        "###carat +color = ~292 @ degree = 18 for Train & Test!\n",
        "##carat+clarity = ~223 @ degree = 13 for Train & Test!"
      ]
    },
    {
      "metadata": {
        "id": "xZ8Dy87tm59Y",
        "colab_type": "code",
        "colab": {
          "base_uri": "https://localhost:8080/",
          "height": 297
        },
        "outputId": "4cabf91e-6896-4494-d7f4-3d08e4cbbf6b"
      },
      "cell_type": "code",
      "source": [
        "from sklearn.metrics import accuracy_score\n",
        "#poly_test_acc = accuracy_score(y3_test_true, y3_test_pred)\n",
        "train.describe()"
      ],
      "execution_count": 25,
      "outputs": [
        {
          "output_type": "execute_result",
          "data": {
            "text/html": [
              "<div>\n",
              "<style scoped>\n",
              "    .dataframe tbody tr th:only-of-type {\n",
              "        vertical-align: middle;\n",
              "    }\n",
              "\n",
              "    .dataframe tbody tr th {\n",
              "        vertical-align: top;\n",
              "    }\n",
              "\n",
              "    .dataframe thead th {\n",
              "        text-align: right;\n",
              "    }\n",
              "</style>\n",
              "<table border=\"1\" class=\"dataframe\">\n",
              "  <thead>\n",
              "    <tr style=\"text-align: right;\">\n",
              "      <th></th>\n",
              "      <th>carat</th>\n",
              "      <th>cut</th>\n",
              "      <th>color</th>\n",
              "      <th>clarity</th>\n",
              "      <th>depth</th>\n",
              "      <th>table</th>\n",
              "      <th>price</th>\n",
              "      <th>x</th>\n",
              "      <th>y</th>\n",
              "      <th>z</th>\n",
              "    </tr>\n",
              "  </thead>\n",
              "  <tbody>\n",
              "    <tr>\n",
              "      <th>count</th>\n",
              "      <td>29409.000000</td>\n",
              "      <td>29409.000000</td>\n",
              "      <td>29409.000000</td>\n",
              "      <td>29409.000000</td>\n",
              "      <td>29409.000000</td>\n",
              "      <td>29409.000000</td>\n",
              "      <td>29409.000000</td>\n",
              "      <td>29409.000000</td>\n",
              "      <td>29409.000000</td>\n",
              "      <td>29409.000000</td>\n",
              "    </tr>\n",
              "    <tr>\n",
              "      <th>mean</th>\n",
              "      <td>0.572621</td>\n",
              "      <td>3.921385</td>\n",
              "      <td>3.411643</td>\n",
              "      <td>3.852698</td>\n",
              "      <td>61.764184</td>\n",
              "      <td>57.334574</td>\n",
              "      <td>1912.448842</td>\n",
              "      <td>5.212862</td>\n",
              "      <td>5.218321</td>\n",
              "      <td>3.221193</td>\n",
              "    </tr>\n",
              "    <tr>\n",
              "      <th>std</th>\n",
              "      <td>0.259543</td>\n",
              "      <td>1.135751</td>\n",
              "      <td>1.666277</td>\n",
              "      <td>1.705320</td>\n",
              "      <td>1.424072</td>\n",
              "      <td>2.269379</td>\n",
              "      <td>1326.834107</td>\n",
              "      <td>0.771722</td>\n",
              "      <td>0.779769</td>\n",
              "      <td>0.510568</td>\n",
              "    </tr>\n",
              "    <tr>\n",
              "      <th>min</th>\n",
              "      <td>0.200000</td>\n",
              "      <td>1.000000</td>\n",
              "      <td>1.000000</td>\n",
              "      <td>0.000000</td>\n",
              "      <td>43.000000</td>\n",
              "      <td>43.000000</td>\n",
              "      <td>326.000000</td>\n",
              "      <td>0.000000</td>\n",
              "      <td>3.680000</td>\n",
              "      <td>0.000000</td>\n",
              "    </tr>\n",
              "    <tr>\n",
              "      <th>25%</th>\n",
              "      <td>0.340000</td>\n",
              "      <td>3.000000</td>\n",
              "      <td>2.000000</td>\n",
              "      <td>3.000000</td>\n",
              "      <td>61.100000</td>\n",
              "      <td>56.000000</td>\n",
              "      <td>802.000000</td>\n",
              "      <td>4.490000</td>\n",
              "      <td>4.500000</td>\n",
              "      <td>2.770000</td>\n",
              "    </tr>\n",
              "    <tr>\n",
              "      <th>50%</th>\n",
              "      <td>0.510000</td>\n",
              "      <td>4.000000</td>\n",
              "      <td>3.000000</td>\n",
              "      <td>4.000000</td>\n",
              "      <td>61.800000</td>\n",
              "      <td>57.000000</td>\n",
              "      <td>1412.000000</td>\n",
              "      <td>5.140000</td>\n",
              "      <td>5.140000</td>\n",
              "      <td>3.180000</td>\n",
              "    </tr>\n",
              "    <tr>\n",
              "      <th>75%</th>\n",
              "      <td>0.730000</td>\n",
              "      <td>5.000000</td>\n",
              "      <td>5.000000</td>\n",
              "      <td>5.000000</td>\n",
              "      <td>62.500000</td>\n",
              "      <td>59.000000</td>\n",
              "      <td>2825.000000</td>\n",
              "      <td>5.800000</td>\n",
              "      <td>5.810000</td>\n",
              "      <td>3.590000</td>\n",
              "    </tr>\n",
              "    <tr>\n",
              "      <th>max</th>\n",
              "      <td>1.740000</td>\n",
              "      <td>5.000000</td>\n",
              "      <td>7.000000</td>\n",
              "      <td>7.000000</td>\n",
              "      <td>79.000000</td>\n",
              "      <td>79.000000</td>\n",
              "      <td>4999.000000</td>\n",
              "      <td>7.620000</td>\n",
              "      <td>31.800000</td>\n",
              "      <td>31.800000</td>\n",
              "    </tr>\n",
              "  </tbody>\n",
              "</table>\n",
              "</div>"
            ],
            "text/plain": [
              "              carat           cut         color       clarity         depth  \\\n",
              "count  29409.000000  29409.000000  29409.000000  29409.000000  29409.000000   \n",
              "mean       0.572621      3.921385      3.411643      3.852698     61.764184   \n",
              "std        0.259543      1.135751      1.666277      1.705320      1.424072   \n",
              "min        0.200000      1.000000      1.000000      0.000000     43.000000   \n",
              "25%        0.340000      3.000000      2.000000      3.000000     61.100000   \n",
              "50%        0.510000      4.000000      3.000000      4.000000     61.800000   \n",
              "75%        0.730000      5.000000      5.000000      5.000000     62.500000   \n",
              "max        1.740000      5.000000      7.000000      7.000000     79.000000   \n",
              "\n",
              "              table         price             x             y             z  \n",
              "count  29409.000000  29409.000000  29409.000000  29409.000000  29409.000000  \n",
              "mean      57.334574   1912.448842      5.212862      5.218321      3.221193  \n",
              "std        2.269379   1326.834107      0.771722      0.779769      0.510568  \n",
              "min       43.000000    326.000000      0.000000      3.680000      0.000000  \n",
              "25%       56.000000    802.000000      4.490000      4.500000      2.770000  \n",
              "50%       57.000000   1412.000000      5.140000      5.140000      3.180000  \n",
              "75%       59.000000   2825.000000      5.800000      5.810000      3.590000  \n",
              "max       79.000000   4999.000000      7.620000     31.800000     31.800000  "
            ]
          },
          "metadata": {
            "tags": []
          },
          "execution_count": 25
        }
      ]
    },
    {
      "metadata": {
        "id": "sC0OnBBSN4hr",
        "colab_type": "text"
      },
      "cell_type": "markdown",
      "source": [
        "You choose what features and model type to use! Try to get a better mean absolute error on the test set than your model from the last question."
      ]
    }
  ]
}
